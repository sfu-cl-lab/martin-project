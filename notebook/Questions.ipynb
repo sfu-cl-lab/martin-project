{
 "cells": [
  {
   "cell_type": "code",
   "execution_count": 2,
   "metadata": {},
   "outputs": [],
   "source": [
    "import pandas as pd\n",
    "import numpy as np\n",
    "import pickle\n",
    "from sklearn import metrics"
   ]
  },
  {
   "cell_type": "code",
   "execution_count": 3,
   "metadata": {},
   "outputs": [],
   "source": [
    "vb = pd.read_csv(\"../data/vb_data_3_numZone.csv\")\n",
    "vb_c = pd.read_csv(\"../data/vb_data_3_categZone.csv\")\n",
    "q_values_raw = pickle.load(open('../output/q_values_new.pkl', 'rb'))\n",
    "q_values = np.asarray([q_values_raw[i,0] for i in range(len(q_values_raw))])\n",
    "# clipping\n",
    "q_values[q_values>1] = 1\n",
    "q_values[q_values<-1] = -1\n",
    "y_prob_tree = pickle.load(open('../output/y_probabilities_tree.pkl', 'rb'))\n",
    "q_tree = y_prob_tree[:,1]*2 - 1\n",
    "q_mimic = pickle.load(open('../output/q_values_mimictree.pkl', 'rb'))\n",
    "q_forest = pickle.load(open('../output/q_forest.pkl', 'rb'))\n",
    "q_nnreg = pickle.load(open('../output/nn_regr.pkl', 'rb'))"
   ]
  },
  {
   "cell_type": "code",
   "execution_count": 4,
   "metadata": {},
   "outputs": [],
   "source": [
    "# fix team names\n",
    "vb.loc[vb.PlayerTeam=='TWU', 'PlayerTeam'] = 'Trinity Western'\n",
    "vb.loc[vb.PlayerTeam=='TRU', 'PlayerTeam'] = 'Thompson Rivers'\n",
    "vb.loc[vb.PlayerTeam=='MRU', 'PlayerTeam'] = 'Mount Royal'"
   ]
  },
  {
   "cell_type": "markdown",
   "metadata": {},
   "source": [
    "##### Basic Miscellaneous"
   ]
  },
  {
   "cell_type": "code",
   "execution_count": 4,
   "metadata": {},
   "outputs": [
    {
     "name": "stdout",
     "output_type": "stream",
     "text": [
      "34371 total rallies\n"
     ]
    }
   ],
   "source": [
    "n = 0\n",
    "prevDist = -1\n",
    "for i in range(len(vb)):\n",
    "    if vb.RewardDistance[i] >= prevDist:\n",
    "        n += 1\n",
    "    prevDist = vb.RewardDistance[i]\n",
    "print(n, 'total rallies')"
   ]
  },
  {
   "cell_type": "code",
   "execution_count": 8,
   "metadata": {},
   "outputs": [
    {
     "name": "stdout",
     "output_type": "stream",
     "text": [
      "Cross entropy loss for NN: 0.428\n",
      "Cross entropy loss for Tree: 0.435\n",
      "\n",
      "\n",
      "Mean squared error for NN: 0.603\n",
      "Mean squared error for Tree: 0.613\n",
      "Mean squared error for regressor NN: 0.606\n",
      "\n",
      "\n",
      "ROC-AUC score for NN: 0.854\n",
      "ROC-AUC score for Tree: 0.849\n"
     ]
    }
   ],
   "source": [
    "from sklearn import metrics\n",
    "true_prob = np.zeros([len(vb),2])\n",
    "true_prob[:,0] = .5-.5*vb.RewardValue\n",
    "true_prob[:,1] = 1 - true_prob[:,0]\n",
    "nn_prob = np.zeros([len(vb),2])\n",
    "nn_prob[:,0] = .5-.5*q_values\n",
    "nn_prob[:,1] = 1 - nn_prob[:,0]\n",
    "\n",
    "print('Cross entropy loss for NN: %.3f' % (metrics.log_loss(true_prob,nn_prob,eps=1e-4)))\n",
    "print('Cross entropy loss for Tree: %.3f' % (metrics.log_loss(true_prob,y_prob_tree,eps=1e-4)))\n",
    "print('\\n')\n",
    "print('Mean squared error for NN: %.3f' % (metrics.mean_squared_error(vb.RewardValue,q_values)))\n",
    "print('Mean squared error for Tree: %.3f' % (metrics.mean_squared_error(vb.RewardValue,q_tree)))\n",
    "print('Mean squared error for regressor NN: %.3f' % (metrics.mean_squared_error(vb.RewardValue,q_nnreg)))\n",
    "print('\\n')\n",
    "print('ROC-AUC score for NN: %.3f' % (metrics.roc_auc_score(true_prob,nn_prob)))\n",
    "print('ROC-AUC score for Tree: %.3f' % (metrics.roc_auc_score(true_prob,y_prob_tree)))"
   ]
  },
  {
   "cell_type": "markdown",
   "metadata": {},
   "source": [
    "##### Set by Location"
   ]
  },
  {
   "cell_type": "code",
   "execution_count": 3,
   "metadata": {},
   "outputs": [
    {
     "name": "stdout",
     "output_type": "stream",
     "text": [
      "\n",
      "Home set by execution zone:\n",
      "3A: avg probability 65.6% (actual 67.0% out of 1700)\n",
      "3B: avg probability 69.6% (actual 72.6% out of 2108)\n",
      "3C: avg probability 67.5% (actual 68.4% out of 757)\n",
      "3D: avg probability 65.1% (actual 62.7% out of 644)\n",
      "2A: avg probability 62.4% (actual 62.2% out of 201)\n",
      "2B: avg probability 64.8% (actual 61.7% out of 154)\n",
      "2C: avg probability 68.8% (actual 70.6% out of 646)\n",
      "2D: avg probability 65.3% (actual 67.4% out of 651)\n",
      "4A: avg probability 63.4% (actual 63.1% out of 168)\n",
      "4B: avg probability 64.9% (actual 68.3% out of 167)\n",
      "4C: avg probability 62.7% (actual 60.0% out of 10)\n",
      "4D: avg probability 59.8% (actual 38.5% out of 13)\n",
      "9B: avg probability 56.5% (actual 45.5% out of 33)\n",
      "9C: avg probability 57.0% (actual 57.3% out of 117)\n",
      "8B: avg probability 57.5% (actual 61.4% out of 197)\n",
      "8C: avg probability 56.5% (actual 65.7% out of 108)\n",
      "7B: avg probability 56.4% (actual 50.0% out of 48)\n",
      "7C: avg probability 58.9% (actual 66.7% out of 3)\n",
      "\n",
      "Home receive by end zone:\n",
      "3A: avg probability 65.0% (actual 65.3% out of 2277)\n",
      "3B: avg probability 69.6% (actual 72.4% out of 2366)\n",
      "3C: avg probability 67.3% (actual 68.1% out of 759)\n",
      "3D: avg probability 64.6% (actual 62.7% out of 644)\n",
      "2A: avg probability 61.2% (actual 62.2% out of 201)\n",
      "2B: avg probability 63.9% (actual 61.7% out of 154)\n",
      "2C: avg probability 68.3% (actual 70.6% out of 646)\n",
      "2D: avg probability 64.6% (actual 67.4% out of 650)\n",
      "4A: avg probability 63.0% (actual 63.1% out of 168)\n",
      "4B: avg probability 64.1% (actual 68.3% out of 167)\n",
      "4C: avg probability 60.8% (actual 60.0% out of 10)\n",
      "4D: avg probability 59.1% (actual 38.5% out of 13)\n",
      "9B: avg probability 55.0% (actual 45.5% out of 33)\n",
      "9C: avg probability 54.8% (actual 57.3% out of 117)\n",
      "8B: avg probability 56.0% (actual 61.4% out of 197)\n",
      "8C: avg probability 55.3% (actual 67.0% out of 106)\n",
      "7B: avg probability 54.7% (actual 50.0% out of 48)\n",
      "7C: avg probability 57.9% (actual 66.7% out of 3)\n"
     ]
    }
   ],
   "source": [
    "print('\\nHome set by execution zone:')\n",
    "for zone in ['3A','3B','3C','3D','2A','2B','2C','2D','4A','4B','4C','4D','9B','9C','8B','8C','7B','7C']:\n",
    "    cond = (vb_c['ActionType0']=='E') & (vb_c['ActionHome0']==1) & (vb_c['ActionStartZone0']=='Z'+zone)\n",
    "    print('%s: avg probability %.1f%% (actual %.1f%% out of %d)' % \\\n",
    "          (zone, 50+50*np.mean(q_values[cond], axis=0), 50+50*np.mean(vb_c.RewardValue[cond], axis=0), sum(cond)))\n",
    "    \n",
    "print('\\nHome receive by end zone:')\n",
    "for zone in ['3A','3B','3C','3D','2A','2B','2C','2D','4A','4B','4C','4D','9B','9C','8B','8C','7B','7C']:\n",
    "    cond = (vb_c['ActionType0']=='R') & (vb_c['ActionHome0']==1) & (vb_c['ActionEndZone0']=='Z'+zone)\n",
    "    print('%s: avg probability %.1f%% (actual %.1f%% out of %d)' % \\\n",
    "          (zone, 50+50*np.mean(q_values[cond], axis=0), 50+50*np.mean(vb_c.RewardValue[cond], axis=0), sum(cond))) "
   ]
  },
  {
   "cell_type": "markdown",
   "metadata": {},
   "source": [
    "##### R# and R+ actions by score"
   ]
  },
  {
   "cell_type": "code",
   "execution_count": 17,
   "metadata": {},
   "outputs": [
    {
     "name": "stdout",
     "output_type": "stream",
     "text": [
      "\n",
      "Home R# by score:\n",
      "5: avg probability 70.5% (from data: 73.1% out of 453)\n",
      "10: avg probability 70.5% (from data: 72.1% out of 498)\n",
      "15: avg probability 70.7% (from data: 70.7% out of 543)\n",
      "20: avg probability 70.7% (from data: 72.3% out of 519)\n",
      "25: avg probability 71.2% (from data: 73.4% out of 508)\n",
      "\n",
      "Home R+ by score:\n",
      "5: avg probability 65.0% (from data: 68.5% out of 951)\n",
      "10: avg probability 65.0% (from data: 65.2% out of 1044)\n",
      "15: avg probability 65.0% (from data: 65.1% out of 1129)\n",
      "20: avg probability 65.1% (from data: 64.0% out of 1100)\n",
      "25: avg probability 65.2% (from data: 68.0% out of 1055)\n",
      "\n",
      "Home R# by score diff:\n",
      "-4: avg probability 71.9% (from data: 73.0% out of 89)\n",
      "-3: avg probability 71.7% (from data: 66.0% out of 162)\n",
      "-2: avg probability 71.2% (from data: 69.7% out of 234)\n",
      "-1: avg probability 71.0% (from data: 71.7% out of 258)\n",
      "0: avg probability 70.8% (from data: 71.7% out of 406)\n",
      "1: avg probability 70.3% (from data: 70.6% out of 367)\n",
      "2: avg probability 70.1% (from data: 74.8% out of 278)\n",
      "3: avg probability 69.7% (from data: 73.9% out of 184)\n",
      "4: avg probability 69.7% (from data: 76.9% out of 117)\n",
      "\n",
      "Home R+ by score:\n",
      "-4: avg probability 66.7% (from data: 65.9% out of 258)\n",
      "-3: avg probability 66.2% (from data: 65.1% out of 335)\n",
      "-2: avg probability 65.9% (from data: 71.6% out of 443)\n",
      "-1: avg probability 65.6% (from data: 66.8% out of 539)\n",
      "0: avg probability 65.2% (from data: 69.9% out of 794)\n",
      "1: avg probability 64.8% (from data: 65.9% out of 822)\n",
      "2: avg probability 64.3% (from data: 63.4% out of 514)\n",
      "3: avg probability 63.9% (from data: 62.5% out of 352)\n",
      "4: avg probability 63.6% (from data: 64.1% out of 273)\n"
     ]
    }
   ],
   "source": [
    "print('\\nHome R# by score:')\n",
    "for score in range(5,26,5): #['Z3','Z4','Z2','Z9','Z8']:\n",
    "    cond = (vb['ActionType0']=='R') & (vb['ActionOutcome0']=='#') & (vb['ActionHome0']==1) & (vb['ScoreMax']<score) & (vb['ScoreMax']>=score-5)\n",
    "    print('%s: avg probability %.1f%% (from data: %.1f%% out of %d)' % \\\n",
    "          (score, 50+50*np.mean(q_values[cond], axis=0), 50+50*np.mean(vb_c.RewardValue[cond], axis=0), sum(cond)))\n",
    "\n",
    "print('\\nHome R+ by score:')\n",
    "for score in range(5,26,5): #['Z3','Z4','Z2','Z9','Z8']:\n",
    "    cond = (vb['ActionType0']=='R') & (vb['ActionOutcome0']=='+') & (vb['ActionHome0']==1) & (vb['ScoreMax']<score) & (vb['ScoreMax']>=score-5)\n",
    "    print('%s: avg probability %.1f%% (from data: %.1f%% out of %d)' % \\\n",
    "          (score, 50+50*np.mean(q_values[cond], axis=0), 50+50*np.mean(vb_c.RewardValue[cond], axis=0), sum(cond)))\n",
    "    \n",
    "print('\\nHome R# by score diff:')\n",
    "for diff in range(-4,5):\n",
    "    cond = (vb['ActionType0']=='R') & (vb['ActionOutcome0']=='#') & (vb['ActionHome0']==1) & (vb['ScoreDiff']==diff)\n",
    "    print('%s: avg probability %.1f%% (from data: %.1f%% out of %d)' % \\\n",
    "          (diff, 50+50*np.mean(q_values[cond], axis=0), 50+50*np.mean(vb_c.RewardValue[cond], axis=0), sum(cond)))\n",
    "\n",
    "print('\\nHome R+ by score:')\n",
    "for diff in range(-4,5):\n",
    "    cond = (vb['ActionType0']=='R') & (vb['ActionOutcome0']=='+') & (vb['ActionHome0']==1) & (vb['ScoreDiff']==diff)\n",
    "    print('%s: avg probability %.1f%% (from data: %.1f%% out of %d)' % \\\n",
    "          (diff, 50+50*np.mean(q_values[cond], axis=0), 50+50*np.mean(vb_c.RewardValue[cond], axis=0), sum(cond)))"
   ]
  },
  {
   "cell_type": "markdown",
   "metadata": {},
   "source": [
    "##### Float and Spin Serve by Score"
   ]
  },
  {
   "cell_type": "code",
   "execution_count": 60,
   "metadata": {},
   "outputs": [
    {
     "name": "stdout",
     "output_type": "stream",
     "text": [
      "Home float avg probability 39.2% (from data: 39.8% out of 12489)\n",
      "Home spin avg probability 37.6% (from data: 38.0% out of 5081)\n",
      "Away float avg probability 37.6% (from data: 37.1% out of 12197)\n",
      "Away spin avg probability 34.2% (from data: 33.6% out of 4604)\n",
      "\n",
      "Home float serve by score:\n",
      "5: avg probability 40.1% (from data: 40.8% out of 2291)\n",
      "10: avg probability 39.4% (from data: 40.4% out of 2400)\n",
      "15: avg probability 38.8% (from data: 39.3% out of 2581)\n",
      "20: avg probability 39.2% (from data: 38.7% out of 2480)\n",
      "25: avg probability 38.4% (from data: 39.9% out of 2600)\n",
      "\n",
      "Home spin serve by score:\n",
      "5: avg probability 37.9% (from data: 39.1% out of 818)\n",
      "10: avg probability 38.2% (from data: 38.0% out of 1204)\n",
      "15: avg probability 37.3% (from data: 37.3% out of 1083)\n",
      "20: avg probability 37.4% (from data: 39.6% out of 974)\n",
      "25: avg probability 37.7% (from data: 37.1% out of 950)\n",
      "\n",
      "Home float serve by score diff:\n",
      "-4: avg probability 40.4% (from data: 41.1% out of 880)\n",
      "-3: avg probability 40.2% (from data: 39.3% out of 1193)\n",
      "-2: avg probability 40.8% (from data: 41.8% out of 1454)\n",
      "-1: avg probability 39.8% (from data: 39.3% out of 1896)\n",
      "0: avg probability 38.4% (from data: 39.1% out of 1788)\n",
      "1: avg probability 38.1% (from data: 40.6% out of 1024)\n",
      "2: avg probability 37.0% (from data: 37.6% out of 761)\n",
      "3: avg probability 37.9% (from data: 41.1% out of 513)\n",
      "4: avg probability 35.6% (from data: 33.9% out of 380)\n",
      "\n",
      "Home spin serve by score diff:\n",
      "-4: avg probability 39.6% (from data: 43.1% out of 360)\n",
      "-3: avg probability 40.4% (from data: 41.3% out of 509)\n",
      "-2: avg probability 39.7% (from data: 40.8% out of 574)\n",
      "-1: avg probability 37.4% (from data: 38.6% out of 699)\n",
      "0: avg probability 34.4% (from data: 34.2% out of 740)\n",
      "1: avg probability 40.0% (from data: 38.9% out of 416)\n",
      "2: avg probability 35.3% (from data: 33.9% out of 289)\n",
      "3: avg probability 36.4% (from data: 35.4% out of 192)\n",
      "4: avg probability 32.5% (from data: 25.9% out of 143)\n"
     ]
    }
   ],
   "source": [
    "cond = (vb['ActionType0']=='S') & (vb['ActionSpeed0']==-1) & (vb['ActionHome0']==1)\n",
    "print('Home float avg probability %.1f%% (from data: %.1f%% out of %d)' % \\\n",
    "          (50+50*np.mean(q_values[cond], axis=0), 50+50*np.mean(vb_c.RewardValue[cond], axis=0), sum(cond)))\n",
    "cond = (vb['ActionType0']=='S') & (vb['ActionSpeed0']==1) & (vb['ActionHome0']==1)\n",
    "print('Home spin avg probability %.1f%% (from data: %.1f%% out of %d)' % \\\n",
    "          (50+50*np.mean(q_values[cond], axis=0), 50+50*np.mean(vb_c.RewardValue[cond], axis=0), sum(cond)))\n",
    "cond = (vb['ActionType0']=='S') & (vb['ActionSpeed0']==-1) & (vb['ActionAway0']==1)\n",
    "print('Away float avg probability %.1f%% (from data: %.1f%% out of %d)' % \\\n",
    "          (50-50*np.mean(q_values[cond], axis=0), 50-50*np.mean(vb_c.RewardValue[cond], axis=0), sum(cond)))\n",
    "cond = (vb['ActionType0']=='S') & (vb['ActionSpeed0']==1) & (vb['ActionAway0']==1)\n",
    "print('Away spin avg probability %.1f%% (from data: %.1f%% out of %d)' % \\\n",
    "          (50-50*np.mean(q_values[cond], axis=0), 50-50*np.mean(vb_c.RewardValue[cond], axis=0), sum(cond)))\n",
    "\n",
    "print('\\nHome float serve by score:')\n",
    "for score in range(5,26,5): #['Z3','Z4','Z2','Z9','Z8']:\n",
    "    cond = (vb['ActionType0']=='S') & (vb['ActionSpeed0']==-1) & (vb['ActionHome0']==1) & (vb['ScoreMax']<score) & (vb['ScoreMax']>=score-5)\n",
    "    print('%s: avg probability %.1f%% (from data: %.1f%% out of %d)' % \\\n",
    "          (score, 50+50*np.mean(q_values[cond], axis=0), 50+50*np.mean(vb_c.RewardValue[cond], axis=0), sum(cond)))\n",
    "\n",
    "print('\\nHome spin serve by score:')\n",
    "for score in range(5,26,5): #['Z3','Z4','Z2','Z9','Z8']:\n",
    "    cond = (vb['ActionType0']=='S') & (vb['ActionSpeed0']==1) & (vb['ActionHome0']==1) & (vb['ScoreMax']<score) & (vb['ScoreMax']>=score-5)\n",
    "    print('%s: avg probability %.1f%% (from data: %.1f%% out of %d)' % \\\n",
    "          (score, 50+50*np.mean(q_values[cond], axis=0), 50+50*np.mean(vb_c.RewardValue[cond], axis=0), sum(cond)))\n",
    "    \n",
    "print('\\nHome float serve by score diff:')\n",
    "for diff in range(-4,5):\n",
    "    cond = (vb['ActionType0']=='S') & (vb['ActionSpeed0']==-1) & (vb['ActionHome0']==1) & (vb['ScoreDiff']==diff)\n",
    "    print('%s: avg probability %.1f%% (from data: %.1f%% out of %d)' % \\\n",
    "          (diff, 50+50*np.mean(q_values[cond], axis=0), 50+50*np.mean(vb_c.RewardValue[cond], axis=0), sum(cond)))\n",
    "\n",
    "print('\\nHome spin serve by score diff:')\n",
    "for diff in range(-4,5):\n",
    "    cond = (vb['ActionType0']=='S') & (vb['ActionSpeed0']==1) & (vb['ActionHome0']==1) & (vb['ScoreDiff']==diff)\n",
    "    print('%s: avg probability %.1f%% (from data: %.1f%% out of %d)' % \\\n",
    "          (diff, 50+50*np.mean(q_values[cond], axis=0), 50+50*np.mean(vb_c.RewardValue[cond], axis=0), sum(cond)))"
   ]
  },
  {
   "cell_type": "markdown",
   "metadata": {},
   "source": [
    "##### Middle set by score"
   ]
  },
  {
   "cell_type": "code",
   "execution_count": 37,
   "metadata": {},
   "outputs": [
    {
     "name": "stdout",
     "output_type": "stream",
     "text": [
      "\n",
      "Home middle set by score:\n",
      "5: avg probability 67.8% (from data: 74.7% out of 95)\n",
      "10: avg probability 67.6% (from data: 73.7% out of 118)\n",
      "15: avg probability 67.4% (from data: 63.8% out of 152)\n",
      "20: avg probability 68.0% (from data: 61.5% out of 122)\n",
      "25: avg probability 67.7% (from data: 75.0% out of 104)\n"
     ]
    }
   ],
   "source": [
    "print('\\nHome middle set by score:')\n",
    "for score in range(5,26,5):\n",
    "    cond = (vb_c['ActionType0']=='E') & \\\n",
    "           (vb_c['ActionHome0']==1) & \\\n",
    "           (vb_c['ActionEndZone0']=='Z'+zone) & \\\n",
    "           (vb['ScoreMax']<score) & (vb['ScoreMax']>=score-5)\n",
    "    print('%s: avg probability %.1f%% (from data: %.1f%% out of %d)' % \\\n",
    "          (score, 50+50*np.mean(q_values[cond], axis=0), 50+50*np.mean(vb_c.RewardValue[cond], axis=0), sum(cond)))"
   ]
  },
  {
   "cell_type": "markdown",
   "metadata": {},
   "source": [
    "##### Attack by trajectory"
   ]
  },
  {
   "cell_type": "code",
   "execution_count": 55,
   "metadata": {},
   "outputs": [
    {
     "name": "stdout",
     "output_type": "stream",
     "text": [
      "Home left side attack by end zone:\n",
      "1: avg probability 63.9% (from data: 65.7% out of 1480)\n",
      "6: avg probability 56.8% (from data: 56.8% out of 1825)\n",
      "5: avg probability 61.9% (from data: 61.5% out of 1498)\n",
      "7: avg probability 68.2% (from data: 69.3% out of 1177)\n",
      "3: avg probability 58.0% (from data: 58.1% out of 1867)\n",
      "\n",
      "Home right side attack by end zone:\n",
      "5: avg probability 70.9% (from data: 71.2% out of 688)\n",
      "6: avg probability 58.8% (from data: 59.1% out of 731)\n",
      "1: avg probability 62.7% (from data: 61.4% out of 661)\n",
      "9: avg probability 69.9% (from data: 72.0% out of 528)\n",
      "3: avg probability 59.1% (from data: 59.1% out of 633)\n",
      "\n",
      "Home left side high ball attack by end zone:\n",
      "1: avg probability 55.1% (from data: 57.0% out of 402)\n",
      "6: avg probability 51.6% (from data: 51.6% out of 696)\n",
      "5: avg probability 53.6% (from data: 53.4% out of 577)\n",
      "7: avg probability 56.5% (from data: 58.4% out of 250)\n",
      "3: avg probability 54.1% (from data: 53.8% out of 766)\n"
     ]
    }
   ],
   "source": [
    "print('Home left side attack by end zone:')\n",
    "for zone in ['1','6','5','7','3']:\n",
    "    cond = (vb_c['ActionType0']=='A') & \\\n",
    "           (vb_c['ActionHome0']==1) & \\\n",
    "           (vb_c['ActionStartZone0']=='Z4') & \\\n",
    "           ((vb_c['ActionEndZone0']=='Z'+zone) | \\\n",
    "           (vb_c['ActionEndZone0']=='Z'+zone+'A') | \\\n",
    "           (vb_c['ActionEndZone0']=='Z'+zone+'B') | \\\n",
    "           (vb_c['ActionEndZone0']=='Z'+zone+'C') | \\\n",
    "           (vb_c['ActionEndZone0']=='Z'+zone+'D'))\n",
    "    print('%s: avg probability %.1f%% (from data: %.1f%% out of %d)' % \\\n",
    "          (zone, 50+50*np.mean(q_values[cond], axis=0), 50+50*np.mean(vb_c.RewardValue[cond], axis=0), sum(cond)))\n",
    "    \n",
    "print('\\nHome right side attack by end zone:')\n",
    "for zone in ['5','6','1','9','3']:\n",
    "    cond = (vb_c['ActionType0']=='A') & \\\n",
    "           (vb_c['ActionHome0']==1) & \\\n",
    "           (vb_c['ActionStartZone0']=='Z2') & \\\n",
    "           ((vb_c['ActionEndZone0']=='Z'+zone) | \\\n",
    "           (vb_c['ActionEndZone0']=='Z'+zone+'A') | \\\n",
    "           (vb_c['ActionEndZone0']=='Z'+zone+'B') | \\\n",
    "           (vb_c['ActionEndZone0']=='Z'+zone+'C') | \\\n",
    "           (vb_c['ActionEndZone0']=='Z'+zone+'D'))\n",
    "    print('%s: avg probability %.1f%% (from data: %.1f%% out of %d)' % \\\n",
    "          (zone, 50+50*np.mean(q_values[cond], axis=0), 50+50*np.mean(vb_c.RewardValue[cond], axis=0), sum(cond)))\n",
    "\n",
    "print('\\nHome left side high ball attack by end zone:')\n",
    "for zone in ['1','6','5','7','3']:\n",
    "    cond = (vb_c['ActionType0']=='A') & \\\n",
    "           (vb_c['ActionHome0']==1) & \\\n",
    "           (vb_c['ActionSpeed0']==-1) & \\\n",
    "           (vb_c['ActionStartZone0']=='Z4') & \\\n",
    "           ((vb_c['ActionEndZone0']=='Z'+zone) | \\\n",
    "           (vb_c['ActionEndZone0']=='Z'+zone+'A') | \\\n",
    "           (vb_c['ActionEndZone0']=='Z'+zone+'B') | \\\n",
    "           (vb_c['ActionEndZone0']=='Z'+zone+'C') | \\\n",
    "           (vb_c['ActionEndZone0']=='Z'+zone+'D'))\n",
    "    print('%s: avg probability %.1f%% (from data: %.1f%% out of %d)' % \\\n",
    "          (zone, 50+50*np.mean(q_values[cond], axis=0), 50+50*np.mean(vb_c.RewardValue[cond], axis=0), sum(cond)))"
   ]
  },
  {
   "cell_type": "markdown",
   "metadata": {},
   "source": [
    "##### Serve risk"
   ]
  },
  {
   "cell_type": "code",
   "execution_count": 15,
   "metadata": {},
   "outputs": [
    {
     "name": "stdout",
     "output_type": "stream",
     "text": [
      "\n",
      "Home - serve by score:\n",
      "5: avg probability 36.1% (from data: 35.9% out of 1408)\n",
      "10: avg probability 35.9% (from data: 36.1% out of 1569)\n",
      "15: avg probability 35.4% (from data: 35.4% out of 1652)\n",
      "20: avg probability 35.2% (from data: 33.4% out of 1573)\n",
      "25: avg probability 34.8% (from data: 36.3% out of 1643)\n",
      "\n",
      "Home ! serve by score:\n",
      "5: avg probability 44.3% (from data: 46.9% out of 356)\n",
      "10: avg probability 44.6% (from data: 42.5% out of 409)\n",
      "15: avg probability 44.8% (from data: 46.9% out of 426)\n",
      "20: avg probability 45.2% (from data: 41.7% out of 417)\n",
      "25: avg probability 45.6% (from data: 45.9% out of 429)\n",
      "\n",
      "Home + serve by score:\n",
      "5: avg probability 61.1% (from data: 61.9% out of 591)\n",
      "10: avg probability 61.6% (from data: 63.1% out of 637)\n",
      "15: avg probability 61.2% (from data: 59.1% out of 638)\n",
      "20: avg probability 61.1% (from data: 66.7% out of 591)\n",
      "25: avg probability 61.2% (from data: 58.7% out of 595)\n"
     ]
    },
    {
     "data": {
      "image/png": "[encoded data removed]",
      "text/plain": [
       "<Figure size 648x432 with 1 Axes>"
      ]
     },
     "metadata": {
      "needs_background": "light"
     },
     "output_type": "display_data"
    }
   ],
   "source": [
    "values = np.zeros([5,3])\n",
    "print('\\nHome - serve by score:')\n",
    "i = 0\n",
    "for score in range(5,26,5):\n",
    "    cond = (vb['ActionType0']=='S') & (vb['ActionOutcome0']=='-') & (vb['ActionHome0']==1) & (vb['ScoreMax']<score) & (vb['ScoreMax']>=score-5)\n",
    "    print('%s: avg probability %.1f%% (from data: %.1f%% out of %d)' % \\\n",
    "          (score, 50+50*np.mean(q_values[cond], axis=0), 50+50*np.mean(vb_c.RewardValue[cond], axis=0), sum(cond)))\n",
    "    values[i,0] = 50+50*np.mean(q_values[cond])\n",
    "    i+=1\n",
    "\n",
    "print('\\nHome ! serve by score:')\n",
    "i = 0\n",
    "for score in range(5,26,5):\n",
    "    cond = (vb['ActionType0']=='S') & (vb['ActionOutcome0']=='!') & (vb['ActionHome0']==1) & (vb['ScoreMax']<score) & (vb['ScoreMax']>=score-5)\n",
    "    print('%s: avg probability %.1f%% (from data: %.1f%% out of %d)' % \\\n",
    "          (score, 50+50*np.mean(q_values[cond], axis=0), 50+50*np.mean(vb_c.RewardValue[cond], axis=0), sum(cond)))\n",
    "    values[i,1] = 50+50*np.mean(q_values[cond])\n",
    "    i+=1\n",
    "\n",
    "print('\\nHome + serve by score:')\n",
    "i = 0\n",
    "for score in range(5,26,5):\n",
    "    cond = (vb['ActionType0']=='S') & (vb['ActionOutcome0']=='+') & (vb['ActionHome0']==1) & (vb['ScoreMax']<score) & (vb['ScoreMax']>=score-5)\n",
    "    print('%s: avg probability %.1f%% (from data: %.1f%% out of %d)' % \\\n",
    "          (score, 50+50*np.mean(q_values[cond], axis=0), 50+50*np.mean(vb_c.RewardValue[cond], axis=0), sum(cond)))\n",
    "    values[i,2] = 50+50*np.mean(q_values[cond])\n",
    "    i+=1\n",
    "\n",
    "import matplotlib.pyplot as plt\n",
    "plt.figure(figsize=(9,6))\n",
    "plt.rcParams.update({'font.size': 13})\n",
    "plt.title('Serve Outcome Values')\n",
    "plt.ylabel('Point Scoring probability')\n",
    "plt.xlabel('Score')\n",
    "plt.grid(True)\n",
    "#plt.bar([5,10,15,20,25], values[:,2])\n",
    "plt.bar([4,9,14,19,24], values[:,1], width=2)\n",
    "plt.bar([6,11,16,21,26], values[:,0], width=2)\n",
    "plt.legend(['!','-'],loc='lower right')\n",
    "#plt.set_xticklabels(['1','2','3','4','5'])\n",
    "plt.ylim(30,46)\n",
    "plt.savefig('serve_risk.pdf', format='pdf')\n",
    "plt.show()"
   ]
  },
  {
   "cell_type": "markdown",
   "metadata": {},
   "source": [
    "##### Action impact calculation"
   ]
  },
  {
   "cell_type": "code",
   "execution_count": 23,
   "metadata": {},
   "outputs": [
    {
     "name": "stdout",
     "output_type": "stream",
     "text": [
      "Impact calculation completed\n"
     ]
    }
   ],
   "source": [
    "n = 0\n",
    "prevDist = -1\n",
    "prevQ = 0\n",
    "impact = np.zeros(len(vb))\n",
    "\n",
    "home_default = np.mean(q_values[(vb.ActionHome0==1)&(vb.ActionType0=='S')])\n",
    "away_default = np.mean(q_values[(vb.ActionAway0==1)&(vb.ActionType0=='S')])\n",
    "\n",
    "for i in range(len(vb)): \n",
    "    if vb.RewardDistance[i] < prevDist:\n",
    "        prevQ = q_values[i-1]\n",
    "    else:\n",
    "        if vb.ActionHome0[i]==1:\n",
    "            prevQ = home_default\n",
    "        else:\n",
    "            prevQ = away_default\n",
    "        \n",
    "    impact[i] = q_values[i]-prevQ\n",
    "    if vb.ActionAway0[i]==1:\n",
    "        impact[i] = -impact[i]\n",
    "        \n",
    "    prevDist = vb.RewardDistance[i]\n",
    "print('Impact calculation completed')"
   ]
  },
  {
   "cell_type": "code",
   "execution_count": 24,
   "metadata": {},
   "outputs": [
    {
     "name": "stdout",
     "output_type": "stream",
     "text": [
      "Trinity Western 0.021990894989918068\n",
      "Alberta 0.01753706740124083\n",
      "UBC 0.01244633869548906\n",
      "Brandon 0.00770061165276171\n",
      "Calgary 0.007284724454070618\n",
      "Winnipeg 0.005337009526988365\n",
      "Mount Royal -0.005266210850142896\n",
      "Manitoba -0.0066612710695622464\n",
      "MacEwan -0.012750662087863879\n",
      "Thompson Rivers -0.014423475582545526\n",
      "Saskatchewan -0.02102790581595337\n",
      "UBCO -0.023513611759727545\n"
     ]
    }
   ],
   "source": [
    "# Team impact\n",
    "player_impact = {}\n",
    "for player in vb.PlayerTeam.unique():\n",
    "    if len(vb[vb.PlayerTeam==player]) > 1500:\n",
    "        player_impact[player] = np.mean(impact[vb.PlayerTeam==player])\n",
    "    \n",
    "srt_impacts = {k: v for k, v in sorted(player_impact.items(), key=lambda item: item[1], reverse=True)}\n",
    "for k in srt_impacts.keys():\n",
    "    print(k, srt_impacts[k])"
   ]
  },
  {
   "cell_type": "code",
   "execution_count": 32,
   "metadata": {
    "scrolled": true
   },
   "outputs": [
    {
     "name": "stdout",
     "output_type": "stream",
     "text": [
      "Elliot Viles Brandon 0.08380732838525543\n",
      "Eric Loeppky Trinity Western 0.07963461484858884\n",
      "Jackson Kennedy Alberta 0.05796976035455367\n",
      "George Hobern Alberta 0.056649867873040285\n",
      "Hamish Hazelden Calgary 0.053891509370605835\n",
      "Joel Regher UBC 0.050914329299458036\n",
      "Daniel Thiessen Winnipeg 0.050391811001516434\n",
      "Gerard Murray UBC 0.04709647078297834\n",
      "Jordan Canham Alberta 0.045943474043689085\n",
      "Arran Chambers Alberta 0.04508211360353813\n",
      "Mitchell Higgin Calgary 0.04321791210858371\n",
      "Alex Bader Calgary 0.03991160260470837\n",
      "Jordan Deshane UBC 0.03820799074868263\n",
      "Tim Dobbert Thompson Rivers 0.038103840336830765\n",
      "Daulton Sinoski Winnipeg 0.03478670696837499\n",
      "Matthew Neaves UBC 0.033711699131702764\n",
      "Max Vriend MacEwan 0.03300118663428742\n",
      "Tim Taylor Calgary 0.03212605273740681\n",
      "Byron Keturakis UBC 0.030689269244402167\n",
      "Pearson Eshenko Trinity Western 0.026790265636566113\n",
      "Connor Murray Winnipeg 0.0245891198905175\n",
      "Tyler Schmidt Mount Royal 0.02439210828652932\n",
      "Alex McMullin Alberta 0.023338315355461693\n",
      "Fynn McCarthy UBC 0.023156133517120984\n",
      "Dylan Mortensen Winnipeg 0.020251475226323905\n",
      "Jacob Kern Trinity Western 0.019943298899593054\n",
      "Irvandeep Brar UBC 0.019482992929466716\n",
      "Mathew Guidi UBC 0.01870101048583597\n",
      "Jesse Elser Trinity Western 0.018166434763404023\n",
      "Michael Dowhaniuk UBC 0.01744786945934075\n",
      "Keith West UBC 0.017340468439814908\n",
      "Coltyn Liu UBC 0.016283524769903194\n",
      "Kai Hesthammer MacEwan 0.016270460681372823\n",
      "Liam Laidlaw Calgary 0.01541400147872672\n",
      "Ethan Duncan Winnipeg 0.013588804118696925\n",
      "Taryq Sani Alberta 0.013368385497339165\n",
      "Owen Schwartz Manitoba 0.010637682451469687\n",
      "Liam Kuppe Calgary 0.008836112014565335\n",
      "Seth Friesen Brandon 0.00826310012915189\n",
      "Luis Lange Mount Royal 0.00790529814905771\n",
      "Garrett Jones Winnipeg 0.00446299705728005\n",
      "Zec Johnson UBC 0.0036049063647884674\n",
      "Mac McNicol Calgary 0.0029936137470390574\n",
      "Dustin Spiring Manitoba 0.0029424398542077256\n",
      "Derek Epp Trinity Western 0.0009356437897055351\n",
      "Jackson Howe Trinity Western 0.00051402840157378\n",
      "Kevin Negus Manitoba 0.00023828324233919246\n",
      "Denham O'Reilly UBCO -0.0001473021929577199\n",
      "Carter Bergen Trinity Western -0.0002784891859502406\n",
      "Kyle Martens Manitoba -0.00042669382662727283\n",
      "Matt Saly Mount Royal -0.0005559187203696782\n",
      "Adam DeJonckheere Manitoba -0.0006108862621819271\n",
      "Darian Picklyk Winnipeg -0.001579531708926852\n",
      "Mikael Clegg Winnipeg -0.003180029623186976\n",
      "Mason Metcalf Brandon -0.004194697538754467\n",
      "Trent Mounter Mount Royal -0.004483285199162046\n",
      "Scott Vercaigne Manitoba -0.005240500062358021\n",
      "Blain Cranston Calgary -0.005517970384108284\n",
      "Adrian Dyck Winnipeg -0.005632940995035034\n",
      "Max Elgert Alberta -0.006079459022852863\n",
      "Brennan Goski UBCO -0.0065008844424240325\n",
      "Ben Hooker UBC -0.00666021044450358\n",
      "Anton Napolitano Thompson Rivers -0.006721060913996097\n",
      "Daniel Aspenlieder UBC -0.007885097013363106\n",
      "Colin Fraser Saskatchewan -0.00906285909055681\n",
      "Jack Mandryk Manitoba -0.010155207962878814\n",
      "Derek Meeuwisse Calgary -0.010609909812208924\n",
      "Luke Brisbane Alberta -0.010713011279035612\n",
      "Adam Schriemer Trinity Western -0.010973226151576167\n",
      "Nigel Nielsen Winnipeg -0.011058303505196012\n",
      "Jon Laube Manitoba -0.01243174321055828\n",
      "Keegan Teetaert Winnipeg -0.012990329907763573\n",
      "Jefferson Morrow MacEwan -0.014175099046893892\n",
      "CJ Gavlas Winnipeg -0.014261752169987763\n",
      "Tyson Smith UBC -0.017243327051368128\n",
      "Braedon Friesen Alberta -0.01926161731106842\n",
      "Carter McIntyre Alberta -0.020721690012074082\n",
      "Thomas Sorra Calgary -0.021779424342465527\n",
      "Brendan Warren Manitoba -0.022710134043180442\n",
      "Reece Dixon Brandon -0.023926594250334242\n",
      "Jordan Peters MacEwan -0.029030888211537424\n",
      "Keal Prince Mount Royal -0.02929670271110831\n",
      "Charlie Bringloe Thompson Rivers -0.03443255448817379\n",
      "Jake Fleming Brandon -0.0346554381176106\n",
      "Regan Fathers Calgary -0.03628673729960059\n",
      "Nick Mickelberry UBC -0.03931684617492013\n",
      "Tanner Grieves Mount Royal -0.04303565546053481\n"
     ]
    }
   ],
   "source": [
    "# Player impact\n",
    "player_impact = {}\n",
    "for player in vb.PlayerName.unique():\n",
    "    if len(vb[vb.PlayerName==player]) > 500:\n",
    "        player_impact[player] = np.mean(impact[vb.PlayerName==player])\n",
    "    \n",
    "srt_impacts = {k: v for k, v in sorted(player_impact.items(), key=lambda item: item[1], reverse=True)}\n",
    "for k in srt_impacts.keys():\n",
    "    print(k, vb.PlayerTeam[vb.PlayerName==k].iloc[0], srt_impacts[k])"
   ]
  },
  {
   "cell_type": "code",
   "execution_count": 59,
   "metadata": {},
   "outputs": [
    {
     "name": "stdout",
     "output_type": "stream",
     "text": [
      "S 0.008225415998385338\n",
      "R 0.0004132612417793642\n",
      "E -0.056165834987329924\n",
      "A 0.07156828746477645\n",
      "B -0.028465171267169638\n",
      "D -0.009190209054217987\n",
      "F -0.7499313103525262\n"
     ]
    }
   ],
   "source": [
    "for action in ['S','R','E','A','B','D','F']:\n",
    "    print(action, np.mean(impact[(vb.PlayerTeam=='Brandon')&(vb.ActionType0==action)]))"
   ]
  },
  {
   "cell_type": "markdown",
   "metadata": {},
   "source": [
    "#### Distance from end of rally comparison"
   ]
  },
  {
   "cell_type": "code",
   "execution_count": 19,
   "metadata": {},
   "outputs": [],
   "source": [
    "y_prob_tree = pickle.load(open('../output/y_probabilities_tree.pkl', 'rb'))\n",
    "y_prob_forest = pickle.load(open('../output/y_probabilities_forest.pkl', 'rb'))\n",
    "q_mimic = pickle.load(open('../output/q_values_mimictree.pkl', 'rb'))\n",
    "true_prob = np.zeros([len(vb),2])\n",
    "true_prob[:,0] = .5-.5*vb.RewardValue\n",
    "true_prob[:,1] = 1 - true_prob[:,0]\n",
    "nn_prob = np.zeros([len(vb),2])\n",
    "nn_prob[:,0] = .5-.5*q_values\n",
    "nn_prob[:,1] = 1 - nn_prob[:,0]\n",
    "mimic_prob = np.zeros([len(vb),2])\n",
    "mimic_prob[:,0] = .5-.5*q_mimic\n",
    "mimic_prob[:,1] = 1 - mimic_prob[:,0]\n",
    "nnreg_prob = np.zeros([len(vb),2])\n",
    "nnreg_prob[:,0] = .5-.5*q_nnreg\n",
    "nnreg_prob[:,1] = 1 - nnreg_prob[:,0]"
   ]
  },
  {
   "cell_type": "code",
   "execution_count": 20,
   "metadata": {},
   "outputs": [
    {
     "name": "stdout",
     "output_type": "stream",
     "text": [
      "0.5\n"
     ]
    }
   ],
   "source": [
    "print(metrics.accuracy_score([1,0],[1,1]))"
   ]
  },
  {
   "cell_type": "code",
   "execution_count": 28,
   "metadata": {},
   "outputs": [
    {
     "name": "stdout",
     "output_type": "stream",
     "text": [
      "Tree accuracy: 0.7492571037315988\n",
      "Forest accuracy: 0.8091680931187949\n",
      "NN accuracy: 0.7550770284149264\n",
      "Mimic accuracy: 0.752927079767203\n",
      "Regr NN accuracy: 0.7611708319068812\n",
      "\n",
      "Tree log loss: 0.43450887079737516\n",
      "Forest log loss: 0.40167714389611825\n",
      "NN log loss: 0.4282963028996521\n",
      "Mimic log loss: 0.43004899895525994\n",
      "Regr NN log loss: 0.42031432497524707\n"
     ]
    },
    {
     "data": {
      "image/png": "[encoded data removed]",
      "text/plain": [
       "<Figure size 864x648 with 1 Axes>"
      ]
     },
     "metadata": {
      "needs_background": "light"
     },
     "output_type": "display_data"
    }
   ],
   "source": [
    "import matplotlib.pyplot as plt\n",
    "accs_nn = []\n",
    "accs_tree = []\n",
    "accs_forest = []\n",
    "accs_mimic = []\n",
    "accs_nnreg = []\n",
    "max_dist = 10\n",
    "\n",
    "true_labels = np.argmax(true_prob, axis=1)\n",
    "tree_labels = np.argmax(y_prob_tree, axis=1)\n",
    "forest_labels = np.argmax(y_prob_forest, axis=1)\n",
    "nn_labels = np.argmax(nn_prob, axis=1)\n",
    "nnreg_labels = np.argmax(nnreg_prob, axis=1)\n",
    "mimic_labels = np.argmax(mimic_prob, axis=1)\n",
    "nnreg_labels = np.argmax(nnreg_prob, axis=1)\n",
    "\n",
    "print('Tree accuracy:', metrics.accuracy_score(true_labels, tree_labels))\n",
    "print('Forest accuracy:', metrics.accuracy_score(true_labels, forest_labels))\n",
    "print('NN accuracy:', metrics.accuracy_score(true_labels, nn_labels))\n",
    "print('Mimic accuracy:', metrics.accuracy_score(true_labels, mimic_labels))\n",
    "print('Regr NN accuracy:', metrics.accuracy_score(true_labels, nnreg_labels))\n",
    "\n",
    "print('\\nTree log loss:', metrics.log_loss(true_prob, y_prob_tree))\n",
    "print('Forest log loss:', metrics.log_loss(true_prob, y_prob_forest))\n",
    "print('NN log loss:', metrics.log_loss(true_prob, nn_prob))\n",
    "print('Mimic log loss:', metrics.log_loss(true_prob, mimic_prob))\n",
    "print('Regr NN log loss:', metrics.log_loss(true_prob, nnreg_prob))\n",
    "\n",
    "for dist in range(0,max_dist+1):\n",
    "    cond = (vb.RewardDistance == dist)\n",
    "    accs_tree.append(metrics.accuracy_score(true_labels[cond], tree_labels[cond]))\n",
    "    accs_forest.append(metrics.accuracy_score(true_labels[cond], forest_labels[cond]))\n",
    "    accs_nn.append(metrics.accuracy_score(true_labels[cond], nn_labels[cond]))\n",
    "    accs_mimic.append(metrics.accuracy_score(true_labels[cond], mimic_labels[cond]))\n",
    "    accs_nnreg.append(metrics.accuracy_score(true_labels[cond], nnreg_labels[cond]))\n",
    "plt.figure(figsize=(12,9))\n",
    "plt.rcParams.update({'font.size': 13})\n",
    "plt.title('Accuracy vs distance from end of rally')\n",
    "plt.grid(True)\n",
    "plt.xticks(range(0,max_dist+1))\n",
    "plt.xlabel('Distance from end of rally')\n",
    "plt.ylabel('Accuracy of away/home point classifier')\n",
    "plt.plot(range(0,max_dist+1), accs_nn,'o--')\n",
    "plt.plot(range(0,max_dist+1), accs_tree,'o--')\n",
    "plt.plot(range(0,max_dist+1), accs_forest,'o--')\n",
    "plt.plot(range(0,max_dist+1), accs_mimic,'o--')\n",
    "plt.plot(range(0,max_dist+1), accs_nnreg,'o--')\n",
    "plt.legend(['RL Neural Net.','Dec. Tree','Rand. Forest','Mimic Tree', 'Regr. Neural Net'])\n",
    "plt.savefig('acc_vs_dist.pdf', format='pdf')\n",
    "plt.show()"
   ]
  },
  {
   "cell_type": "code",
   "execution_count": 44,
   "metadata": {},
   "outputs": [
    {
     "data": {
      "image/png": "[encoded data removed]",
      "text/plain": [
       "<Figure size 864x576 with 1 Axes>"
      ]
     },
     "metadata": {
      "needs_background": "light"
     },
     "output_type": "display_data"
    },
    {
     "name": "stdout",
     "output_type": "stream",
     "text": [
      "[34371, 28031, 25693, 22448, 14871, 7735, 5088, 2884, 1893, 1109, 745, 457, 276, 155, 104, 65]\n"
     ]
    }
   ],
   "source": [
    "import matplotlib.pyplot as plt\n",
    "totals = []\n",
    "max_dist = 15\n",
    "for dist in range(0,max_dist+1):\n",
    "    cond = (vb.RewardDistance == dist)\n",
    "    totals.append(np.sum(cond))\n",
    "plt.figure(figsize=(12,8))\n",
    "plt.title('Number of data points vs distance from end of rally')\n",
    "plt.grid(True)\n",
    "plt.xticks(range(0,max_dist+1))\n",
    "plt.xlabel('Distance from end of rally')\n",
    "plt.ylabel('Total data points')\n",
    "plt.plot(range(0,max_dist+1), totals, 'bo-')\n",
    "plt.show()\n",
    "print(totals)"
   ]
  },
  {
   "cell_type": "code",
   "execution_count": 4,
   "metadata": {},
   "outputs": [],
   "source": [
    "q_values_raw_2 = pickle.load(open('../output_retry_15/q_values_before.pkl', 'rb'))\n",
    "q_values_2 = np.asarray([q_values_raw_2[i,0] for i in range(len(q_values_raw_2))])\n",
    "# clipping\n",
    "q_values_2[q_values_2>1] = 1\n",
    "q_values_2[q_values_2<-1] = -1"
   ]
  },
  {
   "cell_type": "code",
   "execution_count": 10,
   "metadata": {},
   "outputs": [
    {
     "name": "stdout",
     "output_type": "stream",
     "text": [
      "\n",
      "Skill: S\n",
      "Tree: 0.01584\n",
      "NN: 0.00006\n",
      "NN reg: 0.06208\n",
      "Forest: 0.01723\n",
      "Mimic: 0.00003\n",
      "\n",
      "Skill: R\n",
      "Tree: 0.01509\n",
      "NN: 0.00051\n",
      "NN reg: 0.01619\n",
      "Forest: 0.01825\n",
      "Mimic: 0.00022\n",
      "\n",
      "Skill: A\n",
      "Tree: 0.03759\n",
      "NN: 0.00027\n",
      "NN reg: 0.06161\n",
      "Forest: 0.00748\n",
      "Mimic: 0.00039\n",
      "\n",
      "Skill: E\n",
      "Tree: 0.00741\n",
      "NN: 0.00194\n",
      "NN reg: 0.04006\n",
      "Forest: 0.00662\n",
      "Mimic: 0.00162\n",
      "\n",
      "Skill: B\n",
      "Tree: 0.06413\n",
      "NN: 0.00084\n",
      "NN reg: 0.03219\n",
      "Forest: 0.00250\n",
      "Mimic: 0.00496\n",
      "\n",
      "Skill: D\n",
      "Tree: 0.06620\n",
      "NN: 0.00020\n",
      "NN reg: 0.05076\n",
      "Forest: 0.01476\n",
      "Mimic: 0.00036\n"
     ]
    }
   ],
   "source": [
    "for action in ['S','R','A','E','B','D']:\n",
    "    print('\\nSkill:', action)\n",
    "    \n",
    "    count = 0\n",
    "    \n",
    "    outcome_regex = '[\\+\\!\\-]'\n",
    "    if action=='B':\n",
    "        outcome_regex = '[\\+\\!]'\n",
    "    elif action=='R':\n",
    "        outcome_regex = '[\\+\\!\\#\\-]'\n",
    "    elif action=='D':\n",
    "        outcome_regex = '[\\!\\#]'\n",
    "    \n",
    "    outcome_cond0 = pd.Series(vb['ActionOutcome0']).str.match(outcome_regex)\n",
    "    outcome_cond1 = pd.Series(vb['ActionOutcome1']).str.match(outcome_regex)\n",
    "    \n",
    "    cond0 = (vb['ActionType0']==action) & (vb['ActionHome0']==1) & (outcome_cond0)\n",
    "    cond1 = (vb['ActionType1']==action) & (vb['ActionHome1']==1) & (outcome_cond1)\n",
    "\n",
    "    if sum(cond0) != sum(cond1):\n",
    "        print(sum(cond0),sum(cond1))\n",
    "        continue\n",
    "\n",
    "    if sum(cond1) == 0:\n",
    "        continue\n",
    "\n",
    "    tree_total = np.abs(np.mean(q_tree[cond1]) - np.mean(q_tree[cond0]))\n",
    "    nn_total = np.abs(np.mean(q_values[cond1]) - np.mean(q_values[cond0]))\n",
    "    nnreg_total = np.abs(np.mean(q_nnreg[cond1]) - np.mean(q_nnreg[cond0]))\n",
    "    forest_total = np.abs(np.mean(q_forest[cond1]) - np.mean(q_forest[cond0]))\n",
    "    mimic_total = np.abs(np.mean(q_mimic[cond1]) - np.mean(q_mimic[cond0]))\n",
    "\n",
    "    count += sum(cond0)\n",
    "        \n",
    "    print('Tree: %.5f' % (tree_total))\n",
    "    print('NN: %.5f' % (nn_total))\n",
    "    print('NN reg: %.5f' % (nnreg_total))\n",
    "    print('Forest: %.5f' % (forest_total))\n",
    "    print('Mimic: %.5f'% (mimic_total))"
   ]
  },
  {
   "cell_type": "code",
   "execution_count": 4,
   "metadata": {},
   "outputs": [
    {
     "name": "stdout",
     "output_type": "stream",
     "text": [
      "Mean squared error for NN: 0.603\n",
      "Mean squared error for Classifier Tree: 0.613\n",
      "Mean squared error for Mimic Tree: 0.606\n",
      "Mean squared error for Forest: 0.592\n",
      "\n",
      "\n",
      "ROC-AUC score for NN: 0.854\n",
      "ROC-AUC score for Classifier Tree: 0.849\n",
      "ROC-AUC score for Mimic Tree: 0.852\n",
      "ROC-AUC score for Forest: 0.862\n"
     ]
    }
   ],
   "source": [
    "print('Mean squared error for NN: %.3f' % (metrics.mean_squared_error(vb.RewardValue,q_values)))\n",
    "print('Mean squared error for Classifier Tree: %.3f' % (metrics.mean_squared_error(vb.RewardValue,q_tree)))\n",
    "print('Mean squared error for Mimic Tree: %.3f' % (metrics.mean_squared_error(vb.RewardValue,q_mimic)))\n",
    "print('Mean squared error for Forest: %.3f' % (metrics.mean_squared_error(vb.RewardValue,q_forest)))\n",
    "print('\\n')\n",
    "print('ROC-AUC score for NN: %.3f' % (metrics.roc_auc_score(vb.RewardValue,q_values)))\n",
    "print('ROC-AUC score for Classifier Tree: %.3f' % (metrics.roc_auc_score(vb.RewardValue,q_tree)))\n",
    "print('ROC-AUC score for Mimic Tree: %.3f' % (metrics.roc_auc_score(vb.RewardValue,q_mimic)))\n",
    "print('ROC-AUC score for Forest: %.3f' % (metrics.roc_auc_score(vb.RewardValue,q_forest)))"
   ]
  },
  {
   "cell_type": "code",
   "execution_count": 5,
   "metadata": {},
   "outputs": [
    {
     "name": "stdout",
     "output_type": "stream",
     "text": [
      "0.7550770284149264\n"
     ]
    }
   ],
   "source": [
    "nn2_pred = np.sign(q_values_2)\n",
    "print(metrics.accuracy_score(vb.RewardValue, nn2_pred))"
   ]
  },
  {
   "cell_type": "code",
   "execution_count": 13,
   "metadata": {},
   "outputs": [
    {
     "name": "stdout",
     "output_type": "stream",
     "text": [
      "=: avg probability -1.00 (from data: 0.0% out of 3227)\n",
      "-: avg probability -0.29 (from data: 35.4% out of 7929)\n",
      "!: avg probability -0.10 (from data: 44.7% out of 2064)\n",
      "+: avg probability 0.22 (from data: 61.9% out of 3084)\n",
      "#: avg probability 1.00 (from data: 100.0% out of 1266)\n"
     ]
    }
   ],
   "source": [
    "for outcome in ['=','-','!','+','#']:\n",
    "    cond = (vb['ActionType0']=='S') & (vb['ActionOutcome0']==outcome) & (vb['ActionHome0']==1)\n",
    "    print('%s: avg probability %.2f (from data: %.1f%% out of %d)' % \\\n",
    "          (outcome, np.mean(q_values_2[cond], axis=0), 50+50*np.mean(vb_c.RewardValue[cond], axis=0), sum(cond)))"
   ]
  },
  {
   "cell_type": "code",
   "execution_count": 30,
   "metadata": {},
   "outputs": [
    {
     "name": "stdout",
     "output_type": "stream",
     "text": [
      "Index(['Season', 'GameID', 'PlayerTeam', 'PlayerName', 'RewardValue',\n",
      "       'RewardDistance', 'SetNumber', 'ScoreMax', 'ScoreDiff', 'ActionHome9',\n",
      "       'ActionAway9', 'ActionType9', 'ActionStartX9', 'ActionStartY9',\n",
      "       'ActionEndX9', 'ActionEndY9', 'ActionSpeed9', 'ActionOutcome9',\n",
      "       'ActionHome8', 'ActionAway8', 'ActionType8', 'ActionStartX8',\n",
      "       'ActionStartY8', 'ActionEndX8', 'ActionEndY8', 'ActionSpeed8',\n",
      "       'ActionOutcome8', 'ActionHome7', 'ActionAway7', 'ActionType7',\n",
      "       'ActionStartX7', 'ActionStartY7', 'ActionEndX7', 'ActionEndY7',\n",
      "       'ActionSpeed7', 'ActionOutcome7', 'ActionHome6', 'ActionAway6',\n",
      "       'ActionType6', 'ActionStartX6', 'ActionStartY6', 'ActionEndX6',\n",
      "       'ActionEndY6', 'ActionSpeed6', 'ActionOutcome6', 'ActionHome5',\n",
      "       'ActionAway5', 'ActionType5', 'ActionStartX5', 'ActionStartY5',\n",
      "       'ActionEndX5', 'ActionEndY5', 'ActionSpeed5', 'ActionOutcome5',\n",
      "       'ActionHome4', 'ActionAway4', 'ActionType4', 'ActionStartX4',\n",
      "       'ActionStartY4', 'ActionEndX4', 'ActionEndY4', 'ActionSpeed4',\n",
      "       'ActionOutcome4', 'ActionHome3', 'ActionAway3', 'ActionType3',\n",
      "       'ActionStartX3', 'ActionStartY3', 'ActionEndX3', 'ActionEndY3',\n",
      "       'ActionSpeed3', 'ActionOutcome3', 'ActionHome2', 'ActionAway2',\n",
      "       'ActionType2', 'ActionStartX2', 'ActionStartY2', 'ActionEndX2',\n",
      "       'ActionEndY2', 'ActionSpeed2', 'ActionOutcome2', 'ActionHome1',\n",
      "       'ActionAway1', 'ActionType1', 'ActionStartX1', 'ActionStartY1',\n",
      "       'ActionEndX1', 'ActionEndY1', 'ActionSpeed1', 'ActionOutcome1',\n",
      "       'ActionHome0', 'ActionAway0', 'ActionType0', 'ActionStartX0',\n",
      "       'ActionStartY0', 'ActionEndX0', 'ActionEndY0', 'ActionSpeed0',\n",
      "       'ActionOutcome0'],\n",
      "      dtype='object')\n",
      "-0.9865686771414091\n",
      "0.9499131441806601\n"
     ]
    }
   ],
   "source": [
    "print(vb.columns)\n",
    "print(np.mean(vb.ScoreDiff[(vb.ActionHome0==1)&(vb.PlayerTeam=='Trinity Western')]))\n",
    "print(np.mean(vb.ScoreDiff[(vb.ActionHome0==0)&(vb.PlayerTeam=='Trinity Western')]))"
   ]
  },
  {
   "cell_type": "code",
   "execution_count": 5,
   "metadata": {},
   "outputs": [
    {
     "data": {
      "image/png": "[encoded data removed]",
      "text/plain": [
       "<Figure size 864x576 with 1 Axes>"
      ]
     },
     "metadata": {
      "needs_background": "light"
     },
     "output_type": "display_data"
    }
   ],
   "source": [
    "rankings = [1.33,2.67,4.00,3.00,6.33,7.00,7.33,8.67,11.67,7.67,7.00,11.33]\n",
    "mean_qs = [0.0220,0.0175,0.0124,0.0077,0.0073,0.0053,-0.0053,-0.0067,-0.0128,-0.0144,-0.0210,-0.0235]\n",
    "import matplotlib.pyplot as plt\n",
    "plt.rcParams.update({'font.size': 14})\n",
    "fig = plt.figure(figsize=(12,8))\n",
    "plt.title('Team mean ranking vs mean action impact')\n",
    "plt.grid(True)\n",
    "plt.xlabel('Mean action impact')\n",
    "plt.ylabel('Mean ranking')\n",
    "plt.plot(mean_qs, rankings, 'bo--')\n",
    "plt.show()\n",
    "fig.savefig('team_ranking.pdf', format='pdf')"
   ]
  },
  {
   "cell_type": "code",
   "execution_count": 10,
   "metadata": {},
   "outputs": [
    {
     "name": "stdout",
     "output_type": "stream",
     "text": [
      "0.00040960537271489476\n",
      "-0.8537825505784774\n"
     ]
    }
   ],
   "source": [
    "from scipy.stats import pearsonr\n",
    "corr, a = pearsonr(mean_qs, rankings)\n",
    "print(a)\n",
    "print(corr)"
   ]
  },
  {
   "cell_type": "code",
   "execution_count": 8,
   "metadata": {},
   "outputs": [
    {
     "name": "stdout",
     "output_type": "stream",
     "text": [
      "\n",
      "Home R by outcome:\n",
      "=: Tree -1.000 (actual -1.000 out of 1072)\n",
      "=: Forest -1.000 (actual -1.000 out of 1072)\n",
      "=: RL NN -0.998 (actual -1.000 out of 1072)\n",
      "=: Mimic -0.998 (actual -1.000 out of 1072)\n",
      "=: Regr NN -1.000 (actual -1.000 out of 1072)\n",
      "\n",
      "-: Tree -0.167 (actual -0.166 out of 2824)\n",
      "-: Forest -0.167 (actual -0.166 out of 2824)\n",
      "-: RL NN -0.157 (actual -0.166 out of 2824)\n",
      "-: Mimic -0.157 (actual -0.166 out of 2824)\n",
      "-: Regr NN -0.118 (actual -0.166 out of 2824)\n",
      "\n",
      "!: Tree 0.104 (actual 0.118 out of 1906)\n",
      "!: Forest 0.039 (actual 0.118 out of 1906)\n",
      "!: RL NN 0.110 (actual 0.118 out of 1906)\n",
      "!: Mimic 0.108 (actual 0.118 out of 1906)\n",
      "!: Regr NN 0.192 (actual 0.118 out of 1906)\n",
      "\n",
      "+: Tree 0.287 (actual 0.321 out of 5337)\n",
      "+: Forest 0.323 (actual 0.321 out of 5337)\n",
      "+: RL NN 0.325 (actual 0.321 out of 5337)\n",
      "+: Mimic 0.325 (actual 0.321 out of 5337)\n",
      "+: Regr NN 0.424 (actual 0.321 out of 5337)\n",
      "\n",
      "#: Tree 0.437 (actual 0.447 out of 2549)\n",
      "#: Forest 0.427 (actual 0.447 out of 2549)\n",
      "#: RL NN 0.446 (actual 0.447 out of 2549)\n",
      "#: Mimic 0.446 (actual 0.447 out of 2549)\n",
      "#: Regr NN 0.409 (actual 0.447 out of 2549)\n",
      "\n"
     ]
    }
   ],
   "source": [
    "skill = 'R'\n",
    "print('\\nHome %s by outcome:' % (skill))\n",
    "for outcome in ['=','-','!','+','#']:\n",
    "    cond = (vb['ActionType0']==skill) & (vb['ActionHome0']==1) & (vb['ActionOutcome0']==outcome)\n",
    "    print('%s: Tree %.3f (actual %.3f out of %d)' % \\\n",
    "          (outcome, np.mean(q_tree[cond], axis=0), np.mean(vb.RewardValue[cond], axis=0), sum(cond)))\n",
    "    print('%s: Forest %.3f (actual %.3f out of %d)' % \\\n",
    "          (outcome, np.mean(q_forest[cond], axis=0), np.mean(vb.RewardValue[cond], axis=0), sum(cond)))\n",
    "    print('%s: RL NN %.3f (actual %.3f out of %d)' % \\\n",
    "          (outcome, np.mean(q_values[cond], axis=0), np.mean(vb.RewardValue[cond], axis=0), sum(cond)))\n",
    "    print('%s: Mimic %.3f (actual %.3f out of %d)' % \\\n",
    "          (outcome, np.mean(q_mimic[cond], axis=0), np.mean(vb.RewardValue[cond], axis=0), sum(cond)))\n",
    "    print('%s: Regr NN %.3f (actual %.3f out of %d)' % \\\n",
    "          (outcome, np.mean(q_nnreg[cond], axis=0), np.mean(vb.RewardValue[cond], axis=0), sum(cond)))\n",
    "    print()"
   ]
  },
  {
   "cell_type": "code",
   "execution_count": 50,
   "metadata": {},
   "outputs": [
    {
     "name": "stdout",
     "output_type": "stream",
     "text": [
      "0.5173981513180418\n",
      "34371\n"
     ]
    }
   ],
   "source": [
    "preds = []\n",
    "pred = 1\n",
    "k = 0\n",
    "for n,row in vb.iterrows():\n",
    "    if row['ActionType0'] == 'S':\n",
    "        k += 1\n",
    "        if row['ActionHome0']==1:\n",
    "            pred = 1\n",
    "        else:\n",
    "            pred = 1\n",
    "    preds.append(pred)\n",
    "print(metrics.accuracy_score(vb.RewardValue, preds))\n",
    "print(k)"
   ]
  },
  {
   "cell_type": "code",
   "execution_count": 45,
   "metadata": {},
   "outputs": [
    {
     "name": "stdout",
     "output_type": "stream",
     "text": [
      "0.5220036241263267\n",
      "9102\n"
     ]
    }
   ],
   "source": [
    "preds = []\n",
    "reals = []\n",
    "pred = 1\n",
    "k = 0\n",
    "for n,row in vb.iterrows():\n",
    "    if 'UBC' in row.GameID:\n",
    "        if (row['ActionType0'] == 'S') and (row['PlayerTeam'] == 'UBC'):\n",
    "            k += 1\n",
    "            if row['ActionHome0']==1:\n",
    "                pred = 1\n",
    "            else:\n",
    "                pred = -1\n",
    "        preds.append(pred)\n",
    "        reals.append(row.RewardValue)\n",
    "print(metrics.accuracy_score(reals, preds))\n",
    "print(k)"
   ]
  },
  {
   "cell_type": "code",
   "execution_count": 6,
   "metadata": {},
   "outputs": [
    {
     "name": "stdout",
     "output_type": "stream",
     "text": [
      "{5: 7136, 7: 2204, 4: 7577, 11: 288, 1: 6340, 6: 2647, 2: 2338, 3: 3245, 9: 784, 18: 15, 8: 991, 10: 364, 12: 181, 17: 16, 13: 121, 19: 5, 15: 39, 14: 51, 23: 1, 16: 17, 20: 7, 25: 2, 21: 1, 22: 1}\n"
     ]
    }
   ],
   "source": [
    "# rally lengths\n",
    "lengths = {}\n",
    "prevDist = 0\n",
    "for k,line in vb.iterrows():\n",
    "    dist = int(line['RewardDistance'])\n",
    "    if dist >= prevDist:\n",
    "        length = dist + 1\n",
    "        if length not in lengths:\n",
    "            lengths[length] = 0\n",
    "        lengths[length] += 1\n",
    "    prevDist = dist\n",
    "print(lengths)"
   ]
  },
  {
   "cell_type": "code",
   "execution_count": 12,
   "metadata": {},
   "outputs": [
    {
     "data": {
      "image/png": "[encoded data removed]",
      "text/plain": [
       "<Figure size 864x576 with 1 Axes>"
      ]
     },
     "metadata": {
      "needs_background": "light"
     },
     "output_type": "display_data"
    }
   ],
   "source": [
    "import matplotlib.pyplot as plt\n",
    "plt.rcParams.update({'font.size': 14})\n",
    "fig = plt.figure(figsize=(12,8))\n",
    "plt.title('Rally Length Histogram')\n",
    "plt.grid(True)\n",
    "plt.xlabel('Rally length')\n",
    "plt.ylabel('Frequency')\n",
    "plt.bar(lengths.keys(), lengths.values())\n",
    "plt.show()\n",
    "fig.savefig('rally_lengths.pdf', format='pdf')"
   ]
  },
  {
   "cell_type": "code",
   "execution_count": 17,
   "metadata": {},
   "outputs": [
    {
     "name": "stdout",
     "output_type": "stream",
     "text": [
      "33262\n",
      "34371\n",
      "0.9677344272788106\n"
     ]
    }
   ],
   "source": [
    "print(sum([lengths[l] for l in range(1,10)]))\n",
    "print(sum(lengths.values()))\n",
    "print(sum([lengths[l] for l in range(1,10)])/sum(lengths.values()))"
   ]
  },
  {
   "cell_type": "code",
   "execution_count": null,
   "metadata": {},
   "outputs": [],
   "source": []
  }
 ],
 "metadata": {
  "kernelspec": {
   "display_name": "Python 3.6.7 64-bit",
   "language": "python",
   "name": "python36764bitd8cc2f1ea61f43498d4bb06eb07502d2"
  },
  "language_info": {
   "codemirror_mode": {
    "name": "ipython",
    "version": 3
   },
   "file_extension": ".py",
   "mimetype": "text/x-python",
   "name": "python",
   "nbconvert_exporter": "python",
   "pygments_lexer": "ipython3",
   "version": "3.6.7"
  }
 },
 "nbformat": 4,
 "nbformat_minor": 2
}
