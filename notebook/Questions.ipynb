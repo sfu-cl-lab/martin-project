{
 "cells": [
  {
   "cell_type": "code",
   "execution_count": 2,
   "metadata": {},
   "outputs": [],
   "source": [
    "import pandas as pd\n",
    "import numpy as np\n",
    "import pickle\n",
    "from sklearn import metrics"
   ]
  },
  {
   "cell_type": "code",
   "execution_count": 3,
   "metadata": {},
   "outputs": [],
   "source": [
    "vb = pd.read_csv(\"../data/vb_data_3_numZone.csv\")\n",
    "vb_c = pd.read_csv(\"../data/vb_data_3_categZone.csv\")\n",
    "q_values_raw = pickle.load(open('../output/q_values_new.pkl', 'rb'))\n",
    "q_values = np.asarray([q_values_raw[i,0] for i in range(len(q_values_raw))])\n",
    "# clipping\n",
    "q_values[q_values>1] = 1\n",
    "q_values[q_values<-1] = -1\n",
    "y_prob_tree = pickle.load(open('../output/y_probabilities_tree.pkl', 'rb'))\n",
    "q_tree = y_prob_tree[:,1]*2 - 1\n",
    "q_mimic = pickle.load(open('../output/q_values_mimictree.pkl', 'rb'))\n",
    "q_forest = pickle.load(open('../output/q_forest.pkl', 'rb'))"
   ]
  },
  {
   "cell_type": "code",
   "execution_count": 9,
   "metadata": {},
   "outputs": [],
   "source": [
    "# fix team names\n",
    "vb.loc[vb.PlayerTeam=='TWU', 'PlayerTeam'] = 'Trinity Western'\n",
    "vb.loc[vb.PlayerTeam=='TRU', 'PlayerTeam'] = 'Thompson Rivers'\n",
    "vb.loc[vb.PlayerTeam=='MRU', 'PlayerTeam'] = 'Mount Royal'"
   ]
  },
  {
   "cell_type": "markdown",
   "metadata": {},
   "source": [
    "##### Basic Miscellaneous"
   ]
  },
  {
   "cell_type": "code",
   "execution_count": 4,
   "metadata": {},
   "outputs": [
    {
     "name": "stdout",
     "output_type": "stream",
     "text": [
      "34371 total rallies\n"
     ]
    }
   ],
   "source": [
    "n = 0\n",
    "prevDist = -1\n",
    "for i in range(len(vb)):\n",
    "    if vb.RewardDistance[i] >= prevDist:\n",
    "        n += 1\n",
    "    prevDist = vb.RewardDistance[i]\n",
    "print(n, 'total rallies')"
   ]
  },
  {
   "cell_type": "code",
   "execution_count": 9,
   "metadata": {},
   "outputs": [
    {
     "name": "stdout",
     "output_type": "stream",
     "text": [
      "Cross entropy loss for NN: 0.429\n",
      "Cross entropy loss for Tree: 0.435\n",
      "\n",
      "\n",
      "Mean squared error for NN: 0.151\n",
      "Mean squared error for Tree: 0.153\n",
      "\n",
      "\n",
      "ROC-AUC score for NN: 0.853\n",
      "ROC-AUC score for Tree: 0.849\n"
     ]
    }
   ],
   "source": [
    "from sklearn import metrics\n",
    "true_prob = np.zeros([len(vb),2])\n",
    "true_prob[:,0] = .5-.5*vb.RewardValue\n",
    "true_prob[:,1] = 1 - true_prob[:,0]\n",
    "nn_prob = np.zeros([len(vb),2])\n",
    "nn_prob[:,0] = .5-.5*q_values\n",
    "nn_prob[:,1] = 1 - nn_prob[:,0]\n",
    "\n",
    "print('Cross entropy loss for NN: %.3f' % (metrics.log_loss(true_prob,nn_prob,eps=1e-4)))\n",
    "print('Cross entropy loss for Tree: %.3f' % (metrics.log_loss(true_prob,y_prob_tree,eps=1e-4)))\n",
    "print('\\n')\n",
    "print('Mean squared error for NN: %.3f' % (metrics.mean_squared_error(true_prob,nn_prob)))\n",
    "print('Mean squared error for Tree: %.3f' % (metrics.mean_squared_error(true_prob,y_prob_tree)))\n",
    "print('\\n')\n",
    "print('ROC-AUC score for NN: %.3f' % (metrics.roc_auc_score(true_prob,nn_prob)))\n",
    "print('ROC-AUC score for Tree: %.3f' % (metrics.roc_auc_score(true_prob,y_prob_tree)))"
   ]
  },
  {
   "cell_type": "markdown",
   "metadata": {},
   "source": [
    "##### Set by Location"
   ]
  },
  {
   "cell_type": "code",
   "execution_count": 3,
   "metadata": {},
   "outputs": [
    {
     "name": "stdout",
     "output_type": "stream",
     "text": [
      "\n",
      "Home set by execution zone:\n",
      "3A: avg probability 65.6% (actual 67.0% out of 1700)\n",
      "3B: avg probability 69.6% (actual 72.6% out of 2108)\n",
      "3C: avg probability 67.5% (actual 68.4% out of 757)\n",
      "3D: avg probability 65.1% (actual 62.7% out of 644)\n",
      "2A: avg probability 62.4% (actual 62.2% out of 201)\n",
      "2B: avg probability 64.8% (actual 61.7% out of 154)\n",
      "2C: avg probability 68.8% (actual 70.6% out of 646)\n",
      "2D: avg probability 65.3% (actual 67.4% out of 651)\n",
      "4A: avg probability 63.4% (actual 63.1% out of 168)\n",
      "4B: avg probability 64.9% (actual 68.3% out of 167)\n",
      "4C: avg probability 62.7% (actual 60.0% out of 10)\n",
      "4D: avg probability 59.8% (actual 38.5% out of 13)\n",
      "9B: avg probability 56.5% (actual 45.5% out of 33)\n",
      "9C: avg probability 57.0% (actual 57.3% out of 117)\n",
      "8B: avg probability 57.5% (actual 61.4% out of 197)\n",
      "8C: avg probability 56.5% (actual 65.7% out of 108)\n",
      "7B: avg probability 56.4% (actual 50.0% out of 48)\n",
      "7C: avg probability 58.9% (actual 66.7% out of 3)\n",
      "\n",
      "Home receive by end zone:\n",
      "3A: avg probability 65.0% (actual 65.3% out of 2277)\n",
      "3B: avg probability 69.6% (actual 72.4% out of 2366)\n",
      "3C: avg probability 67.3% (actual 68.1% out of 759)\n",
      "3D: avg probability 64.6% (actual 62.7% out of 644)\n",
      "2A: avg probability 61.2% (actual 62.2% out of 201)\n",
      "2B: avg probability 63.9% (actual 61.7% out of 154)\n",
      "2C: avg probability 68.3% (actual 70.6% out of 646)\n",
      "2D: avg probability 64.6% (actual 67.4% out of 650)\n",
      "4A: avg probability 63.0% (actual 63.1% out of 168)\n",
      "4B: avg probability 64.1% (actual 68.3% out of 167)\n",
      "4C: avg probability 60.8% (actual 60.0% out of 10)\n",
      "4D: avg probability 59.1% (actual 38.5% out of 13)\n",
      "9B: avg probability 55.0% (actual 45.5% out of 33)\n",
      "9C: avg probability 54.8% (actual 57.3% out of 117)\n",
      "8B: avg probability 56.0% (actual 61.4% out of 197)\n",
      "8C: avg probability 55.3% (actual 67.0% out of 106)\n",
      "7B: avg probability 54.7% (actual 50.0% out of 48)\n",
      "7C: avg probability 57.9% (actual 66.7% out of 3)\n"
     ]
    }
   ],
   "source": [
    "print('\\nHome set by execution zone:')\n",
    "for zone in ['3A','3B','3C','3D','2A','2B','2C','2D','4A','4B','4C','4D','9B','9C','8B','8C','7B','7C']:\n",
    "    cond = (vb_c['ActionType0']=='E') & (vb_c['ActionHome0']==1) & (vb_c['ActionStartZone0']=='Z'+zone)\n",
    "    print('%s: avg probability %.1f%% (actual %.1f%% out of %d)' % \\\n",
    "          (zone, 50+50*np.mean(q_values[cond], axis=0), 50+50*np.mean(vb_c.RewardValue[cond], axis=0), sum(cond)))\n",
    "    \n",
    "print('\\nHome receive by end zone:')\n",
    "for zone in ['3A','3B','3C','3D','2A','2B','2C','2D','4A','4B','4C','4D','9B','9C','8B','8C','7B','7C']:\n",
    "    cond = (vb_c['ActionType0']=='R') & (vb_c['ActionHome0']==1) & (vb_c['ActionEndZone0']=='Z'+zone)\n",
    "    print('%s: avg probability %.1f%% (actual %.1f%% out of %d)' % \\\n",
    "          (zone, 50+50*np.mean(q_values[cond], axis=0), 50+50*np.mean(vb_c.RewardValue[cond], axis=0), sum(cond))) "
   ]
  },
  {
   "cell_type": "markdown",
   "metadata": {},
   "source": [
    "##### R# and R+ actions by score"
   ]
  },
  {
   "cell_type": "code",
   "execution_count": 17,
   "metadata": {},
   "outputs": [
    {
     "name": "stdout",
     "output_type": "stream",
     "text": [
      "\n",
      "Home R# by score:\n",
      "5: avg probability 70.5% (from data: 73.1% out of 453)\n",
      "10: avg probability 70.5% (from data: 72.1% out of 498)\n",
      "15: avg probability 70.7% (from data: 70.7% out of 543)\n",
      "20: avg probability 70.7% (from data: 72.3% out of 519)\n",
      "25: avg probability 71.2% (from data: 73.4% out of 508)\n",
      "\n",
      "Home R+ by score:\n",
      "5: avg probability 65.0% (from data: 68.5% out of 951)\n",
      "10: avg probability 65.0% (from data: 65.2% out of 1044)\n",
      "15: avg probability 65.0% (from data: 65.1% out of 1129)\n",
      "20: avg probability 65.1% (from data: 64.0% out of 1100)\n",
      "25: avg probability 65.2% (from data: 68.0% out of 1055)\n",
      "\n",
      "Home R# by score diff:\n",
      "-4: avg probability 71.9% (from data: 73.0% out of 89)\n",
      "-3: avg probability 71.7% (from data: 66.0% out of 162)\n",
      "-2: avg probability 71.2% (from data: 69.7% out of 234)\n",
      "-1: avg probability 71.0% (from data: 71.7% out of 258)\n",
      "0: avg probability 70.8% (from data: 71.7% out of 406)\n",
      "1: avg probability 70.3% (from data: 70.6% out of 367)\n",
      "2: avg probability 70.1% (from data: 74.8% out of 278)\n",
      "3: avg probability 69.7% (from data: 73.9% out of 184)\n",
      "4: avg probability 69.7% (from data: 76.9% out of 117)\n",
      "\n",
      "Home R+ by score:\n",
      "-4: avg probability 66.7% (from data: 65.9% out of 258)\n",
      "-3: avg probability 66.2% (from data: 65.1% out of 335)\n",
      "-2: avg probability 65.9% (from data: 71.6% out of 443)\n",
      "-1: avg probability 65.6% (from data: 66.8% out of 539)\n",
      "0: avg probability 65.2% (from data: 69.9% out of 794)\n",
      "1: avg probability 64.8% (from data: 65.9% out of 822)\n",
      "2: avg probability 64.3% (from data: 63.4% out of 514)\n",
      "3: avg probability 63.9% (from data: 62.5% out of 352)\n",
      "4: avg probability 63.6% (from data: 64.1% out of 273)\n"
     ]
    }
   ],
   "source": [
    "print('\\nHome R# by score:')\n",
    "for score in range(5,26,5): #['Z3','Z4','Z2','Z9','Z8']:\n",
    "    cond = (vb['ActionType0']=='R') & (vb['ActionOutcome0']=='#') & (vb['ActionHome0']==1) & (vb['ScoreMax']<score) & (vb['ScoreMax']>=score-5)\n",
    "    print('%s: avg probability %.1f%% (from data: %.1f%% out of %d)' % \\\n",
    "          (score, 50+50*np.mean(q_values[cond], axis=0), 50+50*np.mean(vb_c.RewardValue[cond], axis=0), sum(cond)))\n",
    "\n",
    "print('\\nHome R+ by score:')\n",
    "for score in range(5,26,5): #['Z3','Z4','Z2','Z9','Z8']:\n",
    "    cond = (vb['ActionType0']=='R') & (vb['ActionOutcome0']=='+') & (vb['ActionHome0']==1) & (vb['ScoreMax']<score) & (vb['ScoreMax']>=score-5)\n",
    "    print('%s: avg probability %.1f%% (from data: %.1f%% out of %d)' % \\\n",
    "          (score, 50+50*np.mean(q_values[cond], axis=0), 50+50*np.mean(vb_c.RewardValue[cond], axis=0), sum(cond)))\n",
    "    \n",
    "print('\\nHome R# by score diff:')\n",
    "for diff in range(-4,5):\n",
    "    cond = (vb['ActionType0']=='R') & (vb['ActionOutcome0']=='#') & (vb['ActionHome0']==1) & (vb['ScoreDiff']==diff)\n",
    "    print('%s: avg probability %.1f%% (from data: %.1f%% out of %d)' % \\\n",
    "          (diff, 50+50*np.mean(q_values[cond], axis=0), 50+50*np.mean(vb_c.RewardValue[cond], axis=0), sum(cond)))\n",
    "\n",
    "print('\\nHome R+ by score:')\n",
    "for diff in range(-4,5):\n",
    "    cond = (vb['ActionType0']=='R') & (vb['ActionOutcome0']=='+') & (vb['ActionHome0']==1) & (vb['ScoreDiff']==diff)\n",
    "    print('%s: avg probability %.1f%% (from data: %.1f%% out of %d)' % \\\n",
    "          (diff, 50+50*np.mean(q_values[cond], axis=0), 50+50*np.mean(vb_c.RewardValue[cond], axis=0), sum(cond)))"
   ]
  },
  {
   "cell_type": "markdown",
   "metadata": {},
   "source": [
    "##### Float and Spin Serve by Score"
   ]
  },
  {
   "cell_type": "code",
   "execution_count": 60,
   "metadata": {},
   "outputs": [
    {
     "name": "stdout",
     "output_type": "stream",
     "text": [
      "Home float avg probability 39.2% (from data: 39.8% out of 12489)\n",
      "Home spin avg probability 37.6% (from data: 38.0% out of 5081)\n",
      "Away float avg probability 37.6% (from data: 37.1% out of 12197)\n",
      "Away spin avg probability 34.2% (from data: 33.6% out of 4604)\n",
      "\n",
      "Home float serve by score:\n",
      "5: avg probability 40.1% (from data: 40.8% out of 2291)\n",
      "10: avg probability 39.4% (from data: 40.4% out of 2400)\n",
      "15: avg probability 38.8% (from data: 39.3% out of 2581)\n",
      "20: avg probability 39.2% (from data: 38.7% out of 2480)\n",
      "25: avg probability 38.4% (from data: 39.9% out of 2600)\n",
      "\n",
      "Home spin serve by score:\n",
      "5: avg probability 37.9% (from data: 39.1% out of 818)\n",
      "10: avg probability 38.2% (from data: 38.0% out of 1204)\n",
      "15: avg probability 37.3% (from data: 37.3% out of 1083)\n",
      "20: avg probability 37.4% (from data: 39.6% out of 974)\n",
      "25: avg probability 37.7% (from data: 37.1% out of 950)\n",
      "\n",
      "Home float serve by score diff:\n",
      "-4: avg probability 40.4% (from data: 41.1% out of 880)\n",
      "-3: avg probability 40.2% (from data: 39.3% out of 1193)\n",
      "-2: avg probability 40.8% (from data: 41.8% out of 1454)\n",
      "-1: avg probability 39.8% (from data: 39.3% out of 1896)\n",
      "0: avg probability 38.4% (from data: 39.1% out of 1788)\n",
      "1: avg probability 38.1% (from data: 40.6% out of 1024)\n",
      "2: avg probability 37.0% (from data: 37.6% out of 761)\n",
      "3: avg probability 37.9% (from data: 41.1% out of 513)\n",
      "4: avg probability 35.6% (from data: 33.9% out of 380)\n",
      "\n",
      "Home spin serve by score diff:\n",
      "-4: avg probability 39.6% (from data: 43.1% out of 360)\n",
      "-3: avg probability 40.4% (from data: 41.3% out of 509)\n",
      "-2: avg probability 39.7% (from data: 40.8% out of 574)\n",
      "-1: avg probability 37.4% (from data: 38.6% out of 699)\n",
      "0: avg probability 34.4% (from data: 34.2% out of 740)\n",
      "1: avg probability 40.0% (from data: 38.9% out of 416)\n",
      "2: avg probability 35.3% (from data: 33.9% out of 289)\n",
      "3: avg probability 36.4% (from data: 35.4% out of 192)\n",
      "4: avg probability 32.5% (from data: 25.9% out of 143)\n"
     ]
    }
   ],
   "source": [
    "cond = (vb['ActionType0']=='S') & (vb['ActionSpeed0']==-1) & (vb['ActionHome0']==1)\n",
    "print('Home float avg probability %.1f%% (from data: %.1f%% out of %d)' % \\\n",
    "          (50+50*np.mean(q_values[cond], axis=0), 50+50*np.mean(vb_c.RewardValue[cond], axis=0), sum(cond)))\n",
    "cond = (vb['ActionType0']=='S') & (vb['ActionSpeed0']==1) & (vb['ActionHome0']==1)\n",
    "print('Home spin avg probability %.1f%% (from data: %.1f%% out of %d)' % \\\n",
    "          (50+50*np.mean(q_values[cond], axis=0), 50+50*np.mean(vb_c.RewardValue[cond], axis=0), sum(cond)))\n",
    "cond = (vb['ActionType0']=='S') & (vb['ActionSpeed0']==-1) & (vb['ActionAway0']==1)\n",
    "print('Away float avg probability %.1f%% (from data: %.1f%% out of %d)' % \\\n",
    "          (50-50*np.mean(q_values[cond], axis=0), 50-50*np.mean(vb_c.RewardValue[cond], axis=0), sum(cond)))\n",
    "cond = (vb['ActionType0']=='S') & (vb['ActionSpeed0']==1) & (vb['ActionAway0']==1)\n",
    "print('Away spin avg probability %.1f%% (from data: %.1f%% out of %d)' % \\\n",
    "          (50-50*np.mean(q_values[cond], axis=0), 50-50*np.mean(vb_c.RewardValue[cond], axis=0), sum(cond)))\n",
    "\n",
    "print('\\nHome float serve by score:')\n",
    "for score in range(5,26,5): #['Z3','Z4','Z2','Z9','Z8']:\n",
    "    cond = (vb['ActionType0']=='S') & (vb['ActionSpeed0']==-1) & (vb['ActionHome0']==1) & (vb['ScoreMax']<score) & (vb['ScoreMax']>=score-5)\n",
    "    print('%s: avg probability %.1f%% (from data: %.1f%% out of %d)' % \\\n",
    "          (score, 50+50*np.mean(q_values[cond], axis=0), 50+50*np.mean(vb_c.RewardValue[cond], axis=0), sum(cond)))\n",
    "\n",
    "print('\\nHome spin serve by score:')\n",
    "for score in range(5,26,5): #['Z3','Z4','Z2','Z9','Z8']:\n",
    "    cond = (vb['ActionType0']=='S') & (vb['ActionSpeed0']==1) & (vb['ActionHome0']==1) & (vb['ScoreMax']<score) & (vb['ScoreMax']>=score-5)\n",
    "    print('%s: avg probability %.1f%% (from data: %.1f%% out of %d)' % \\\n",
    "          (score, 50+50*np.mean(q_values[cond], axis=0), 50+50*np.mean(vb_c.RewardValue[cond], axis=0), sum(cond)))\n",
    "    \n",
    "print('\\nHome float serve by score diff:')\n",
    "for diff in range(-4,5):\n",
    "    cond = (vb['ActionType0']=='S') & (vb['ActionSpeed0']==-1) & (vb['ActionHome0']==1) & (vb['ScoreDiff']==diff)\n",
    "    print('%s: avg probability %.1f%% (from data: %.1f%% out of %d)' % \\\n",
    "          (diff, 50+50*np.mean(q_values[cond], axis=0), 50+50*np.mean(vb_c.RewardValue[cond], axis=0), sum(cond)))\n",
    "\n",
    "print('\\nHome spin serve by score diff:')\n",
    "for diff in range(-4,5):\n",
    "    cond = (vb['ActionType0']=='S') & (vb['ActionSpeed0']==1) & (vb['ActionHome0']==1) & (vb['ScoreDiff']==diff)\n",
    "    print('%s: avg probability %.1f%% (from data: %.1f%% out of %d)' % \\\n",
    "          (diff, 50+50*np.mean(q_values[cond], axis=0), 50+50*np.mean(vb_c.RewardValue[cond], axis=0), sum(cond)))"
   ]
  },
  {
   "cell_type": "markdown",
   "metadata": {},
   "source": [
    "##### Middle set by score"
   ]
  },
  {
   "cell_type": "code",
   "execution_count": 37,
   "metadata": {},
   "outputs": [
    {
     "name": "stdout",
     "output_type": "stream",
     "text": [
      "\n",
      "Home middle set by score:\n",
      "5: avg probability 67.8% (from data: 74.7% out of 95)\n",
      "10: avg probability 67.6% (from data: 73.7% out of 118)\n",
      "15: avg probability 67.4% (from data: 63.8% out of 152)\n",
      "20: avg probability 68.0% (from data: 61.5% out of 122)\n",
      "25: avg probability 67.7% (from data: 75.0% out of 104)\n"
     ]
    }
   ],
   "source": [
    "print('\\nHome middle set by score:')\n",
    "for score in range(5,26,5):\n",
    "    cond = (vb_c['ActionType0']=='E') & \\\n",
    "           (vb_c['ActionHome0']==1) & \\\n",
    "           (vb_c['ActionEndZone0']=='Z'+zone) & \\\n",
    "           (vb['ScoreMax']<score) & (vb['ScoreMax']>=score-5)\n",
    "    print('%s: avg probability %.1f%% (from data: %.1f%% out of %d)' % \\\n",
    "          (score, 50+50*np.mean(q_values[cond], axis=0), 50+50*np.mean(vb_c.RewardValue[cond], axis=0), sum(cond)))"
   ]
  },
  {
   "cell_type": "markdown",
   "metadata": {},
   "source": [
    "##### Attack by trajectory"
   ]
  },
  {
   "cell_type": "code",
   "execution_count": 55,
   "metadata": {},
   "outputs": [
    {
     "name": "stdout",
     "output_type": "stream",
     "text": [
      "Home left side attack by end zone:\n",
      "1: avg probability 63.9% (from data: 65.7% out of 1480)\n",
      "6: avg probability 56.8% (from data: 56.8% out of 1825)\n",
      "5: avg probability 61.9% (from data: 61.5% out of 1498)\n",
      "7: avg probability 68.2% (from data: 69.3% out of 1177)\n",
      "3: avg probability 58.0% (from data: 58.1% out of 1867)\n",
      "\n",
      "Home right side attack by end zone:\n",
      "5: avg probability 70.9% (from data: 71.2% out of 688)\n",
      "6: avg probability 58.8% (from data: 59.1% out of 731)\n",
      "1: avg probability 62.7% (from data: 61.4% out of 661)\n",
      "9: avg probability 69.9% (from data: 72.0% out of 528)\n",
      "3: avg probability 59.1% (from data: 59.1% out of 633)\n",
      "\n",
      "Home left side high ball attack by end zone:\n",
      "1: avg probability 55.1% (from data: 57.0% out of 402)\n",
      "6: avg probability 51.6% (from data: 51.6% out of 696)\n",
      "5: avg probability 53.6% (from data: 53.4% out of 577)\n",
      "7: avg probability 56.5% (from data: 58.4% out of 250)\n",
      "3: avg probability 54.1% (from data: 53.8% out of 766)\n"
     ]
    }
   ],
   "source": [
    "print('Home left side attack by end zone:')\n",
    "for zone in ['1','6','5','7','3']:\n",
    "    cond = (vb_c['ActionType0']=='A') & \\\n",
    "           (vb_c['ActionHome0']==1) & \\\n",
    "           (vb_c['ActionStartZone0']=='Z4') & \\\n",
    "           ((vb_c['ActionEndZone0']=='Z'+zone) | \\\n",
    "           (vb_c['ActionEndZone0']=='Z'+zone+'A') | \\\n",
    "           (vb_c['ActionEndZone0']=='Z'+zone+'B') | \\\n",
    "           (vb_c['ActionEndZone0']=='Z'+zone+'C') | \\\n",
    "           (vb_c['ActionEndZone0']=='Z'+zone+'D'))\n",
    "    print('%s: avg probability %.1f%% (from data: %.1f%% out of %d)' % \\\n",
    "          (zone, 50+50*np.mean(q_values[cond], axis=0), 50+50*np.mean(vb_c.RewardValue[cond], axis=0), sum(cond)))\n",
    "    \n",
    "print('\\nHome right side attack by end zone:')\n",
    "for zone in ['5','6','1','9','3']:\n",
    "    cond = (vb_c['ActionType0']=='A') & \\\n",
    "           (vb_c['ActionHome0']==1) & \\\n",
    "           (vb_c['ActionStartZone0']=='Z2') & \\\n",
    "           ((vb_c['ActionEndZone0']=='Z'+zone) | \\\n",
    "           (vb_c['ActionEndZone0']=='Z'+zone+'A') | \\\n",
    "           (vb_c['ActionEndZone0']=='Z'+zone+'B') | \\\n",
    "           (vb_c['ActionEndZone0']=='Z'+zone+'C') | \\\n",
    "           (vb_c['ActionEndZone0']=='Z'+zone+'D'))\n",
    "    print('%s: avg probability %.1f%% (from data: %.1f%% out of %d)' % \\\n",
    "          (zone, 50+50*np.mean(q_values[cond], axis=0), 50+50*np.mean(vb_c.RewardValue[cond], axis=0), sum(cond)))\n",
    "\n",
    "print('\\nHome left side high ball attack by end zone:')\n",
    "for zone in ['1','6','5','7','3']:\n",
    "    cond = (vb_c['ActionType0']=='A') & \\\n",
    "           (vb_c['ActionHome0']==1) & \\\n",
    "           (vb_c['ActionSpeed0']==-1) & \\\n",
    "           (vb_c['ActionStartZone0']=='Z4') & \\\n",
    "           ((vb_c['ActionEndZone0']=='Z'+zone) | \\\n",
    "           (vb_c['ActionEndZone0']=='Z'+zone+'A') | \\\n",
    "           (vb_c['ActionEndZone0']=='Z'+zone+'B') | \\\n",
    "           (vb_c['ActionEndZone0']=='Z'+zone+'C') | \\\n",
    "           (vb_c['ActionEndZone0']=='Z'+zone+'D'))\n",
    "    print('%s: avg probability %.1f%% (from data: %.1f%% out of %d)' % \\\n",
    "          (zone, 50+50*np.mean(q_values[cond], axis=0), 50+50*np.mean(vb_c.RewardValue[cond], axis=0), sum(cond)))"
   ]
  },
  {
   "cell_type": "markdown",
   "metadata": {},
   "source": [
    "##### Serve risk"
   ]
  },
  {
   "cell_type": "code",
   "execution_count": 94,
   "metadata": {},
   "outputs": [
    {
     "name": "stdout",
     "output_type": "stream",
     "text": [
      "\n",
      "Home - serve by score:\n",
      "5: avg probability 35.5% (from data: 35.9% out of 1408)\n",
      "10: avg probability 35.3% (from data: 36.1% out of 1569)\n",
      "15: avg probability 34.8% (from data: 35.4% out of 1652)\n",
      "20: avg probability 34.6% (from data: 33.4% out of 1573)\n",
      "25: avg probability 34.1% (from data: 36.3% out of 1643)\n",
      "\n",
      "Home ! serve by score:\n",
      "5: avg probability 44.0% (from data: 46.9% out of 356)\n",
      "10: avg probability 44.1% (from data: 42.5% out of 409)\n",
      "15: avg probability 44.1% (from data: 46.9% out of 426)\n",
      "20: avg probability 44.3% (from data: 41.7% out of 417)\n",
      "25: avg probability 44.5% (from data: 45.9% out of 429)\n",
      "\n",
      "Home + serve by score:\n",
      "5: avg probability 60.2% (from data: 61.9% out of 591)\n",
      "10: avg probability 60.6% (from data: 63.1% out of 637)\n",
      "15: avg probability 60.3% (from data: 59.1% out of 638)\n",
      "20: avg probability 60.3% (from data: 66.7% out of 591)\n",
      "25: avg probability 60.4% (from data: 58.7% out of 595)\n"
     ]
    },
    {
     "data": {
      "image/png": "[encoded data removed]",
      "text/plain": [
       "<Figure size 648x432 with 1 Axes>"
      ]
     },
     "metadata": {
      "needs_background": "light"
     },
     "output_type": "display_data"
    }
   ],
   "source": [
    "values = np.zeros([5,3])\n",
    "print('\\nHome - serve by score:')\n",
    "i = 0\n",
    "for score in range(5,26,5):\n",
    "    cond = (vb['ActionType0']=='S') & (vb['ActionOutcome0']=='-') & (vb['ActionHome0']==1) & (vb['ScoreMax']<score) & (vb['ScoreMax']>=score-5)\n",
    "    print('%s: avg probability %.1f%% (from data: %.1f%% out of %d)' % \\\n",
    "          (score, 50+50*np.mean(q_values[cond], axis=0), 50+50*np.mean(vb_c.RewardValue[cond], axis=0), sum(cond)))\n",
    "    values[i,0] = 50+50*np.mean(q_values[cond])\n",
    "    i+=1\n",
    "\n",
    "print('\\nHome ! serve by score:')\n",
    "i = 0\n",
    "for score in range(5,26,5):\n",
    "    cond = (vb['ActionType0']=='S') & (vb['ActionOutcome0']=='!') & (vb['ActionHome0']==1) & (vb['ScoreMax']<score) & (vb['ScoreMax']>=score-5)\n",
    "    print('%s: avg probability %.1f%% (from data: %.1f%% out of %d)' % \\\n",
    "          (score, 50+50*np.mean(q_values[cond], axis=0), 50+50*np.mean(vb_c.RewardValue[cond], axis=0), sum(cond)))\n",
    "    values[i,1] = 50+50*np.mean(q_values[cond])\n",
    "    i+=1\n",
    "\n",
    "print('\\nHome + serve by score:')\n",
    "i = 0\n",
    "for score in range(5,26,5):\n",
    "    cond = (vb['ActionType0']=='S') & (vb['ActionOutcome0']=='+') & (vb['ActionHome0']==1) & (vb['ScoreMax']<score) & (vb['ScoreMax']>=score-5)\n",
    "    print('%s: avg probability %.1f%% (from data: %.1f%% out of %d)' % \\\n",
    "          (score, 50+50*np.mean(q_values[cond], axis=0), 50+50*np.mean(vb_c.RewardValue[cond], axis=0), sum(cond)))\n",
    "    values[i,2] = 50+50*np.mean(q_values[cond])\n",
    "    i+=1\n",
    "\n",
    "import matplotlib.pyplot as plt\n",
    "plt.figure(figsize=(9,6))\n",
    "plt.title('Serve risk assessment')\n",
    "plt.ylabel('Point score probability')\n",
    "plt.xlabel('Score')\n",
    "plt.grid(True)\n",
    "#plt.bar([5,10,15,20,25], values[:,2])\n",
    "plt.bar([5,10,15,20,25], values[:,1])\n",
    "plt.bar([5,10,15,20,25], values[:,0])\n",
    "plt.legend(['!','-'],loc='lower right')\n",
    "plt.ylim(30,45)\n",
    "plt.show()"
   ]
  },
  {
   "cell_type": "markdown",
   "metadata": {},
   "source": [
    "##### Action impact calculation"
   ]
  },
  {
   "cell_type": "code",
   "execution_count": 8,
   "metadata": {},
   "outputs": [
    {
     "name": "stdout",
     "output_type": "stream",
     "text": [
      "Impact calculation completed\n"
     ]
    }
   ],
   "source": [
    "n = 0\n",
    "prevDist = -1\n",
    "prevQ = 0\n",
    "impact = np.zeros(len(vb))\n",
    "\n",
    "home_default = np.mean(q_values_2[(vb.ActionHome0==1)&(vb.ActionType0=='S')])\n",
    "away_default = np.mean(q_values_2[(vb.ActionAway0==1)&(vb.ActionType0=='S')])\n",
    "\n",
    "for i in range(len(vb)): \n",
    "    if vb.RewardDistance[i] < prevDist:\n",
    "        prevQ = q_values[i-1]\n",
    "    else:\n",
    "        if vb.ActionHome0[i]==1:\n",
    "            prevQ = home_default\n",
    "        else:\n",
    "            prevQ = away_default\n",
    "        \n",
    "    impact[i] = q_values_2[i]-prevQ\n",
    "    if vb.ActionAway0[i]==1:\n",
    "        impact[i] = -impact[i]\n",
    "        \n",
    "    prevDist = vb.RewardDistance[i]\n",
    "print('Impact calculation completed')"
   ]
  },
  {
   "cell_type": "code",
   "execution_count": 11,
   "metadata": {},
   "outputs": [
    {
     "name": "stdout",
     "output_type": "stream",
     "text": [
      "Trinity Western 0.03019187719303909\n",
      "Alberta 0.024610840199417762\n",
      "UBC 0.01654527637307905\n",
      "Brandon 0.009564657105008962\n",
      "Calgary 0.007327354149008526\n",
      "Winnipeg 0.005124348982499403\n",
      "Mount Royal -0.006115689883630021\n",
      "Manitoba -0.007400952638312637\n",
      "Thompson Rivers -0.010765721096558217\n",
      "MacEwan -0.017824355300718898\n",
      "UBCO -0.021225843365678815\n",
      "Saskatchewan -0.023484047937359538\n"
     ]
    }
   ],
   "source": [
    "# Team impact\n",
    "player_impact = {}\n",
    "for player in vb.PlayerTeam.unique():\n",
    "    if len(vb[vb.PlayerTeam==player]) > 2000:\n",
    "        player_impact[player] = np.mean(impact[vb.PlayerTeam==player])\n",
    "    \n",
    "srt_impacts = {k: v for k, v in sorted(player_impact.items(), key=lambda item: item[1], reverse=True)}\n",
    "for k in srt_impacts.keys():\n",
    "    print(k, srt_impacts[k])"
   ]
  },
  {
   "cell_type": "code",
   "execution_count": 12,
   "metadata": {},
   "outputs": [
    {
     "name": "stdout",
     "output_type": "stream",
     "text": [
      "Eric Loeppky 0.08795947560234542\n",
      "Elliot Viles 0.08616441111641569\n",
      "Jackson Kennedy 0.06542580227211904\n",
      "George Hobern 0.0635420416511722\n",
      "Jordan Canham 0.05523940326698811\n",
      "Arran Chambers 0.05381455453506029\n",
      "Joel Regher 0.05356467718427831\n",
      "Hamish Hazelden 0.05227813108627029\n",
      "Gerard Murray 0.05157927073233357\n",
      "Daniel Thiessen 0.0507779345614234\n",
      "Alex Bader 0.04295735950127836\n",
      "Mitchell Higgin 0.042954402987408755\n",
      "Jordan Deshane 0.04239480871189084\n",
      "Tim Dobbert 0.03964482072378537\n",
      "Byron Keturakis 0.03849196341290328\n",
      "Matthew Neaves 0.03750897424339341\n",
      "Daulton Sinoski 0.036444099657159265\n",
      "Tim Taylor 0.034667685953499935\n",
      "Pearson Eshenko 0.03354715393637592\n",
      "Alex McMullin 0.03038117625504915\n",
      "Fynn McCarthy 0.030342271604375328\n",
      "Jacob Kern 0.030017427027594766\n",
      "Max Vriend 0.028689506594781523\n",
      "Tyler Schmidt 0.02790610889241714\n",
      "Irvandeep Brar 0.027239829276872594\n",
      "Connor Murray 0.02548578681600423\n",
      "Keith West 0.025291558637186254\n",
      "Jesse Elser 0.024662006083227068\n",
      "Mathew Guidi 0.024032137386825685\n",
      "Michael Dowhaniuk 0.02177283584601473\n",
      "Coltyn Liu 0.020436123780887192\n",
      "Dylan Mortensen 0.019339983800461917\n",
      "Taryq Sani 0.018904594495452405\n",
      "Seth Friesen 0.017028036400659557\n",
      "Liam Laidlaw 0.015200640823401172\n",
      "Owen Schwartz 0.01388447446960494\n",
      "Ethan Duncan 0.013156070417655229\n",
      "Derek Epp 0.010800375957798035\n",
      "Kai Hesthammer 0.010464365426627244\n",
      "Luis Lange 0.009145263975939922\n",
      "Jackson Howe 0.008159861181990429\n",
      "Liam Kuppe 0.007970640666516543\n",
      "Carter Bergen 0.0068055170437170045\n",
      "Zec Johnson 0.006447339104995696\n",
      "Dustin Spiring 0.0033337355412143264\n",
      "Garrett Jones 0.0014361865752240415\n",
      "Max Elgert 0.0012625871534594473\n",
      "Denham O'Reilly 0.0011046561748704969\n",
      "Kevin Negus 0.0002988609955905969\n",
      "Luke Brisbane 0.00028975422441701354\n",
      "Blain Cranston -0.0008670452964090788\n",
      "Mac McNicol -0.0008976583552122374\n",
      "Darian Picklyk -0.0015060848278452212\n",
      "Matt Saly -0.002131857415270172\n",
      "Anton Napolitano -0.0023942153662415513\n",
      "Mikael Clegg -0.002831518495160254\n",
      "Ben Hooker -0.0028958170006464\n",
      "Kyle Martens -0.002923419379079953\n",
      "Trent Mounter -0.0031892170038642347\n",
      "Adam Schriemer -0.003194067369852411\n",
      "Adam DeJonckheere -0.004073928824680693\n",
      "Brennan Goski -0.004856747710763335\n",
      "Mason Metcalf -0.005397143412778187\n",
      "Nigel Nielsen -0.005827837156276202\n",
      "Daniel Aspenlieder -0.008638421166688203\n",
      "Braedon Friesen -0.008671485906458231\n",
      "Scott Vercaigne -0.009008317119620048\n",
      "Jack Mandryk -0.009879563629915522\n",
      "Adrian Dyck -0.010968595818146463\n",
      "Derek Meeuwisse -0.011252886307382665\n",
      "Colin Fraser -0.011743136094166683\n",
      "Carter McIntyre -0.012224344805182114\n",
      "Keegan Teetaert -0.012745811133867219\n",
      "CJ Gavlas -0.013220774533762124\n",
      "Jon Laube -0.016435957122775968\n",
      "Tyson Smith -0.016860422745448533\n",
      "Reece Dixon -0.018640971571801574\n",
      "Jefferson Morrow -0.02221411488224728\n",
      "Thomas Sorra -0.023801697132752295\n",
      "Brendan Warren -0.024639307602661326\n",
      "Keal Prince -0.028739610805482783\n",
      "Charlie Bringloe -0.03075865843342711\n",
      "Jake Fleming -0.03187423037925681\n",
      "Jordan Peters -0.03302002310944987\n",
      "Regan Fathers -0.033599553953428736\n",
      "Nick Mickelberry -0.034814062162644675\n",
      "Tanner Grieves -0.04315570273621509\n"
     ]
    }
   ],
   "source": [
    "# Player impact\n",
    "player_impact = {}\n",
    "for player in vb.PlayerName.unique():\n",
    "    if len(vb[vb.PlayerName==player]) > 500:\n",
    "        player_impact[player] = np.mean(impact[vb.PlayerName==player])\n",
    "    \n",
    "srt_impacts = {k: v for k, v in sorted(player_impact.items(), key=lambda item: item[1], reverse=True)}\n",
    "for k in srt_impacts.keys():\n",
    "    print(k, srt_impacts[k])"
   ]
  },
  {
   "cell_type": "code",
   "execution_count": 59,
   "metadata": {},
   "outputs": [
    {
     "name": "stdout",
     "output_type": "stream",
     "text": [
      "S 0.008225415998385338\n",
      "R 0.0004132612417793642\n",
      "E -0.056165834987329924\n",
      "A 0.07156828746477645\n",
      "B -0.028465171267169638\n",
      "D -0.009190209054217987\n",
      "F -0.7499313103525262\n"
     ]
    }
   ],
   "source": [
    "for action in ['S','R','E','A','B','D','F']:\n",
    "    print(action, np.mean(impact[(vb.PlayerTeam=='Brandon')&(vb.ActionType0==action)]))"
   ]
  },
  {
   "cell_type": "markdown",
   "metadata": {},
   "source": [
    "#### Distance from end of rally comparison"
   ]
  },
  {
   "cell_type": "code",
   "execution_count": 21,
   "metadata": {},
   "outputs": [],
   "source": [
    "y_prob_tree = pickle.load(open('../output/y_probabilities_tree.pkl', 'rb'))\n",
    "y_mimic = pickle.load(open('../output/y_probabilities_mimictree.pkl', 'rb'))\n",
    "true_prob = np.zeros([len(vb),2])\n",
    "true_prob[:,0] = .5-.5*vb.RewardValue\n",
    "true_prob[:,1] = 1 - true_prob[:,0]\n",
    "nn_prob = np.zeros([len(vb),2])\n",
    "nn_prob[:,0] = .5-.5*q_values\n",
    "nn_prob[:,1] = 1 - nn_prob[:,0]\n",
    "mimic_prob = np.zeros([len(vb),2])\n",
    "mimic_prob[:,0] = .5-.5*y_mimic\n",
    "mimic_prob[:,1] = 1 - mimic_prob[:,0]"
   ]
  },
  {
   "cell_type": "code",
   "execution_count": 43,
   "metadata": {},
   "outputs": [
    {
     "data": {
      "image/png": "[encoded data removed]",
      "text/plain": [
       "<Figure size 864x576 with 1 Axes>"
      ]
     },
     "metadata": {
      "needs_background": "light"
     },
     "output_type": "display_data"
    }
   ],
   "source": [
    "import matplotlib.pyplot as plt\n",
    "accs_nn = []\n",
    "accs_tree = []\n",
    "accs_mimic = []\n",
    "max_dist = 15\n",
    "for dist in range(0,max_dist+1):\n",
    "    cond = (vb.RewardDistance == dist)\n",
    "    #print('\\nTree accuracy for distance %d: %.4f' % (dist, metrics.accuracy_score(tree_pred[cond], vb.RewardValue[cond])))\n",
    "    #print('NN accuracy for distance %d: %.4f' % (dist, metrics.accuracy_score(nn_pred[cond], vb.RewardValue[cond])))\n",
    "    accs_tree.append(metrics.roc_auc_score(true_prob[cond], y_prob_tree[cond]))\n",
    "    accs_nn.append(metrics.roc_auc_score(true_prob[cond], nn_prob[cond]))\n",
    "    accs_mimic.append(metrics.roc_auc_score(true_prob[cond], mimic_prob[cond]))\n",
    "plt.figure(figsize=(12,8))\n",
    "plt.title('Accuracy vs distance from end of rally')\n",
    "plt.grid(True)\n",
    "plt.xticks(range(0,max_dist+1))\n",
    "plt.xlabel('Distance from end of rally')\n",
    "plt.ylabel('Accuracy of away/home point classifier')\n",
    "plt.plot(range(0,max_dist+1), accs_nn)\n",
    "plt.plot(range(0,max_dist+1), accs_tree)\n",
    "plt.plot(range(0,max_dist+1), accs_mimic)\n",
    "plt.legend(['NN','Tree','Mimic'])\n",
    "plt.show()"
   ]
  },
  {
   "cell_type": "code",
   "execution_count": 44,
   "metadata": {},
   "outputs": [
    {
     "data": {
      "image/png": "[encoded data removed]",
      "text/plain": [
       "<Figure size 864x576 with 1 Axes>"
      ]
     },
     "metadata": {
      "needs_background": "light"
     },
     "output_type": "display_data"
    },
    {
     "name": "stdout",
     "output_type": "stream",
     "text": [
      "[34371, 28031, 25693, 22448, 14871, 7735, 5088, 2884, 1893, 1109, 745, 457, 276, 155, 104, 65]\n"
     ]
    }
   ],
   "source": [
    "import matplotlib.pyplot as plt\n",
    "totals = []\n",
    "max_dist = 15\n",
    "for dist in range(0,max_dist+1):\n",
    "    cond = (vb.RewardDistance == dist)\n",
    "    totals.append(np.sum(cond))\n",
    "plt.figure(figsize=(12,8))\n",
    "plt.title('Number of data points vs distance from end of rally')\n",
    "plt.grid(True)\n",
    "plt.xticks(range(0,max_dist+1))\n",
    "plt.xlabel('Distance from end of rally')\n",
    "plt.ylabel('Total data points')\n",
    "plt.plot(range(0,max_dist+1), totals, 'bo-')\n",
    "plt.show()\n",
    "print(totals)"
   ]
  },
  {
   "cell_type": "code",
   "execution_count": 4,
   "metadata": {},
   "outputs": [],
   "source": [
    "q_values_raw_2 = pickle.load(open('../output_retry_15/q_values_before.pkl', 'rb'))\n",
    "q_values_2 = np.asarray([q_values_raw_2[i,0] for i in range(len(q_values_raw_2))])\n",
    "# clipping\n",
    "q_values_2[q_values_2>1] = 1\n",
    "q_values_2[q_values_2<-1] = -1"
   ]
  },
  {
   "cell_type": "code",
   "execution_count": 6,
   "metadata": {},
   "outputs": [
    {
     "name": "stdout",
     "output_type": "stream",
     "text": [
      "\n",
      "Skill: S\n",
      "Tree: 0.01584\n",
      "NN1: 0.00018\n",
      "NN2: 0.00006\n",
      "Forest: 0.01723\n",
      "Mimic: 0.00006\n",
      "\n",
      "Skill: R\n",
      "Tree: 0.01509\n",
      "NN1: 0.00327\n",
      "NN2: 0.00051\n",
      "Forest: 0.01825\n",
      "Mimic: 0.00008\n",
      "\n",
      "Skill: A\n",
      "Tree: 0.03759\n",
      "NN1: 0.00870\n",
      "NN2: 0.00027\n",
      "Forest: 0.00748\n",
      "Mimic: 0.00755\n",
      "\n",
      "Skill: E\n",
      "Tree: 0.00741\n",
      "NN1: 0.02313\n",
      "NN2: 0.00194\n",
      "Forest: 0.00662\n",
      "Mimic: 0.00178\n",
      "\n",
      "Skill: B\n",
      "Tree: 0.06413\n",
      "NN1: 0.01747\n",
      "NN2: 0.00084\n",
      "Forest: 0.00250\n",
      "Mimic: 0.01253\n",
      "\n",
      "Skill: D\n",
      "Tree: 0.06620\n",
      "NN1: 0.01767\n",
      "NN2: 0.00020\n",
      "Forest: 0.01476\n",
      "Mimic: 0.00086\n"
     ]
    }
   ],
   "source": [
    "for action in ['S','R','A','E','B','D']:\n",
    "    print('\\nSkill:', action)\n",
    "    \n",
    "    count = 0\n",
    "    \n",
    "    outcome_regex = '[\\+\\!\\-]'\n",
    "    if action=='B':\n",
    "        outcome_regex = '[\\+\\!]'\n",
    "    elif action=='R':\n",
    "        outcome_regex = '[\\+\\!\\#\\-]'\n",
    "    elif action=='D':\n",
    "        outcome_regex = '[\\!\\#]'\n",
    "    \n",
    "    outcome_cond0 = pd.Series(vb['ActionOutcome0']).str.match(outcome_regex)\n",
    "    outcome_cond1 = pd.Series(vb['ActionOutcome1']).str.match(outcome_regex)\n",
    "    \n",
    "    cond0 = (vb['ActionType0']==action) & (vb['ActionHome0']==1) & (outcome_cond0)\n",
    "    cond1 = (vb['ActionType1']==action) & (vb['ActionHome1']==1) & (outcome_cond1)\n",
    "\n",
    "    if sum(cond0) != sum(cond1):\n",
    "        print(sum(cond0),sum(cond1))\n",
    "        continue\n",
    "\n",
    "    if sum(cond1) == 0:\n",
    "        continue\n",
    "\n",
    "    tree_total = np.abs(np.mean(q_tree[cond1]) - np.mean(q_tree[cond0]))\n",
    "    nn1_total = np.abs(np.mean(q_values[cond1]) - np.mean(q_values[cond0]))\n",
    "    nn2_total = np.abs(np.mean(q_values_2[cond1]) - np.mean(q_values_2[cond0]))\n",
    "    forest_total = np.abs(np.mean(q_forest[cond1]) - np.mean(q_forest[cond0]))\n",
    "    mimic_total = np.abs(np.mean(q_mimic[cond1]) - np.mean(q_mimic[cond0]))\n",
    "\n",
    "    count += sum(cond0)\n",
    "        \n",
    "    print('Tree: %.5f' % (tree_total))\n",
    "    print('NN1: %.5f' % (nn1_total))\n",
    "    print('NN2: %.5f' % (nn2_total))\n",
    "    print('Forest: %.5f' % (forest_total))\n",
    "    print('Mimic: %.5f'% (mimic_total))"
   ]
  },
  {
   "cell_type": "code",
   "execution_count": 10,
   "metadata": {},
   "outputs": [
    {
     "name": "stdout",
     "output_type": "stream",
     "text": [
      "Mean squared error for NN 1: 0.605\n",
      "Mean squared error for NN 2: 0.603\n",
      "Mean squared error for Classifier Tree: 0.613\n",
      "Mean squared error for Mimic Tree: 0.606\n",
      "Mean squared error for Forest: 0.592\n",
      "\n",
      "\n",
      "ROC-AUC score for NN 1: 0.853\n",
      "ROC-AUC score for NN 2: 0.854\n",
      "ROC-AUC score for Classifier Tree: 0.849\n",
      "ROC-AUC score for Mimic Tree: 0.852\n",
      "ROC-AUC score for Forest: 0.862\n"
     ]
    }
   ],
   "source": [
    "print('Mean squared error for NN 1: %.3f' % (metrics.mean_squared_error(vb.RewardValue,q_values)))\n",
    "print('Mean squared error for NN 2: %.3f' % (metrics.mean_squared_error(vb.RewardValue,q_values_2)))\n",
    "print('Mean squared error for Classifier Tree: %.3f' % (metrics.mean_squared_error(vb.RewardValue,q_tree)))\n",
    "print('Mean squared error for Mimic Tree: %.3f' % (metrics.mean_squared_error(vb.RewardValue,q_mimic)))\n",
    "print('Mean squared error for Forest: %.3f' % (metrics.mean_squared_error(vb.RewardValue,q_forest)))\n",
    "print('\\n')\n",
    "print('ROC-AUC score for NN 1: %.3f' % (metrics.roc_auc_score(vb.RewardValue,q_values)))\n",
    "print('ROC-AUC score for NN 2: %.3f' % (metrics.roc_auc_score(vb.RewardValue,q_values_2)))\n",
    "print('ROC-AUC score for Classifier Tree: %.3f' % (metrics.roc_auc_score(vb.RewardValue,q_tree)))\n",
    "print('ROC-AUC score for Mimic Tree: %.3f' % (metrics.roc_auc_score(vb.RewardValue,q_mimic)))\n",
    "print('ROC-AUC score for Forest: %.3f' % (metrics.roc_auc_score(vb.RewardValue,q_forest)))"
   ]
  },
  {
   "cell_type": "code",
   "execution_count": 5,
   "metadata": {},
   "outputs": [
    {
     "name": "stdout",
     "output_type": "stream",
     "text": [
      "0.7550770284149264\n"
     ]
    }
   ],
   "source": [
    "nn2_pred = np.sign(q_values_2)\n",
    "print(metrics.accuracy_score(vb.RewardValue, nn2_pred))"
   ]
  },
  {
   "cell_type": "code",
   "execution_count": 13,
   "metadata": {},
   "outputs": [
    {
     "name": "stdout",
     "output_type": "stream",
     "text": [
      "=: avg probability -1.00 (from data: 0.0% out of 3227)\n",
      "-: avg probability -0.29 (from data: 35.4% out of 7929)\n",
      "!: avg probability -0.10 (from data: 44.7% out of 2064)\n",
      "+: avg probability 0.22 (from data: 61.9% out of 3084)\n",
      "#: avg probability 1.00 (from data: 100.0% out of 1266)\n"
     ]
    }
   ],
   "source": [
    "for outcome in ['=','-','!','+','#']:\n",
    "    cond = (vb['ActionType0']=='S') & (vb['ActionOutcome0']==outcome) & (vb['ActionHome0']==1)\n",
    "    print('%s: avg probability %.2f (from data: %.1f%% out of %d)' % \\\n",
    "          (outcome, np.mean(q_values_2[cond], axis=0), 50+50*np.mean(vb_c.RewardValue[cond], axis=0), sum(cond)))"
   ]
  },
  {
   "cell_type": "code",
   "execution_count": null,
   "metadata": {},
   "outputs": [],
   "source": []
  }
 ],
 "metadata": {
  "kernelspec": {
   "display_name": "Python 3.6.7 64-bit",
   "language": "python",
   "name": "python36764bitd8cc2f1ea61f43498d4bb06eb07502d2"
  },
  "language_info": {
   "codemirror_mode": {
    "name": "ipython",
    "version": 3
   },
   "file_extension": ".py",
   "mimetype": "text/x-python",
   "name": "python",
   "nbconvert_exporter": "python",
   "pygments_lexer": "ipython3",
   "version": "3.6.7"
  }
 },
 "nbformat": 4,
 "nbformat_minor": 2
}
