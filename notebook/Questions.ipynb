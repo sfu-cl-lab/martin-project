{
 "cells": [
  {
   "cell_type": "code",
   "execution_count": 2,
   "metadata": {},
   "outputs": [],
   "source": [
    "import pandas as pd\n",
    "import numpy as np\n",
    "import pickle"
   ]
  },
  {
   "cell_type": "code",
   "execution_count": 12,
   "metadata": {},
   "outputs": [],
   "source": [
    "vb = pd.read_csv(\"../data/vb_data_3_numZone.csv\")\n",
    "vb_c = pd.read_csv(\"../data/vb_data_3_categZone.csv\")\n",
    "q_values_raw = pickle.load(open('../output/q_values_new.pkl', 'rb'))\n",
    "q_values = np.asarray([q_values_raw[i,0] for i in range(len(q_values_raw))])\n",
    "# clipping\n",
    "q_values[q_values>1] = 1\n",
    "q_values[q_values<-1] = -1\n",
    "y_prob_tree = pickle.load(open('../output/y_probabilities_tree.pkl', 'rb'))\n",
    "q_tree = y_prob_tree[:,1]*2 - 1"
   ]
  },
  {
   "cell_type": "code",
   "execution_count": 47,
   "metadata": {},
   "outputs": [],
   "source": [
    "# fix team names\n",
    "vb.loc[vb.PlayerTeam=='TWU', 'PlayerTeam'] = 'Trinity Western'\n",
    "vb.loc[vb.PlayerTeam=='TRU', 'PlayerTeam'] = 'Thompson Rivers'\n",
    "vb.loc[vb.PlayerTeam=='MRU', 'PlayerTeam'] = 'Mount Royal'"
   ]
  },
  {
   "cell_type": "markdown",
   "metadata": {},
   "source": [
    "##### Basic Miscellaneous"
   ]
  },
  {
   "cell_type": "code",
   "execution_count": 6,
   "metadata": {},
   "outputs": [
    {
     "name": "stdout",
     "output_type": "stream",
     "text": [
      "34371 total rallies\n"
     ]
    }
   ],
   "source": [
    "n = 0\n",
    "prevDist = -1\n",
    "for i in range(len(vb)):\n",
    "    if vb.RewardDistance[i] >= prevDist:\n",
    "        n += 1\n",
    "    prevDist = vb.RewardDistance[i]\n",
    "print(n, 'total rallies')"
   ]
  },
  {
   "cell_type": "code",
   "execution_count": 13,
   "metadata": {},
   "outputs": [
    {
     "name": "stdout",
     "output_type": "stream",
     "text": [
      "Cross entropy loss for NN: 3.065\n",
      "Cross entropy loss for Tree: 3.606\n",
      "\n",
      "\n",
      "Mean squared error for NN: 0.542\n",
      "Mean squared error for Tree: 0.540\n",
      "\n",
      "\n",
      "ROC-AUC error for NN: 0.147\n",
      "ROC-AUC error for Tree: 0.151\n"
     ]
    }
   ],
   "source": [
    "from sklearn import metrics\n",
    "true_prob = np.zeros([len(vb),2])\n",
    "true_prob[:,0] = .5+.5*vb.RewardValue\n",
    "true_prob[:,1] = 1 - true_prob[:,0]\n",
    "nn_prob = np.zeros([len(vb),2])\n",
    "nn_prob[:,0] = .5-.5*q_values\n",
    "nn_prob[:,1] = 1 - nn_prob[:,0]\n",
    "\n",
    "print('Cross entropy loss for NN: %.3f' % (metrics.log_loss(true_prob,nn_prob,eps=1e-4)))\n",
    "print('Cross entropy loss for Tree: %.3f' % (metrics.log_loss(true_prob,y_prob_tree,eps=1e-4)))\n",
    "print('\\n')\n",
    "print('Mean squared error for NN: %.3f' % (metrics.mean_squared_error(true_prob,nn_prob)))\n",
    "print('Mean squared error for Tree: %.3f' % (metrics.mean_squared_error(true_prob,y_prob_tree)))\n",
    "print('\\n')\n",
    "print('ROC-AUC error for NN: %.3f' % (metrics.roc_auc_score(true_prob,nn_prob)))\n",
    "print('ROC-AUC error for Tree: %.3f' % (metrics.roc_auc_score(true_prob,y_prob_tree)))"
   ]
  },
  {
   "cell_type": "markdown",
   "metadata": {},
   "source": [
    "##### Set by Location"
   ]
  },
  {
   "cell_type": "code",
   "execution_count": 3,
   "metadata": {},
   "outputs": [
    {
     "name": "stdout",
     "output_type": "stream",
     "text": [
      "\n",
      "Home set by execution zone:\n",
      "3A: avg probability 65.6% (actual 67.0% out of 1700)\n",
      "3B: avg probability 69.6% (actual 72.6% out of 2108)\n",
      "3C: avg probability 67.5% (actual 68.4% out of 757)\n",
      "3D: avg probability 65.1% (actual 62.7% out of 644)\n",
      "2A: avg probability 62.4% (actual 62.2% out of 201)\n",
      "2B: avg probability 64.8% (actual 61.7% out of 154)\n",
      "2C: avg probability 68.8% (actual 70.6% out of 646)\n",
      "2D: avg probability 65.3% (actual 67.4% out of 651)\n",
      "4A: avg probability 63.4% (actual 63.1% out of 168)\n",
      "4B: avg probability 64.9% (actual 68.3% out of 167)\n",
      "4C: avg probability 62.7% (actual 60.0% out of 10)\n",
      "4D: avg probability 59.8% (actual 38.5% out of 13)\n",
      "9B: avg probability 56.5% (actual 45.5% out of 33)\n",
      "9C: avg probability 57.0% (actual 57.3% out of 117)\n",
      "8B: avg probability 57.5% (actual 61.4% out of 197)\n",
      "8C: avg probability 56.5% (actual 65.7% out of 108)\n",
      "7B: avg probability 56.4% (actual 50.0% out of 48)\n",
      "7C: avg probability 58.9% (actual 66.7% out of 3)\n",
      "\n",
      "Home receive by end zone:\n",
      "3A: avg probability 65.0% (actual 65.3% out of 2277)\n",
      "3B: avg probability 69.6% (actual 72.4% out of 2366)\n",
      "3C: avg probability 67.3% (actual 68.1% out of 759)\n",
      "3D: avg probability 64.6% (actual 62.7% out of 644)\n",
      "2A: avg probability 61.2% (actual 62.2% out of 201)\n",
      "2B: avg probability 63.9% (actual 61.7% out of 154)\n",
      "2C: avg probability 68.3% (actual 70.6% out of 646)\n",
      "2D: avg probability 64.6% (actual 67.4% out of 650)\n",
      "4A: avg probability 63.0% (actual 63.1% out of 168)\n",
      "4B: avg probability 64.1% (actual 68.3% out of 167)\n",
      "4C: avg probability 60.8% (actual 60.0% out of 10)\n",
      "4D: avg probability 59.1% (actual 38.5% out of 13)\n",
      "9B: avg probability 55.0% (actual 45.5% out of 33)\n",
      "9C: avg probability 54.8% (actual 57.3% out of 117)\n",
      "8B: avg probability 56.0% (actual 61.4% out of 197)\n",
      "8C: avg probability 55.3% (actual 67.0% out of 106)\n",
      "7B: avg probability 54.7% (actual 50.0% out of 48)\n",
      "7C: avg probability 57.9% (actual 66.7% out of 3)\n"
     ]
    }
   ],
   "source": [
    "print('\\nHome set by execution zone:')\n",
    "for zone in ['3A','3B','3C','3D','2A','2B','2C','2D','4A','4B','4C','4D','9B','9C','8B','8C','7B','7C']:\n",
    "    cond = (vb_c['ActionType0']=='E') & (vb_c['ActionHome0']==1) & (vb_c['ActionStartZone0']=='Z'+zone)\n",
    "    print('%s: avg probability %.1f%% (actual %.1f%% out of %d)' % \\\n",
    "          (zone, 50+50*np.mean(q_values[cond], axis=0), 50+50*np.mean(vb_c.RewardValue[cond], axis=0), sum(cond)))\n",
    "    \n",
    "print('\\nHome receive by end zone:')\n",
    "for zone in ['3A','3B','3C','3D','2A','2B','2C','2D','4A','4B','4C','4D','9B','9C','8B','8C','7B','7C']:\n",
    "    cond = (vb_c['ActionType0']=='R') & (vb_c['ActionHome0']==1) & (vb_c['ActionEndZone0']=='Z'+zone)\n",
    "    print('%s: avg probability %.1f%% (actual %.1f%% out of %d)' % \\\n",
    "          (zone, 50+50*np.mean(q_values[cond], axis=0), 50+50*np.mean(vb_c.RewardValue[cond], axis=0), sum(cond))) "
   ]
  },
  {
   "cell_type": "markdown",
   "metadata": {},
   "source": [
    "##### R# and R+ actions by score"
   ]
  },
  {
   "cell_type": "code",
   "execution_count": 17,
   "metadata": {},
   "outputs": [
    {
     "name": "stdout",
     "output_type": "stream",
     "text": [
      "\n",
      "Home R# by score:\n",
      "5: avg probability 70.5% (from data: 73.1% out of 453)\n",
      "10: avg probability 70.5% (from data: 72.1% out of 498)\n",
      "15: avg probability 70.7% (from data: 70.7% out of 543)\n",
      "20: avg probability 70.7% (from data: 72.3% out of 519)\n",
      "25: avg probability 71.2% (from data: 73.4% out of 508)\n",
      "\n",
      "Home R+ by score:\n",
      "5: avg probability 65.0% (from data: 68.5% out of 951)\n",
      "10: avg probability 65.0% (from data: 65.2% out of 1044)\n",
      "15: avg probability 65.0% (from data: 65.1% out of 1129)\n",
      "20: avg probability 65.1% (from data: 64.0% out of 1100)\n",
      "25: avg probability 65.2% (from data: 68.0% out of 1055)\n",
      "\n",
      "Home R# by score diff:\n",
      "-4: avg probability 71.9% (from data: 73.0% out of 89)\n",
      "-3: avg probability 71.7% (from data: 66.0% out of 162)\n",
      "-2: avg probability 71.2% (from data: 69.7% out of 234)\n",
      "-1: avg probability 71.0% (from data: 71.7% out of 258)\n",
      "0: avg probability 70.8% (from data: 71.7% out of 406)\n",
      "1: avg probability 70.3% (from data: 70.6% out of 367)\n",
      "2: avg probability 70.1% (from data: 74.8% out of 278)\n",
      "3: avg probability 69.7% (from data: 73.9% out of 184)\n",
      "4: avg probability 69.7% (from data: 76.9% out of 117)\n",
      "\n",
      "Home R+ by score:\n",
      "-4: avg probability 66.7% (from data: 65.9% out of 258)\n",
      "-3: avg probability 66.2% (from data: 65.1% out of 335)\n",
      "-2: avg probability 65.9% (from data: 71.6% out of 443)\n",
      "-1: avg probability 65.6% (from data: 66.8% out of 539)\n",
      "0: avg probability 65.2% (from data: 69.9% out of 794)\n",
      "1: avg probability 64.8% (from data: 65.9% out of 822)\n",
      "2: avg probability 64.3% (from data: 63.4% out of 514)\n",
      "3: avg probability 63.9% (from data: 62.5% out of 352)\n",
      "4: avg probability 63.6% (from data: 64.1% out of 273)\n"
     ]
    }
   ],
   "source": [
    "print('\\nHome R# by score:')\n",
    "for score in range(5,26,5): #['Z3','Z4','Z2','Z9','Z8']:\n",
    "    cond = (vb['ActionType0']=='R') & (vb['ActionOutcome0']=='#') & (vb['ActionHome0']==1) & (vb['ScoreMax']<score) & (vb['ScoreMax']>=score-5)\n",
    "    print('%s: avg probability %.1f%% (from data: %.1f%% out of %d)' % \\\n",
    "          (score, 50+50*np.mean(q_values[cond], axis=0), 50+50*np.mean(vb_c.RewardValue[cond], axis=0), sum(cond)))\n",
    "\n",
    "print('\\nHome R+ by score:')\n",
    "for score in range(5,26,5): #['Z3','Z4','Z2','Z9','Z8']:\n",
    "    cond = (vb['ActionType0']=='R') & (vb['ActionOutcome0']=='+') & (vb['ActionHome0']==1) & (vb['ScoreMax']<score) & (vb['ScoreMax']>=score-5)\n",
    "    print('%s: avg probability %.1f%% (from data: %.1f%% out of %d)' % \\\n",
    "          (score, 50+50*np.mean(q_values[cond], axis=0), 50+50*np.mean(vb_c.RewardValue[cond], axis=0), sum(cond)))\n",
    "    \n",
    "print('\\nHome R# by score diff:')\n",
    "for diff in range(-4,5):\n",
    "    cond = (vb['ActionType0']=='R') & (vb['ActionOutcome0']=='#') & (vb['ActionHome0']==1) & (vb['ScoreDiff']==diff)\n",
    "    print('%s: avg probability %.1f%% (from data: %.1f%% out of %d)' % \\\n",
    "          (diff, 50+50*np.mean(q_values[cond], axis=0), 50+50*np.mean(vb_c.RewardValue[cond], axis=0), sum(cond)))\n",
    "\n",
    "print('\\nHome R+ by score:')\n",
    "for diff in range(-4,5):\n",
    "    cond = (vb['ActionType0']=='R') & (vb['ActionOutcome0']=='+') & (vb['ActionHome0']==1) & (vb['ScoreDiff']==diff)\n",
    "    print('%s: avg probability %.1f%% (from data: %.1f%% out of %d)' % \\\n",
    "          (diff, 50+50*np.mean(q_values[cond], axis=0), 50+50*np.mean(vb_c.RewardValue[cond], axis=0), sum(cond)))"
   ]
  },
  {
   "cell_type": "markdown",
   "metadata": {},
   "source": [
    "##### Float and Spin Serve by Score"
   ]
  },
  {
   "cell_type": "code",
   "execution_count": 60,
   "metadata": {},
   "outputs": [
    {
     "name": "stdout",
     "output_type": "stream",
     "text": [
      "Home float avg probability 39.2% (from data: 39.8% out of 12489)\n",
      "Home spin avg probability 37.6% (from data: 38.0% out of 5081)\n",
      "Away float avg probability 37.6% (from data: 37.1% out of 12197)\n",
      "Away spin avg probability 34.2% (from data: 33.6% out of 4604)\n",
      "\n",
      "Home float serve by score:\n",
      "5: avg probability 40.1% (from data: 40.8% out of 2291)\n",
      "10: avg probability 39.4% (from data: 40.4% out of 2400)\n",
      "15: avg probability 38.8% (from data: 39.3% out of 2581)\n",
      "20: avg probability 39.2% (from data: 38.7% out of 2480)\n",
      "25: avg probability 38.4% (from data: 39.9% out of 2600)\n",
      "\n",
      "Home spin serve by score:\n",
      "5: avg probability 37.9% (from data: 39.1% out of 818)\n",
      "10: avg probability 38.2% (from data: 38.0% out of 1204)\n",
      "15: avg probability 37.3% (from data: 37.3% out of 1083)\n",
      "20: avg probability 37.4% (from data: 39.6% out of 974)\n",
      "25: avg probability 37.7% (from data: 37.1% out of 950)\n",
      "\n",
      "Home float serve by score diff:\n",
      "-4: avg probability 40.4% (from data: 41.1% out of 880)\n",
      "-3: avg probability 40.2% (from data: 39.3% out of 1193)\n",
      "-2: avg probability 40.8% (from data: 41.8% out of 1454)\n",
      "-1: avg probability 39.8% (from data: 39.3% out of 1896)\n",
      "0: avg probability 38.4% (from data: 39.1% out of 1788)\n",
      "1: avg probability 38.1% (from data: 40.6% out of 1024)\n",
      "2: avg probability 37.0% (from data: 37.6% out of 761)\n",
      "3: avg probability 37.9% (from data: 41.1% out of 513)\n",
      "4: avg probability 35.6% (from data: 33.9% out of 380)\n",
      "\n",
      "Home spin serve by score diff:\n",
      "-4: avg probability 39.6% (from data: 43.1% out of 360)\n",
      "-3: avg probability 40.4% (from data: 41.3% out of 509)\n",
      "-2: avg probability 39.7% (from data: 40.8% out of 574)\n",
      "-1: avg probability 37.4% (from data: 38.6% out of 699)\n",
      "0: avg probability 34.4% (from data: 34.2% out of 740)\n",
      "1: avg probability 40.0% (from data: 38.9% out of 416)\n",
      "2: avg probability 35.3% (from data: 33.9% out of 289)\n",
      "3: avg probability 36.4% (from data: 35.4% out of 192)\n",
      "4: avg probability 32.5% (from data: 25.9% out of 143)\n"
     ]
    }
   ],
   "source": [
    "cond = (vb['ActionType0']=='S') & (vb['ActionSpeed0']==-1) & (vb['ActionHome0']==1)\n",
    "print('Home float avg probability %.1f%% (from data: %.1f%% out of %d)' % \\\n",
    "          (50+50*np.mean(q_values[cond], axis=0), 50+50*np.mean(vb_c.RewardValue[cond], axis=0), sum(cond)))\n",
    "cond = (vb['ActionType0']=='S') & (vb['ActionSpeed0']==1) & (vb['ActionHome0']==1)\n",
    "print('Home spin avg probability %.1f%% (from data: %.1f%% out of %d)' % \\\n",
    "          (50+50*np.mean(q_values[cond], axis=0), 50+50*np.mean(vb_c.RewardValue[cond], axis=0), sum(cond)))\n",
    "cond = (vb['ActionType0']=='S') & (vb['ActionSpeed0']==-1) & (vb['ActionAway0']==1)\n",
    "print('Away float avg probability %.1f%% (from data: %.1f%% out of %d)' % \\\n",
    "          (50-50*np.mean(q_values[cond], axis=0), 50-50*np.mean(vb_c.RewardValue[cond], axis=0), sum(cond)))\n",
    "cond = (vb['ActionType0']=='S') & (vb['ActionSpeed0']==1) & (vb['ActionAway0']==1)\n",
    "print('Away spin avg probability %.1f%% (from data: %.1f%% out of %d)' % \\\n",
    "          (50-50*np.mean(q_values[cond], axis=0), 50-50*np.mean(vb_c.RewardValue[cond], axis=0), sum(cond)))\n",
    "\n",
    "print('\\nHome float serve by score:')\n",
    "for score in range(5,26,5): #['Z3','Z4','Z2','Z9','Z8']:\n",
    "    cond = (vb['ActionType0']=='S') & (vb['ActionSpeed0']==-1) & (vb['ActionHome0']==1) & (vb['ScoreMax']<score) & (vb['ScoreMax']>=score-5)\n",
    "    print('%s: avg probability %.1f%% (from data: %.1f%% out of %d)' % \\\n",
    "          (score, 50+50*np.mean(q_values[cond], axis=0), 50+50*np.mean(vb_c.RewardValue[cond], axis=0), sum(cond)))\n",
    "\n",
    "print('\\nHome spin serve by score:')\n",
    "for score in range(5,26,5): #['Z3','Z4','Z2','Z9','Z8']:\n",
    "    cond = (vb['ActionType0']=='S') & (vb['ActionSpeed0']==1) & (vb['ActionHome0']==1) & (vb['ScoreMax']<score) & (vb['ScoreMax']>=score-5)\n",
    "    print('%s: avg probability %.1f%% (from data: %.1f%% out of %d)' % \\\n",
    "          (score, 50+50*np.mean(q_values[cond], axis=0), 50+50*np.mean(vb_c.RewardValue[cond], axis=0), sum(cond)))\n",
    "    \n",
    "print('\\nHome float serve by score diff:')\n",
    "for diff in range(-4,5):\n",
    "    cond = (vb['ActionType0']=='S') & (vb['ActionSpeed0']==-1) & (vb['ActionHome0']==1) & (vb['ScoreDiff']==diff)\n",
    "    print('%s: avg probability %.1f%% (from data: %.1f%% out of %d)' % \\\n",
    "          (diff, 50+50*np.mean(q_values[cond], axis=0), 50+50*np.mean(vb_c.RewardValue[cond], axis=0), sum(cond)))\n",
    "\n",
    "print('\\nHome spin serve by score diff:')\n",
    "for diff in range(-4,5):\n",
    "    cond = (vb['ActionType0']=='S') & (vb['ActionSpeed0']==1) & (vb['ActionHome0']==1) & (vb['ScoreDiff']==diff)\n",
    "    print('%s: avg probability %.1f%% (from data: %.1f%% out of %d)' % \\\n",
    "          (diff, 50+50*np.mean(q_values[cond], axis=0), 50+50*np.mean(vb_c.RewardValue[cond], axis=0), sum(cond)))"
   ]
  },
  {
   "cell_type": "markdown",
   "metadata": {},
   "source": [
    "##### Middle set by score"
   ]
  },
  {
   "cell_type": "code",
   "execution_count": 37,
   "metadata": {},
   "outputs": [
    {
     "name": "stdout",
     "output_type": "stream",
     "text": [
      "\n",
      "Home middle set by score:\n",
      "5: avg probability 67.8% (from data: 74.7% out of 95)\n",
      "10: avg probability 67.6% (from data: 73.7% out of 118)\n",
      "15: avg probability 67.4% (from data: 63.8% out of 152)\n",
      "20: avg probability 68.0% (from data: 61.5% out of 122)\n",
      "25: avg probability 67.7% (from data: 75.0% out of 104)\n"
     ]
    }
   ],
   "source": [
    "print('\\nHome middle set by score:')\n",
    "for score in range(5,26,5):\n",
    "    cond = (vb_c['ActionType0']=='E') & \\\n",
    "           (vb_c['ActionHome0']==1) & \\\n",
    "           (vb_c['ActionEndZone0']=='Z'+zone) & \\\n",
    "           (vb['ScoreMax']<score) & (vb['ScoreMax']>=score-5)\n",
    "    print('%s: avg probability %.1f%% (from data: %.1f%% out of %d)' % \\\n",
    "          (score, 50+50*np.mean(q_values[cond], axis=0), 50+50*np.mean(vb_c.RewardValue[cond], axis=0), sum(cond)))"
   ]
  },
  {
   "cell_type": "markdown",
   "metadata": {},
   "source": [
    "##### Attack by trajectory"
   ]
  },
  {
   "cell_type": "code",
   "execution_count": 55,
   "metadata": {},
   "outputs": [
    {
     "name": "stdout",
     "output_type": "stream",
     "text": [
      "Home left side attack by end zone:\n",
      "1: avg probability 63.9% (from data: 65.7% out of 1480)\n",
      "6: avg probability 56.8% (from data: 56.8% out of 1825)\n",
      "5: avg probability 61.9% (from data: 61.5% out of 1498)\n",
      "7: avg probability 68.2% (from data: 69.3% out of 1177)\n",
      "3: avg probability 58.0% (from data: 58.1% out of 1867)\n",
      "\n",
      "Home right side attack by end zone:\n",
      "5: avg probability 70.9% (from data: 71.2% out of 688)\n",
      "6: avg probability 58.8% (from data: 59.1% out of 731)\n",
      "1: avg probability 62.7% (from data: 61.4% out of 661)\n",
      "9: avg probability 69.9% (from data: 72.0% out of 528)\n",
      "3: avg probability 59.1% (from data: 59.1% out of 633)\n",
      "\n",
      "Home left side high ball attack by end zone:\n",
      "1: avg probability 55.1% (from data: 57.0% out of 402)\n",
      "6: avg probability 51.6% (from data: 51.6% out of 696)\n",
      "5: avg probability 53.6% (from data: 53.4% out of 577)\n",
      "7: avg probability 56.5% (from data: 58.4% out of 250)\n",
      "3: avg probability 54.1% (from data: 53.8% out of 766)\n"
     ]
    }
   ],
   "source": [
    "print('Home left side attack by end zone:')\n",
    "for zone in ['1','6','5','7','3']:\n",
    "    cond = (vb_c['ActionType0']=='A') & \\\n",
    "           (vb_c['ActionHome0']==1) & \\\n",
    "           (vb_c['ActionStartZone0']=='Z4') & \\\n",
    "           ((vb_c['ActionEndZone0']=='Z'+zone) | \\\n",
    "           (vb_c['ActionEndZone0']=='Z'+zone+'A') | \\\n",
    "           (vb_c['ActionEndZone0']=='Z'+zone+'B') | \\\n",
    "           (vb_c['ActionEndZone0']=='Z'+zone+'C') | \\\n",
    "           (vb_c['ActionEndZone0']=='Z'+zone+'D'))\n",
    "    print('%s: avg probability %.1f%% (from data: %.1f%% out of %d)' % \\\n",
    "          (zone, 50+50*np.mean(q_values[cond], axis=0), 50+50*np.mean(vb_c.RewardValue[cond], axis=0), sum(cond)))\n",
    "    \n",
    "print('\\nHome right side attack by end zone:')\n",
    "for zone in ['5','6','1','9','3']:\n",
    "    cond = (vb_c['ActionType0']=='A') & \\\n",
    "           (vb_c['ActionHome0']==1) & \\\n",
    "           (vb_c['ActionStartZone0']=='Z2') & \\\n",
    "           ((vb_c['ActionEndZone0']=='Z'+zone) | \\\n",
    "           (vb_c['ActionEndZone0']=='Z'+zone+'A') | \\\n",
    "           (vb_c['ActionEndZone0']=='Z'+zone+'B') | \\\n",
    "           (vb_c['ActionEndZone0']=='Z'+zone+'C') | \\\n",
    "           (vb_c['ActionEndZone0']=='Z'+zone+'D'))\n",
    "    print('%s: avg probability %.1f%% (from data: %.1f%% out of %d)' % \\\n",
    "          (zone, 50+50*np.mean(q_values[cond], axis=0), 50+50*np.mean(vb_c.RewardValue[cond], axis=0), sum(cond)))\n",
    "\n",
    "print('\\nHome left side high ball attack by end zone:')\n",
    "for zone in ['1','6','5','7','3']:\n",
    "    cond = (vb_c['ActionType0']=='A') & \\\n",
    "           (vb_c['ActionHome0']==1) & \\\n",
    "           (vb_c['ActionSpeed0']==-1) & \\\n",
    "           (vb_c['ActionStartZone0']=='Z4') & \\\n",
    "           ((vb_c['ActionEndZone0']=='Z'+zone) | \\\n",
    "           (vb_c['ActionEndZone0']=='Z'+zone+'A') | \\\n",
    "           (vb_c['ActionEndZone0']=='Z'+zone+'B') | \\\n",
    "           (vb_c['ActionEndZone0']=='Z'+zone+'C') | \\\n",
    "           (vb_c['ActionEndZone0']=='Z'+zone+'D'))\n",
    "    print('%s: avg probability %.1f%% (from data: %.1f%% out of %d)' % \\\n",
    "          (zone, 50+50*np.mean(q_values[cond], axis=0), 50+50*np.mean(vb_c.RewardValue[cond], axis=0), sum(cond)))"
   ]
  },
  {
   "cell_type": "markdown",
   "metadata": {},
   "source": [
    "##### Serve risk"
   ]
  },
  {
   "cell_type": "code",
   "execution_count": 94,
   "metadata": {},
   "outputs": [
    {
     "name": "stdout",
     "output_type": "stream",
     "text": [
      "\n",
      "Home - serve by score:\n",
      "5: avg probability 35.5% (from data: 35.9% out of 1408)\n",
      "10: avg probability 35.3% (from data: 36.1% out of 1569)\n",
      "15: avg probability 34.8% (from data: 35.4% out of 1652)\n",
      "20: avg probability 34.6% (from data: 33.4% out of 1573)\n",
      "25: avg probability 34.1% (from data: 36.3% out of 1643)\n",
      "\n",
      "Home ! serve by score:\n",
      "5: avg probability 44.0% (from data: 46.9% out of 356)\n",
      "10: avg probability 44.1% (from data: 42.5% out of 409)\n",
      "15: avg probability 44.1% (from data: 46.9% out of 426)\n",
      "20: avg probability 44.3% (from data: 41.7% out of 417)\n",
      "25: avg probability 44.5% (from data: 45.9% out of 429)\n",
      "\n",
      "Home + serve by score:\n",
      "5: avg probability 60.2% (from data: 61.9% out of 591)\n",
      "10: avg probability 60.6% (from data: 63.1% out of 637)\n",
      "15: avg probability 60.3% (from data: 59.1% out of 638)\n",
      "20: avg probability 60.3% (from data: 66.7% out of 591)\n",
      "25: avg probability 60.4% (from data: 58.7% out of 595)\n"
     ]
    },
    {
     "data": {
      "image/png": "[encoded data removed]",
      "text/plain": [
       "<Figure size 648x432 with 1 Axes>"
      ]
     },
     "metadata": {
      "needs_background": "light"
     },
     "output_type": "display_data"
    }
   ],
   "source": [
    "values = np.zeros([5,3])\n",
    "print('\\nHome - serve by score:')\n",
    "i = 0\n",
    "for score in range(5,26,5):\n",
    "    cond = (vb['ActionType0']=='S') & (vb['ActionOutcome0']=='-') & (vb['ActionHome0']==1) & (vb['ScoreMax']<score) & (vb['ScoreMax']>=score-5)\n",
    "    print('%s: avg probability %.1f%% (from data: %.1f%% out of %d)' % \\\n",
    "          (score, 50+50*np.mean(q_values[cond], axis=0), 50+50*np.mean(vb_c.RewardValue[cond], axis=0), sum(cond)))\n",
    "    values[i,0] = 50+50*np.mean(q_values[cond])\n",
    "    i+=1\n",
    "\n",
    "print('\\nHome ! serve by score:')\n",
    "i = 0\n",
    "for score in range(5,26,5):\n",
    "    cond = (vb['ActionType0']=='S') & (vb['ActionOutcome0']=='!') & (vb['ActionHome0']==1) & (vb['ScoreMax']<score) & (vb['ScoreMax']>=score-5)\n",
    "    print('%s: avg probability %.1f%% (from data: %.1f%% out of %d)' % \\\n",
    "          (score, 50+50*np.mean(q_values[cond], axis=0), 50+50*np.mean(vb_c.RewardValue[cond], axis=0), sum(cond)))\n",
    "    values[i,1] = 50+50*np.mean(q_values[cond])\n",
    "    i+=1\n",
    "\n",
    "print('\\nHome + serve by score:')\n",
    "i = 0\n",
    "for score in range(5,26,5):\n",
    "    cond = (vb['ActionType0']=='S') & (vb['ActionOutcome0']=='+') & (vb['ActionHome0']==1) & (vb['ScoreMax']<score) & (vb['ScoreMax']>=score-5)\n",
    "    print('%s: avg probability %.1f%% (from data: %.1f%% out of %d)' % \\\n",
    "          (score, 50+50*np.mean(q_values[cond], axis=0), 50+50*np.mean(vb_c.RewardValue[cond], axis=0), sum(cond)))\n",
    "    values[i,2] = 50+50*np.mean(q_values[cond])\n",
    "    i+=1\n",
    "\n",
    "import matplotlib.pyplot as plt\n",
    "plt.figure(figsize=(9,6))\n",
    "plt.title('Serve risk assessment')\n",
    "plt.ylabel('Point score probability')\n",
    "plt.xlabel('Score')\n",
    "plt.grid(True)\n",
    "#plt.bar([5,10,15,20,25], values[:,2])\n",
    "plt.bar([5,10,15,20,25], values[:,1])\n",
    "plt.bar([5,10,15,20,25], values[:,0])\n",
    "plt.legend(['!','-'],loc='lower right')\n",
    "plt.ylim(30,45)\n",
    "plt.show()"
   ]
  },
  {
   "cell_type": "markdown",
   "metadata": {},
   "source": [
    "##### Action impact calculation"
   ]
  },
  {
   "cell_type": "code",
   "execution_count": 48,
   "metadata": {},
   "outputs": [
    {
     "name": "stdout",
     "output_type": "stream",
     "text": [
      "Impact calculation completed\n"
     ]
    }
   ],
   "source": [
    "n = 0\n",
    "prevDist = -1\n",
    "prevQ = 0\n",
    "impact = np.zeros(len(vb))\n",
    "\n",
    "home_default = np.mean(q_values[(vb.ActionHome0==1)&(vb.ActionType0=='S')])\n",
    "away_default = np.mean(q_values[(vb.ActionAway0==1)&(vb.ActionType0=='S')])\n",
    "\n",
    "for i in range(len(vb)): \n",
    "    if vb.RewardDistance[i] < prevDist:\n",
    "        prevQ = q_values[i-1]\n",
    "    else:\n",
    "        if vb.ActionHome0[i]==1:\n",
    "            prevQ = home_default\n",
    "        else:\n",
    "            prevQ = away_default\n",
    "        \n",
    "    impact[i] = q_values[i]-prevQ\n",
    "    if vb.ActionAway0[i]==1:\n",
    "        impact[i] = -impact[i]\n",
    "        \n",
    "    prevDist = vb.RewardDistance[i]\n",
    "print('Impact calculation completed')"
   ]
  },
  {
   "cell_type": "code",
   "execution_count": 50,
   "metadata": {},
   "outputs": [
    {
     "name": "stdout",
     "output_type": "stream",
     "text": [
      "Trinity Western 0.022615100991994763\n",
      "Alberta 0.0183646670611671\n",
      "UBC 0.012186983256808611\n",
      "Brandon 0.00651110637333596\n",
      "Calgary 0.0060388407499113225\n",
      "Winnipeg 0.004426074121335296\n",
      "Mount Royal -0.006510975829651939\n",
      "Manitoba -0.007527697775897815\n",
      "Thompson Rivers -0.014323404254118287\n",
      "MacEwan -0.014611288133517964\n",
      "Saskatchewan -0.02269398609667504\n",
      "UBCO -0.023518719687262317\n"
     ]
    }
   ],
   "source": [
    "# Team impact\n",
    "player_impact = {}\n",
    "for player in vb.PlayerTeam.unique():\n",
    "    if len(vb[vb.PlayerTeam==player]) > 2000:\n",
    "        player_impact[player] = np.mean(impact[vb.PlayerTeam==player])\n",
    "    \n",
    "srt_impacts = {k: v for k, v in sorted(player_impact.items(), key=lambda item: item[1], reverse=True)}\n",
    "for k in srt_impacts.keys():\n",
    "    print(k, srt_impacts[k])"
   ]
  },
  {
   "cell_type": "code",
   "execution_count": 55,
   "metadata": {},
   "outputs": [
    {
     "name": "stdout",
     "output_type": "stream",
     "text": [
      "Elliot Viles 0.08289429049860043\n",
      "Eric Loeppky 0.08159408022888145\n",
      "George Hobern 0.05909091753212626\n",
      "Jackson Kennedy 0.05896578006353503\n",
      "Hamish Hazelden 0.052681469549256635\n",
      "Joel Regher 0.051962274745276954\n",
      "Daniel Thiessen 0.049383477679663154\n",
      "Jordan Canham 0.04916066732852066\n",
      "Gerard Murray 0.04804720689745546\n",
      "Arran Chambers 0.04573337975295773\n",
      "Mitchell Higgin 0.04239093537505408\n",
      "Alex Bader 0.04015857290149309\n",
      "Jordan Deshane 0.03920259031102709\n",
      "Tim Dobbert 0.03783885361721363\n",
      "Matthew Neaves 0.035689235624113136\n",
      "Daulton Sinoski 0.035153268996876576\n",
      "Tim Taylor 0.030623736346999775\n",
      "Pearson Eshenko 0.02865410760776805\n",
      "Max Vriend 0.028405600579440166\n",
      "Byron Keturakis 0.027550705238703604\n",
      "Fynn McCarthy 0.02671258559556278\n",
      "Alex McMullin 0.026653743264127415\n",
      "Tyler Schmidt 0.02456449798173895\n",
      "Jacob Kern 0.023904634554091156\n",
      "Connor Murray 0.023431595833725716\n",
      "Irvandeep Brar 0.02171479723572924\n",
      "Keith West 0.019612883827452007\n",
      "Mathew Guidi 0.019059953726461333\n",
      "Jesse Elser 0.01887074410970051\n",
      "Dylan Mortensen 0.01825113752008779\n",
      "Michael Dowhaniuk 0.01733179745892123\n",
      "Taryq Sani 0.016613048791319508\n",
      "Coltyn Liu 0.01650688753731532\n",
      "Liam Laidlaw 0.015552642103688641\n",
      "Kai Hesthammer 0.01549817033828903\n",
      "Ethan Duncan 0.01443258368690471\n",
      "Owen Schwartz 0.012510122823037194\n",
      "Seth Friesen 0.009321470046669278\n",
      "Liam Kuppe 0.007934988308341823\n",
      "Luis Lange 0.007613444278806804\n",
      "Jackson Howe 0.004928220777418017\n",
      "Garrett Jones 0.0034001347030928955\n",
      "Dustin Spiring 0.0030722750799356325\n",
      "Mac McNicol 0.0014197265097698434\n",
      "Zec Johnson 0.00039692612507871326\n",
      "Kevin Negus 0.00035124115482939135\n",
      "Adam DeJonckheere -0.0011330118293271345\n",
      "Derek Epp -0.0017710858907866742\n",
      "Denham O'Reilly -0.002227898160662336\n",
      "Matt Saly -0.00231057130464296\n",
      "Mikael Clegg -0.004281670175168315\n",
      "Brennan Goski -0.005302137794329765\n",
      "Trent Mounter -0.005600190801890353\n",
      "Kyle Martens -0.006152993421523999\n",
      "Adrian Dyck -0.006519748161328712\n",
      "Carter Bergen -0.006664964486844838\n",
      "Anton Napolitano -0.00684606177120682\n",
      "Mason Metcalf -0.007051616353285912\n",
      "Scott Vercaigne -0.007776105857856287\n",
      "Max Elgert -0.00801385545126284\n",
      "Darian Picklyk -0.008531328557587382\n",
      "Blain Cranston -0.008570379218878968\n",
      "Ben Hooker -0.008853139212068614\n",
      "Daniel Aspenlieder -0.0088938151858747\n",
      "Nigel Nielsen -0.010658043560424194\n",
      "Colin Fraser -0.01086391077305262\n",
      "Jack Mandryk -0.012382050650701052\n",
      "Keegan Teetaert -0.013260556232361567\n",
      "Jon Laube -0.013330190158039955\n",
      "Luke Brisbane -0.013923910969242045\n",
      "Derek Meeuwisse -0.014123316860628373\n",
      "Adam Schriemer -0.014447279889626723\n",
      "CJ Gavlas -0.016249149370632168\n",
      "Braedon Friesen -0.017052606959326425\n",
      "Jefferson Morrow -0.01765641438241085\n",
      "Carter McIntyre -0.01820922254059586\n",
      "Thomas Sorra -0.02179880811971553\n",
      "Tyson Smith -0.022256423532302578\n",
      "Brendan Warren -0.022283256047896584\n",
      "Reece Dixon -0.024621383661755276\n",
      "Keal Prince -0.027075039986405314\n",
      "Jordan Peters -0.030842311425160054\n",
      "Charlie Bringloe -0.0340834147992986\n",
      "Nick Mickelberry -0.03691626960028428\n",
      "Regan Fathers -0.03701513466715324\n",
      "Jake Fleming -0.03766158172517147\n",
      "Tanner Grieves -0.04486673061671269\n"
     ]
    }
   ],
   "source": [
    "# Player impact\n",
    "player_impact = {}\n",
    "for player in vb.PlayerName.unique():\n",
    "    if len(vb[vb.PlayerName==player]) > 500:\n",
    "        player_impact[player] = np.mean(impact[vb.PlayerName==player])\n",
    "    \n",
    "srt_impacts = {k: v for k, v in sorted(player_impact.items(), key=lambda item: item[1], reverse=True)}\n",
    "for k in srt_impacts.keys():\n",
    "    print(k, srt_impacts[k])"
   ]
  },
  {
   "cell_type": "code",
   "execution_count": 59,
   "metadata": {},
   "outputs": [
    {
     "name": "stdout",
     "output_type": "stream",
     "text": [
      "S 0.008225415998385338\n",
      "R 0.0004132612417793642\n",
      "E -0.056165834987329924\n",
      "A 0.07156828746477645\n",
      "B -0.028465171267169638\n",
      "D -0.009190209054217987\n",
      "F -0.7499313103525262\n"
     ]
    }
   ],
   "source": [
    "for action in ['S','R','E','A','B','D','F']:\n",
    "    print(action, np.mean(impact[(vb.PlayerTeam=='Brandon')&(vb.ActionType0==action)]))"
   ]
  },
  {
   "cell_type": "code",
   "execution_count": null,
   "metadata": {},
   "outputs": [],
   "source": []
  }
 ],
 "metadata": {
  "kernelspec": {
   "display_name": "Python 3.6.7 64-bit",
   "language": "python",
   "name": "python36764bitd8cc2f1ea61f43498d4bb06eb07502d2"
  },
  "language_info": {
   "codemirror_mode": {
    "name": "ipython",
    "version": 3
   },
   "file_extension": ".py",
   "mimetype": "text/x-python",
   "name": "python",
   "nbconvert_exporter": "python",
   "pygments_lexer": "ipython3",
   "version": "3.6.7"
  }
 },
 "nbformat": 4,
 "nbformat_minor": 2
}
