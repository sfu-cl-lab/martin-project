{
 "cells": [
  {
   "cell_type": "code",
   "execution_count": 2,
   "metadata": {},
   "outputs": [],
   "source": [
    "import pandas as pd\n",
    "import numpy as np\n",
    "import random\n",
    "import pickle"
   ]
  },
  {
   "cell_type": "code",
   "execution_count": 81,
   "metadata": {},
   "outputs": [
    {
     "name": "stdout",
     "output_type": "stream",
     "text": [
      "146050 lines loaded\n"
     ]
    }
   ],
   "source": [
    "vb = pd.read_csv(\"../data/vb_data_3_numZone.csv\")\n",
    "print(len(vb), 'lines loaded')"
   ]
  },
  {
   "cell_type": "code",
   "execution_count": 5,
   "metadata": {},
   "outputs": [
    {
     "name": "stdout",
     "output_type": "stream",
     "text": [
      "204\n"
     ]
    }
   ],
   "source": [
    "game_count = len(vb.GameID.unique())\n",
    "print(game_count)"
   ]
  },
  {
   "cell_type": "code",
   "execution_count": 21,
   "metadata": {},
   "outputs": [],
   "source": [
    "vb_shuffle = pd.DataFrame(columns=vb.columns)\n",
    "games = list(vb.GameID.unique())\n",
    "random.shuffle(games)\n",
    "for game in games:\n",
    "    game_data = vb.loc[vb.GameID==game]\n",
    "    vb_shuffle = pd.concat([vb_shuffle, game_data], ignore_index=True)"
   ]
  },
  {
   "cell_type": "code",
   "execution_count": 22,
   "metadata": {},
   "outputs": [
    {
     "data": {
      "text/html": [
       "<div>\n",
       "<style scoped>\n",
       "    .dataframe tbody tr th:only-of-type {\n",
       "        vertical-align: middle;\n",
       "    }\n",
       "\n",
       "    .dataframe tbody tr th {\n",
       "        vertical-align: top;\n",
       "    }\n",
       "\n",
       "    .dataframe thead th {\n",
       "        text-align: right;\n",
       "    }\n",
       "</style>\n",
       "<table border=\"1\" class=\"dataframe\">\n",
       "  <thead>\n",
       "    <tr style=\"text-align: right;\">\n",
       "      <th></th>\n",
       "      <th>Season</th>\n",
       "      <th>GameID</th>\n",
       "      <th>PlayerTeam</th>\n",
       "      <th>PlayerName</th>\n",
       "      <th>RewardValue</th>\n",
       "      <th>RewardDistance</th>\n",
       "      <th>SetNumber</th>\n",
       "      <th>ScoreMax</th>\n",
       "      <th>ScoreDiff</th>\n",
       "      <th>ActionHome9</th>\n",
       "      <th>...</th>\n",
       "      <th>ActionOutcome1</th>\n",
       "      <th>ActionHome0</th>\n",
       "      <th>ActionAway0</th>\n",
       "      <th>ActionType0</th>\n",
       "      <th>ActionStartX0</th>\n",
       "      <th>ActionStartY0</th>\n",
       "      <th>ActionEndX0</th>\n",
       "      <th>ActionEndY0</th>\n",
       "      <th>ActionSpeed0</th>\n",
       "      <th>ActionOutcome0</th>\n",
       "    </tr>\n",
       "  </thead>\n",
       "  <tbody>\n",
       "    <tr>\n",
       "      <th>0</th>\n",
       "      <td>2019/2020</td>\n",
       "      <td>Canada West MVB&lt;19&gt;: Trinity Western - UBCO</td>\n",
       "      <td>Trinity Western</td>\n",
       "      <td>Brodie Hofer</td>\n",
       "      <td>-1</td>\n",
       "      <td>4</td>\n",
       "      <td>1</td>\n",
       "      <td>0</td>\n",
       "      <td>0</td>\n",
       "      <td>0</td>\n",
       "      <td>...</td>\n",
       "      <td>0</td>\n",
       "      <td>1</td>\n",
       "      <td>0</td>\n",
       "      <td>S</td>\n",
       "      <td>4.50</td>\n",
       "      <td>7.50</td>\n",
       "      <td>4.50</td>\n",
       "      <td>7.50</td>\n",
       "      <td>1</td>\n",
       "      <td>-</td>\n",
       "    </tr>\n",
       "    <tr>\n",
       "      <th>1</th>\n",
       "      <td>2019/2020</td>\n",
       "      <td>Canada West MVB&lt;19&gt;: Trinity Western - UBCO</td>\n",
       "      <td>UBCO</td>\n",
       "      <td>Denham O'Reilly</td>\n",
       "      <td>-1</td>\n",
       "      <td>3</td>\n",
       "      <td>1</td>\n",
       "      <td>0</td>\n",
       "      <td>0</td>\n",
       "      <td>0</td>\n",
       "      <td>...</td>\n",
       "      <td>-</td>\n",
       "      <td>0</td>\n",
       "      <td>1</td>\n",
       "      <td>R</td>\n",
       "      <td>4.50</td>\n",
       "      <td>7.50</td>\n",
       "      <td>6.75</td>\n",
       "      <td>0.75</td>\n",
       "      <td>1</td>\n",
       "      <td>+</td>\n",
       "    </tr>\n",
       "    <tr>\n",
       "      <th>2</th>\n",
       "      <td>2019/2020</td>\n",
       "      <td>Canada West MVB&lt;19&gt;: Trinity Western - UBCO</td>\n",
       "      <td>UBCO</td>\n",
       "      <td>Jakob Hamilton</td>\n",
       "      <td>-1</td>\n",
       "      <td>2</td>\n",
       "      <td>1</td>\n",
       "      <td>0</td>\n",
       "      <td>0</td>\n",
       "      <td>0</td>\n",
       "      <td>...</td>\n",
       "      <td>+</td>\n",
       "      <td>0</td>\n",
       "      <td>1</td>\n",
       "      <td>E</td>\n",
       "      <td>6.75</td>\n",
       "      <td>0.75</td>\n",
       "      <td>8.25</td>\n",
       "      <td>0.75</td>\n",
       "      <td>1</td>\n",
       "      <td>#</td>\n",
       "    </tr>\n",
       "    <tr>\n",
       "      <th>3</th>\n",
       "      <td>2019/2020</td>\n",
       "      <td>Canada West MVB&lt;19&gt;: Trinity Western - UBCO</td>\n",
       "      <td>UBCO</td>\n",
       "      <td>Cam Vanderveen</td>\n",
       "      <td>-1</td>\n",
       "      <td>1</td>\n",
       "      <td>1</td>\n",
       "      <td>0</td>\n",
       "      <td>0</td>\n",
       "      <td>0</td>\n",
       "      <td>...</td>\n",
       "      <td>#</td>\n",
       "      <td>0</td>\n",
       "      <td>1</td>\n",
       "      <td>A</td>\n",
       "      <td>7.50</td>\n",
       "      <td>1.50</td>\n",
       "      <td>4.50</td>\n",
       "      <td>1.50</td>\n",
       "      <td>1</td>\n",
       "      <td>#</td>\n",
       "    </tr>\n",
       "    <tr>\n",
       "      <th>4</th>\n",
       "      <td>2019/2020</td>\n",
       "      <td>Canada West MVB&lt;19&gt;: Trinity Western - UBCO</td>\n",
       "      <td>Trinity Western</td>\n",
       "      <td>Derek Epp</td>\n",
       "      <td>-1</td>\n",
       "      <td>0</td>\n",
       "      <td>1</td>\n",
       "      <td>0</td>\n",
       "      <td>0</td>\n",
       "      <td>0</td>\n",
       "      <td>...</td>\n",
       "      <td>#</td>\n",
       "      <td>1</td>\n",
       "      <td>0</td>\n",
       "      <td>B</td>\n",
       "      <td>1.50</td>\n",
       "      <td>1.50</td>\n",
       "      <td>1.50</td>\n",
       "      <td>1.50</td>\n",
       "      <td>-1</td>\n",
       "      <td>-</td>\n",
       "    </tr>\n",
       "  </tbody>\n",
       "</table>\n",
       "<p>5 rows × 99 columns</p>\n",
       "</div>"
      ],
      "text/plain": [
       "      Season                                       GameID       PlayerTeam  \\\n",
       "0  2019/2020  Canada West MVB<19>: Trinity Western - UBCO  Trinity Western   \n",
       "1  2019/2020  Canada West MVB<19>: Trinity Western - UBCO             UBCO   \n",
       "2  2019/2020  Canada West MVB<19>: Trinity Western - UBCO             UBCO   \n",
       "3  2019/2020  Canada West MVB<19>: Trinity Western - UBCO             UBCO   \n",
       "4  2019/2020  Canada West MVB<19>: Trinity Western - UBCO  Trinity Western   \n",
       "\n",
       "        PlayerName RewardValue RewardDistance SetNumber ScoreMax ScoreDiff  \\\n",
       "0     Brodie Hofer          -1              4         1        0         0   \n",
       "1  Denham O'Reilly          -1              3         1        0         0   \n",
       "2   Jakob Hamilton          -1              2         1        0         0   \n",
       "3   Cam Vanderveen          -1              1         1        0         0   \n",
       "4        Derek Epp          -1              0         1        0         0   \n",
       "\n",
       "  ActionHome9      ...       ActionOutcome1 ActionHome0  ActionAway0  \\\n",
       "0           0      ...                    0           1            0   \n",
       "1           0      ...                    -           0            1   \n",
       "2           0      ...                    +           0            1   \n",
       "3           0      ...                    #           0            1   \n",
       "4           0      ...                    #           1            0   \n",
       "\n",
       "   ActionType0  ActionStartX0  ActionStartY0 ActionEndX0 ActionEndY0  \\\n",
       "0            S           4.50           7.50        4.50        7.50   \n",
       "1            R           4.50           7.50        6.75        0.75   \n",
       "2            E           6.75           0.75        8.25        0.75   \n",
       "3            A           7.50           1.50        4.50        1.50   \n",
       "4            B           1.50           1.50        1.50        1.50   \n",
       "\n",
       "  ActionSpeed0 ActionOutcome0  \n",
       "0            1              -  \n",
       "1            1              +  \n",
       "2            1              #  \n",
       "3            1              #  \n",
       "4           -1              -  \n",
       "\n",
       "[5 rows x 99 columns]"
      ]
     },
     "execution_count": 22,
     "metadata": {},
     "output_type": "execute_result"
    }
   ],
   "source": [
    "vb_shuffle.head()"
   ]
  },
  {
   "cell_type": "code",
   "execution_count": 24,
   "metadata": {},
   "outputs": [],
   "source": [
    "from keras.models import Sequential\n",
    "from keras.layers import Dense"
   ]
  },
  {
   "cell_type": "code",
   "execution_count": 79,
   "metadata": {},
   "outputs": [
    {
     "ename": "NameError",
     "evalue": "name 'vb' is not defined",
     "output_type": "error",
     "traceback": [
      "\u001b[1;31m---------------------------------------------------------------------------\u001b[0m",
      "\u001b[1;31mNameError\u001b[0m                                 Traceback (most recent call last)",
      "\u001b[1;32m<ipython-input-79-58d2344c20d5>\u001b[0m in \u001b[0;36m<module>\u001b[1;34m\u001b[0m\n\u001b[1;32m----> 1\u001b[1;33m \u001b[0mX\u001b[0m \u001b[1;33m=\u001b[0m \u001b[0mvb\u001b[0m\u001b[1;33m.\u001b[0m\u001b[0mdrop\u001b[0m\u001b[1;33m(\u001b[0m\u001b[1;33m[\u001b[0m\u001b[1;34m'Season'\u001b[0m\u001b[1;33m,\u001b[0m \u001b[1;34m'GameID'\u001b[0m\u001b[1;33m,\u001b[0m \u001b[1;34m'PlayerTeam'\u001b[0m\u001b[1;33m,\u001b[0m \u001b[1;34m'PlayerName'\u001b[0m\u001b[1;33m,\u001b[0m \u001b[1;34m'RewardDistance'\u001b[0m\u001b[1;33m,\u001b[0m \u001b[1;34m'RewardValue'\u001b[0m\u001b[1;33m]\u001b[0m\u001b[1;33m,\u001b[0m \u001b[0maxis\u001b[0m\u001b[1;33m=\u001b[0m\u001b[1;36m1\u001b[0m\u001b[1;33m)\u001b[0m\u001b[1;33m\u001b[0m\u001b[1;33m\u001b[0m\u001b[0m\n\u001b[0m\u001b[0;32m      2\u001b[0m \u001b[1;33m\u001b[0m\u001b[0m\n\u001b[0;32m      3\u001b[0m \u001b[1;33m\u001b[0m\u001b[0m\n\u001b[0;32m      4\u001b[0m \u001b[0mcols\u001b[0m \u001b[1;33m=\u001b[0m \u001b[1;33m[\u001b[0m\u001b[0mcol\u001b[0m \u001b[1;32mfor\u001b[0m \u001b[0mcol\u001b[0m \u001b[1;32min\u001b[0m \u001b[0mlist\u001b[0m\u001b[1;33m(\u001b[0m\u001b[0mX\u001b[0m\u001b[1;33m.\u001b[0m\u001b[0mcolumns\u001b[0m\u001b[1;33m)\u001b[0m \u001b[1;32mif\u001b[0m \u001b[0mX\u001b[0m\u001b[1;33m[\u001b[0m\u001b[0mcol\u001b[0m\u001b[1;33m]\u001b[0m\u001b[1;33m.\u001b[0m\u001b[0mdtype\u001b[0m \u001b[1;33m==\u001b[0m \u001b[1;34m'object'\u001b[0m\u001b[1;33m]\u001b[0m\u001b[1;33m\u001b[0m\u001b[1;33m\u001b[0m\u001b[0m\n\u001b[0;32m      5\u001b[0m \u001b[0mX\u001b[0m \u001b[1;33m=\u001b[0m \u001b[0mpd\u001b[0m\u001b[1;33m.\u001b[0m\u001b[0mget_dummies\u001b[0m\u001b[1;33m(\u001b[0m\u001b[0mdata\u001b[0m\u001b[1;33m=\u001b[0m\u001b[0mX\u001b[0m\u001b[1;33m,\u001b[0m \u001b[0mcolumns\u001b[0m\u001b[1;33m=\u001b[0m\u001b[0mcols\u001b[0m\u001b[1;33m)\u001b[0m\u001b[1;33m\u001b[0m\u001b[1;33m\u001b[0m\u001b[0m\n",
      "\u001b[1;31mNameError\u001b[0m: name 'vb' is not defined"
     ]
    }
   ],
   "source": [
    "X = vb.drop(['Season', 'GameID', 'PlayerTeam', 'PlayerName', 'RewardDistance', 'RewardValue'], axis=1)\n",
    "\n",
    "\n",
    "cols = [col for col in list(X.columns) if X[col].dtype == 'object']\n",
    "X = pd.get_dummies(data=X, columns=cols)\n",
    "y = vb.RewardValue\n",
    "\n",
    "print(len(X.columns), 'columns in numerical dataframe after dummies')"
   ]
  },
  {
   "cell_type": "code",
   "execution_count": 58,
   "metadata": {},
   "outputs": [],
   "source": [
    "model = Sequential()\n",
    "model.add(Dense(1024, input_dim=204, activation='relu'))\n",
    "model.add(Dense(512, activation='relu'))\n",
    "model.add(Dense(1, activation='linear'))"
   ]
  },
  {
   "cell_type": "code",
   "execution_count": 59,
   "metadata": {},
   "outputs": [],
   "source": [
    "model.compile(loss='mse', optimizer='adam')"
   ]
  },
  {
   "cell_type": "code",
   "execution_count": 64,
   "metadata": {},
   "outputs": [
    {
     "name": "stdout",
     "output_type": "stream",
     "text": [
      "Train on 116840 samples, validate on 29210 samples\n",
      "Epoch 1/5\n",
      "116840/116840 [==============================] - 36s 312us/step - loss: 0.5842 - val_loss: 0.6405\n",
      "Epoch 2/5\n",
      "116840/116840 [==============================] - 36s 312us/step - loss: 0.5824 - val_loss: 0.6414\n",
      "Epoch 3/5\n",
      "116840/116840 [==============================] - 37s 313us/step - loss: 0.5817 - val_loss: 0.6415\n",
      "Epoch 4/5\n",
      "116840/116840 [==============================] - 37s 313us/step - loss: 0.5801 - val_loss: 0.6450\n",
      "Epoch 5/5\n",
      "116840/116840 [==============================] - 37s 313us/step - loss: 0.5783 - val_loss: 0.6433\n"
     ]
    },
    {
     "data": {
      "text/plain": [
       "<keras.callbacks.History at 0x1fa99e1f908>"
      ]
     },
     "execution_count": 64,
     "metadata": {},
     "output_type": "execute_result"
    }
   ],
   "source": [
    "model.fit(X, y, epochs=5, batch_size=32, shuffle=True, validation_split=0.2, verbose=1)"
   ]
  },
  {
   "cell_type": "code",
   "execution_count": 62,
   "metadata": {},
   "outputs": [],
   "source": [
    "y_pred = model.predict(X)"
   ]
  },
  {
   "cell_type": "code",
   "execution_count": 63,
   "metadata": {},
   "outputs": [
    {
     "data": {
      "text/plain": [
       "0.5918273591603079"
      ]
     },
     "execution_count": 63,
     "metadata": {},
     "output_type": "execute_result"
    }
   ],
   "source": [
    "from sklearn import metrics\n",
    "metrics.mean_squared_error(vb.RewardValue, y_pred)"
   ]
  },
  {
   "cell_type": "code",
   "execution_count": 7,
   "metadata": {},
   "outputs": [],
   "source": [
    "save_dir = 'C:/projects/msc-project/output_retry_8'\n",
    "state_data = pickle.load(open(save_dir + '/state_data.pkl', 'rb'))\n",
    "reward_data = pickle.load(open(save_dir + '/reward_data.pkl', 'rb'))\n",
    "reward_targets = pickle.load(open(save_dir + '/reward_targets.pkl', 'rb'))\n",
    "trace_lengths = pickle.load(open(save_dir + '/trace_lengths.pkl', 'rb'))\n",
    "episode_ids = pickle.load(open(save_dir + '/episode_ids.pkl', 'rb'))"
   ]
  },
  {
   "cell_type": "code",
   "execution_count": 8,
   "metadata": {},
   "outputs": [
    {
     "data": {
      "text/plain": [
       "array([1.0000e+00, 1.0000e+00, 1.0000e+00, ..., 3.4371e+04, 3.4371e+04,\n",
       "       3.4371e+04])"
      ]
     },
     "execution_count": 8,
     "metadata": {},
     "output_type": "execute_result"
    }
   ],
   "source": [
    "episode_ids"
   ]
  },
  {
   "cell_type": "code",
   "execution_count": 63,
   "metadata": {},
   "outputs": [],
   "source": [
    "def shuffle_data(state_data, reward_data, trace_lengths, episode_ids):\n",
    "    \n",
    "    n_samples = len(reward_data)\n",
    "    state_data_new = np.zeros([n_samples, 10, 41])\n",
    "    trace_lengths_new = np.zeros([n_samples])\n",
    "    reward_data_new = np.zeros([n_samples])\n",
    "    episode_ids_new = np.zeros([n_samples])\n",
    "\n",
    "    shuffled_episode_ids = list(range(1, (int)(np.max(episode_ids))+1))\n",
    "    random.shuffle(shuffled_episode_ids)\n",
    "\n",
    "    idx = 0\n",
    "    for ep_id in shuffled_episode_ids:\n",
    "        cond = np.where(episode_ids == ep_id)\n",
    "        i1 = cond[0][0]\n",
    "        i2 = cond[0][-1]+1\n",
    "        n = len(cond[0])\n",
    "        state_data_new[idx:idx+n,:,:] = state_data[i1:i2,:,:]\n",
    "        reward_data_new[idx:idx+n] = reward_data[i1:i2]\n",
    "        trace_lengths_new[idx:idx+n] = trace_lengths[i1:i2]\n",
    "        episode_ids_new[idx:idx+n] = episode_ids[i1:i2]\n",
    "        idx += n\n",
    "\n",
    "    return state_data_new, reward_data_new, trace_lengths_new, episode_ids_new"
   ]
  },
  {
   "cell_type": "code",
   "execution_count": 75,
   "metadata": {},
   "outputs": [],
   "source": [
    "state_data1, reward_data1, trace_lengths1, episode_ids1 = shuffle_data(state_data, reward_data, trace_lengths, episode_ids)\n",
    "state_data2, reward_data2, trace_lengths2, episode_ids2 = shuffle_data(state_data1, reward_data1, trace_lengths1, episode_ids1)"
   ]
  },
  {
   "cell_type": "code",
   "execution_count": 76,
   "metadata": {},
   "outputs": [
    {
     "data": {
      "text/plain": [
       "array([28364., 28364., 28364., 28364., 28364., 19905., 19935., 19935.,\n",
       "       19935., 19935., 33350., 33350.,  8199.,  8199.,  8199.,  8199.,\n",
       "        8199.,  8199.,    40.,    40.,    40.,    40.,    40., 21823.,\n",
       "       21823., 21823., 21823., 33980., 33980., 33980., 33980., 33980.,\n",
       "       10738., 10738., 16749., 16749., 16749., 16749., 16749., 18782.,\n",
       "       18782., 18782., 18782., 31987., 31987., 31987., 31987., 31987.,\n",
       "        6265.,  6265.,  6265.,  6265.,  6265.,  6265.,  6265., 23572.,\n",
       "       23572., 23572., 23572., 23572., 23572., 13391., 13391., 13391.,\n",
       "       13391., 13391.,  6825.,  6825.,  6825.,  6825.,  6825.,  6825.,\n",
       "        6825., 18657., 18657., 18657., 10898., 10898., 10898., 10898.,\n",
       "       24054., 24054., 24054., 24054., 24054., 22333., 22333., 22333.,\n",
       "       22333., 22333., 22333., 13767., 13767., 13767., 13767., 23321.,\n",
       "       23321., 23321., 23321., 23321.])"
      ]
     },
     "execution_count": 76,
     "metadata": {},
     "output_type": "execute_result"
    }
   ],
   "source": [
    "episode_ids2[0:100]"
   ]
  },
  {
   "cell_type": "code",
   "execution_count": 94,
   "metadata": {},
   "outputs": [
    {
     "name": "stdout",
     "output_type": "stream",
     "text": [
      "0.0\n",
      "[ 0. -1.]\n",
      "[ 0. -1.]\n",
      "[ 0. -1.]\n"
     ]
    }
   ],
   "source": [
    "s0 = reward_data[np.where(episode_ids==9454)[0]]\n",
    "s1 = reward_data1[np.where(episode_ids1==9454)[0]]\n",
    "s2 = reward_data2[np.where(episode_ids2==9454)[0]]\n",
    "print(np.sum(s1-s2))\n",
    "print(s0)\n",
    "print(s1)\n",
    "print(s2)"
   ]
  },
  {
   "cell_type": "code",
   "execution_count": 105,
   "metadata": {},
   "outputs": [
    {
     "name": "stdout",
     "output_type": "stream",
     "text": [
      "[-1.]\n"
     ]
    }
   ],
   "source": [
    "print(reward_data[np.where(episode_ids==9453)[0]])"
   ]
  },
  {
   "cell_type": "code",
   "execution_count": 106,
   "metadata": {},
   "outputs": [
    {
     "data": {
      "text/html": [
       "<div>\n",
       "<style scoped>\n",
       "    .dataframe tbody tr th:only-of-type {\n",
       "        vertical-align: middle;\n",
       "    }\n",
       "\n",
       "    .dataframe tbody tr th {\n",
       "        vertical-align: top;\n",
       "    }\n",
       "\n",
       "    .dataframe thead th {\n",
       "        text-align: right;\n",
       "    }\n",
       "</style>\n",
       "<table border=\"1\" class=\"dataframe\">\n",
       "  <thead>\n",
       "    <tr style=\"text-align: right;\">\n",
       "      <th></th>\n",
       "      <th>Season</th>\n",
       "      <th>GameID</th>\n",
       "      <th>PlayerTeam</th>\n",
       "      <th>PlayerName</th>\n",
       "      <th>RewardValue</th>\n",
       "      <th>RewardDistance</th>\n",
       "      <th>SetNumber</th>\n",
       "      <th>ScoreMax</th>\n",
       "      <th>ScoreDiff</th>\n",
       "      <th>ActionHome9</th>\n",
       "      <th>...</th>\n",
       "      <th>ActionOutcome1</th>\n",
       "      <th>ActionHome0</th>\n",
       "      <th>ActionAway0</th>\n",
       "      <th>ActionType0</th>\n",
       "      <th>ActionStartX0</th>\n",
       "      <th>ActionStartY0</th>\n",
       "      <th>ActionEndX0</th>\n",
       "      <th>ActionEndY0</th>\n",
       "      <th>ActionSpeed0</th>\n",
       "      <th>ActionOutcome0</th>\n",
       "    </tr>\n",
       "  </thead>\n",
       "  <tbody>\n",
       "    <tr>\n",
       "      <th>40154</th>\n",
       "      <td>2018/2019</td>\n",
       "      <td>Canada West MVB&lt;24&gt;: MacEwan - Calgary</td>\n",
       "      <td>MacEwan</td>\n",
       "      <td>Max Vriend</td>\n",
       "      <td>-1</td>\n",
       "      <td>0</td>\n",
       "      <td>3</td>\n",
       "      <td>5</td>\n",
       "      <td>-1</td>\n",
       "      <td>0</td>\n",
       "      <td>...</td>\n",
       "      <td>0</td>\n",
       "      <td>1</td>\n",
       "      <td>0</td>\n",
       "      <td>S</td>\n",
       "      <td>7.5</td>\n",
       "      <td>7.5</td>\n",
       "      <td>1.5</td>\n",
       "      <td>7.5</td>\n",
       "      <td>-1</td>\n",
       "      <td>=</td>\n",
       "    </tr>\n",
       "  </tbody>\n",
       "</table>\n",
       "<p>1 rows × 99 columns</p>\n",
       "</div>"
      ],
      "text/plain": [
       "          Season                                  GameID PlayerTeam  \\\n",
       "40154  2018/2019  Canada West MVB<24>: MacEwan - Calgary    MacEwan   \n",
       "\n",
       "       PlayerName  RewardValue  RewardDistance  SetNumber  ScoreMax  \\\n",
       "40154  Max Vriend           -1               0          3         5   \n",
       "\n",
       "       ScoreDiff  ActionHome9       ...        ActionOutcome1 ActionHome0  \\\n",
       "40154         -1            0       ...                     0           1   \n",
       "\n",
       "       ActionAway0  ActionType0  ActionStartX0  ActionStartY0  ActionEndX0  \\\n",
       "40154            0            S            7.5            7.5          1.5   \n",
       "\n",
       "      ActionEndY0  ActionSpeed0  ActionOutcome0  \n",
       "40154         7.5            -1               =  \n",
       "\n",
       "[1 rows x 99 columns]"
      ]
     },
     "execution_count": 106,
     "metadata": {},
     "output_type": "execute_result"
    }
   ],
   "source": [
    "vb.iloc[np.where(episode_ids==9453)[0]]"
   ]
  },
  {
   "cell_type": "code",
   "execution_count": null,
   "metadata": {},
   "outputs": [],
   "source": []
  }
 ],
 "metadata": {
  "kernelspec": {
   "display_name": "Python 3.6.7 64-bit",
   "language": "python",
   "name": "python36764bitd8cc2f1ea61f43498d4bb06eb07502d2"
  },
  "language_info": {
   "codemirror_mode": {
    "name": "ipython",
    "version": 3
   },
   "file_extension": ".py",
   "mimetype": "text/x-python",
   "name": "python",
   "nbconvert_exporter": "python",
   "pygments_lexer": "ipython3",
   "version": "3.6.7"
  }
 },
 "nbformat": 4,
 "nbformat_minor": 2
}
