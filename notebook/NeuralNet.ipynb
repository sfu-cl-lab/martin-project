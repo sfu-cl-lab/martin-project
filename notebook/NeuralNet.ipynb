{
 "cells": [
  {
   "cell_type": "code",
   "execution_count": 3,
   "metadata": {},
   "outputs": [],
   "source": [
    "import pandas as pd\n",
    "import numpy as np\n",
    "from sklearn.preprocessing import MinMaxScaler\n",
    "import pickle"
   ]
  },
  {
   "cell_type": "code",
   "execution_count": 2,
   "metadata": {},
   "outputs": [],
   "source": [
    "vb = pd.read_csv(\"../data/vb_data_numZone.csv\")"
   ]
  },
  {
   "cell_type": "code",
   "execution_count": 34,
   "metadata": {},
   "outputs": [],
   "source": [
    "q_values_raw = pickle.load(open('../output/q_values.pkl', 'rb'))\n",
    "q_values = np.asarray([q_values_raw[i,0] for i in range(len(q_values_raw))])\n",
    "y_prob_tree = pickle.load(open('../output/y_probabilities_tree.pkl', 'rb'))\n",
    "q_tree = y_prob_tree[:,1]*2 - 1"
   ]
  },
  {
   "cell_type": "code",
   "execution_count": 35,
   "metadata": {},
   "outputs": [
    {
     "name": "stdout",
     "output_type": "stream",
     "text": [
      "[0.3808491  0.32960394 0.33001888 ... 0.2206401  0.2711425  1.041408  ]\n",
      "[0.30304393 0.24038807 0.23152709 ... 0.11903945 0.2441247  1.        ]\n"
     ]
    }
   ],
   "source": [
    "print(q_values)\n",
    "print(q_tree)"
   ]
  },
  {
   "cell_type": "code",
   "execution_count": 27,
   "metadata": {},
   "outputs": [
    {
     "name": "stdout",
     "output_type": "stream",
     "text": [
      "Total mean Q for NN: 0.051546168\n",
      "Total mean Q for Tree: 0.037925512681440156\n"
     ]
    }
   ],
   "source": [
    "print('Total mean Q for NN:', np.mean(q_values))\n",
    "print('Total mean Q for Tree:', np.mean(q_tree))"
   ]
  },
  {
   "cell_type": "code",
   "execution_count": 60,
   "metadata": {},
   "outputs": [
    {
     "name": "stdout",
     "output_type": "stream",
     "text": [
      "\n",
      "Home Attack:\n",
      "=: avg Q -0.932 for tree, -1.000 for neural net)\n",
      "/: avg Q -0.920 for tree, -0.988 for neural net)\n",
      "-: avg Q -0.069 for tree, -0.060 for neural net)\n",
      "!: avg Q 0.092 for tree, 0.111 for neural net)\n",
      "+: avg Q 0.288 for tree, 0.373 for neural net)\n",
      "#: avg Q 0.986 for tree, 1.008 for neural net)\n",
      "\n",
      "Home Receive:\n",
      "=: avg Q -1.000 for tree, -1.007 for neural net)\n",
      "-: avg Q -0.132 for tree, -0.116 for neural net)\n",
      "!: avg Q 0.119 for tree, 0.174 for neural net)\n",
      "+: avg Q 0.297 for tree, 0.344 for neural net)\n",
      "#: avg Q 0.410 for tree, 0.440 for neural net)\n",
      "\n",
      "Home Serve:\n",
      "=: avg Q -1.000 for tree, -0.999 for neural net)\n",
      "-: avg Q -0.289 for tree, -0.295 for neural net)\n",
      "!: avg Q 0.119 for tree, -0.098 for neural net)\n",
      "+: avg Q 0.119 for tree, 0.200 for neural net)\n",
      "#: avg Q 1.000 for tree, 0.998 for neural net)\n",
      "\n",
      "Away Serve:\n",
      "=: avg Q 1.000 for tree, 1.018 for neural net)\n",
      "-: avg Q 0.303 for tree, 0.386 for neural net)\n",
      "!: avg Q 0.303 for tree, 0.198 for neural net)\n",
      "+: avg Q -0.129 for tree, -0.090 for neural net)\n",
      "#: avg Q -1.000 for tree, -0.994 for neural net)\n",
      "[0.11903945 0.11903945 0.11903945 ... 0.11903945 0.11903945 0.11903945]\n",
      "[0.2441247 0.2441247 0.2441247 ... 0.2441247 0.2441247 0.2441247]\n"
     ]
    }
   ],
   "source": [
    "print('\\nHome Attack:')\n",
    "for outcome in ['=','/','-','!','+','#']:\n",
    "    cond = (vb['ActionType0']=='A') & (vb['ActionHome0']==1) & (vb['ActionOutcome0']==outcome)\n",
    "    print('%s: avg Q %.3f for tree, %.3f for neural net)' % \\\n",
    "          (outcome, np.mean(q_tree[cond], axis=0), np.mean(q_values[cond], axis=0)))\n",
    "    \n",
    "print('\\nHome Receive:')\n",
    "for outcome in ['=','-','!','+','#']:\n",
    "    cond = (vb['ActionType0']=='R') & (vb['ActionHome0']==1) & (vb['ActionOutcome0']==outcome)\n",
    "    print('%s: avg Q %.3f for tree, %.3f for neural net)' % \\\n",
    "          (outcome, np.mean(q_tree[cond], axis=0), np.mean(q_values[cond], axis=0)) )\n",
    "    \n",
    "print('\\nHome Serve:')\n",
    "for outcome in ['=','-','!','+','#']:\n",
    "    cond = (vb['ActionType0']=='S') & (vb['ActionHome0']==1) & (vb['ActionOutcome0']==outcome)\n",
    "    print('%s: avg Q %.3f for tree, %.3f for neural net)' % \\\n",
    "          (outcome, np.mean(q_tree[cond], axis=0), np.mean(q_values[cond], axis=0)) )\n",
    "    \n",
    "print('\\nAway Serve:')\n",
    "for outcome in ['=','-','!','+','#']:\n",
    "    cond = (vb['ActionType0']=='S') & (vb['ActionAway0']==1) & (vb['ActionOutcome0']==outcome)\n",
    "    print('%s: avg Q %.3f for tree, %.3f for neural net)' % \\\n",
    "          (outcome, np.mean(q_tree[cond], axis=0), np.mean(q_values[cond], axis=0)) )\n",
    "    \n",
    "cond = (vb['ActionType0']=='S') & (vb['ActionHome0']==1) & (vb['ActionOutcome0']=='+')\n",
    "print(q_tree[cond])\n",
    "cond = (vb['ActionType0']=='R') & (vb['ActionAway0']==1) & (vb['ActionOutcome0']=='-')\n",
    "print(q_tree[cond])\n"
   ]
  },
  {
   "cell_type": "code",
   "execution_count": 50,
   "metadata": {},
   "outputs": [
    {
     "data": {
      "text/plain": [
       "[<matplotlib.lines.Line2D at 0x1fe426c5438>]"
      ]
     },
     "execution_count": 50,
     "metadata": {},
     "output_type": "execute_result"
    },
    {
     "data": {
      "image/png": "[encoded data removed]",
      "text/plain": [
       "<Figure size 504x288 with 1 Axes>"
      ]
     },
     "metadata": {
      "needs_background": "light"
     },
     "output_type": "display_data"
    }
   ],
   "source": [
    "import matplotlib.pyplot as plt\n",
    "plt.figure(figsize=(7,4))\n",
    "plt.xlabel('iteration number')\n",
    "plt.ylabel('consecutive iterate difference (1-norm)')\n",
    "plt.title('Convergence of NN training')\n",
    "plt.grid(True)\n",
    "plt.semilogy([2,10,20,30,40,50,60,70],[0.2375,0.00628,0.00329,0.00152,0.00086,0.00088,0.00069,0.00047])"
   ]
  },
  {
   "cell_type": "code",
   "execution_count": 87,
   "metadata": {},
   "outputs": [
    {
     "name": "stdout",
     "output_type": "stream",
     "text": [
      "Accuracy: 0.7458856345885635\n"
     ]
    }
   ],
   "source": [
    "from sklearn import metrics\n",
    "print(\"Accuracy:\", metrics.accuracy_score(np.sign(q_tree), vb.RewardValue))"
   ]
  },
  {
   "cell_type": "code",
   "execution_count": 85,
   "metadata": {},
   "outputs": [
    {
     "name": "stdout",
     "output_type": "stream",
     "text": [
      "1.989061430648521\n",
      "[ 1.0221545   1.0119308   1.0338941  -0.96705043 -0.985116    1.0324363\n",
      " -0.9743025  -0.9708614  -1.0364941  -1.0225405  -1.0383315   0.941309\n",
      " -1.0036547  -1.0001847  -0.1385398  -0.9887053  -0.96561104 -1.0359799\n",
      " -0.9912264  -1.0016415  -0.9828694  -1.0179595  -0.9651378  -1.0122312\n",
      " -1.005498   -0.98672456 -0.9267727  -0.9843691   1.0018296  -0.20468608\n",
      "  1.0382429   1.0200009  -0.99163395 -0.9319249   0.96689695 -0.92248875\n",
      " -0.95307714 -1.0203589   0.524072    0.94748455 -0.92394906 -0.98089576\n",
      "  1.029003   -1.0178856  -0.9915469  -1.0159575  -0.9872432  -0.16550711\n",
      " -0.98974925  0.96267074 -0.13794465 -0.9580372   1.0596868   0.48914218\n",
      " -1.0228784   0.9668097  -0.9836542   0.4267995   1.0198367  -1.0522717\n",
      " -0.12620157 -0.91200787 -1.0056471   1.0075047   1.0153419  -0.80953455\n",
      " -0.9921221  -0.9717044  -0.15732126 -0.89721924 -0.97713274 -0.06962697\n",
      "  1.0506333   0.20325483 -0.9734301  -0.9621962  -0.9810571  -1.002669\n",
      " -0.94598466 -0.35160524 -0.34897313 -0.3492257  -0.9774044   1.0064611\n",
      " -1.0029985  -0.13693969  1.0300933   0.09640604 -1.0167681   1.0366222\n",
      " -1.011078   -0.9109879  -0.9776322   1.0232081  -1.0381984  -0.95955294\n",
      "  1.0274684  -0.97236025 -0.97208536  1.0395583  -0.9325272   1.0222799\n",
      "  0.4484973   0.01581528 -0.9931659  -1.0189602  -0.9524356   1.0309287\n",
      " -1.0034002  -0.94687885 -1.0191216  -0.97811526  0.9878709  -0.99696314\n",
      " -0.9902397   1.0097953  -1.0292566  -1.0166891   1.0122894  -0.9791947\n",
      "  1.0079395  -0.9847489  -0.96298933  0.34050974 -0.98792505  1.0084444\n",
      " -0.9195577  -0.95906353  0.52931654 -0.9927791  -0.35915554 -0.88462925\n",
      "  1.0091707  -1.0382947  -0.15357567  0.33768564  1.0002416   1.032585\n",
      " -1.0128947  -0.97800565 -0.96249014 -1.0374137  -0.98497224 -1.0116793\n",
      "  0.4016285   1.035968   -1.0268222   1.0219389  -1.0334489  -0.99766034\n",
      " -0.9618277   1.0075998   1.0064771  -0.93729997  1.0369989  -0.15756346\n",
      " -0.06836994 -0.19159245 -0.94477624  1.0417734  -0.99953514 -0.99637014\n",
      "  0.9911645  -0.052519    1.0221342  -0.96409863  0.15767021  0.17809235\n",
      " -1.0021471   1.045085   -1.0313687  -0.99098736 -1.0390342   0.19786805\n",
      " -1.0536819  -0.9805436  -0.01967218  0.16277601 -0.94849133 -0.96770626\n",
      "  1.0049369  -1.0155921  -0.9802533  -1.0631355  -0.96678346 -0.37321508\n",
      "  1.003317   -0.9903876   0.9995826  -0.9194224  -1.0464252  -0.98755974\n",
      " -0.98162514  0.9532393   1.0269774   1.0235428   1.025703   -0.90675914\n",
      " -1.0259855   1.0330122   1.0128083  -0.3637788  -1.0151364   1.0576929\n",
      "  1.0294448   1.0399679  -0.941094   -1.0189269   0.17171383 -1.0315729\n",
      "  0.4118142   1.049642   -0.994062   -0.9829313  -1.0080476   1.0040487\n",
      " -0.9886965  -0.06444149 -0.8739127  -0.93710655  1.0238813  -0.98766494\n",
      "  1.0316796  -1.010356    1.0236194   0.23246503 -1.0138077  -0.99359787\n",
      "  1.0254939  -0.9883444  -0.9401923  -0.9776362  -0.98038805  1.0300331\n",
      " -0.9607324  -0.9986126  -1.031963    1.0288259   0.45602226  1.0150784\n",
      "  0.88195735  0.9946056  -1.0338612   1.0104373 ]\n",
      "[-0.05434783 -0.05434783 -0.05434783  0.792       0.32937685 -0.05434783\n",
      "  0.32937685  0.32937685  0.41155235  0.32937685  0.32937685 -0.25842061\n",
      "  0.41155235  0.32937685  1.          0.32937685  0.792       0.32937685\n",
      "  0.41155235  0.41155235  0.32937685  0.32937685  0.792       0.41155235\n",
      "  0.32937685  0.792       0.32937685  0.792      -0.05434783  1.\n",
      " -0.05434783 -0.05434783  0.32937685  0.32937685 -0.88888889  0.792\n",
      "  0.32937685  0.32937685 -0.66666667 -0.25842061  0.792       0.32937685\n",
      " -0.05434783  0.32937685  0.41155235  0.32937685  0.32937685  1.\n",
      "  0.32937685 -0.25842061  1.          0.32937685 -0.1875     -0.66666667\n",
      "  0.32937685 -0.25842061  0.41155235 -0.6        -0.92857143  0.32937685\n",
      "  1.          0.792       0.41155235 -0.05434783 -0.05434783  0.21621622\n",
      "  0.32937685  0.792       1.          0.32937685  0.792       1.\n",
      " -0.1875     -1.          0.792       0.32937685  0.792       0.41155235\n",
      "  0.792       0.66666667  0.66666667  0.66666667  0.792      -0.05434783\n",
      "  0.41155235  1.         -0.05434783 -1.          0.32937685 -0.05434783\n",
      "  0.32937685  0.32937685  0.32937685 -0.05434783  0.32937685  0.92727273\n",
      " -0.05434783  0.21621622  0.32937685 -0.05434783  0.32937685 -0.05434783\n",
      " -1.         -1.          0.41155235  0.41155235  0.32937685 -0.05434783\n",
      "  0.32937685  0.32937685  0.41155235  0.792      -0.05434783  0.41155235\n",
      "  0.32937685 -0.05434783  0.41155235  0.41155235 -0.05434783  0.32937685\n",
      " -0.05434783  0.32937685  0.32937685 -1.          0.32937685 -0.05434783\n",
      "  0.32937685  0.32937685 -0.66666667  0.32937685  0.66666667  0.41155235\n",
      " -0.05434783  0.32937685  1.         -1.         -0.05434783 -0.05434783\n",
      "  0.41155235  0.32937685  0.41155235  0.21621622  0.792       0.21621622\n",
      " -0.6        -0.05434783  0.41155235 -0.05434783  0.41155235  0.32937685\n",
      "  0.32937685 -0.05434783 -0.25842061  0.32937685 -0.05434783  1.\n",
      "  1.          1.          0.32937685 -0.84615385  0.792       0.792\n",
      " -0.05434783  1.         -0.05434783  0.41155235 -1.         -1.\n",
      "  0.32937685 -0.1875      0.32937685  0.32937685  0.21621622 -0.84615385\n",
      "  0.41155235  0.32937685  1.         -0.84615385  0.32937685  0.92727273\n",
      " -0.05434783  0.21621622  0.792       0.92592593  0.792       0.66666667\n",
      " -0.05434783  0.41155235 -0.05434783  0.32937685  0.92592593  0.32937685\n",
      "  0.32937685 -0.88888889 -0.88888889 -0.05434783 -0.05434783  0.32937685\n",
      "  0.41155235 -0.1875     -0.92857143  0.66666667  0.41155235 -0.1875\n",
      " -0.05434783 -0.05434783  0.32937685  0.21621622 -1.          0.32937685\n",
      " -1.         -0.92857143  0.792       0.41155235  0.32937685 -0.05434783\n",
      "  0.32937685  1.          0.792       0.32937685 -0.05434783  0.792\n",
      " -0.05434783  0.32937685 -0.05434783 -1.          0.32937685  0.32937685\n",
      " -0.05434783  0.32937685  0.32937685  0.792       0.792      -0.25842061\n",
      "  0.792       0.32937685  0.21621622 -0.25842061 -0.66666667 -0.05434783\n",
      " -0.15463918 -0.05434783  0.32937685 -0.05434783]\n",
      "Accuracy NN 0.8524590163934426\n",
      "Accuracy Tree: 0.14754098360655737\n",
      "244\n"
     ]
    }
   ],
   "source": [
    "print(np.max(np.abs(q_values-q_tree)))\n",
    "cond = (np.abs(q_values - q_tree) > 1)\n",
    "print(q_values[cond])\n",
    "print(q_tree[cond])\n",
    "print(\"Accuracy NN\", metrics.accuracy_score(np.sign(q_values[cond]), vb[cond].RewardValue))\n",
    "print(\"Accuracy Tree:\", metrics.accuracy_score(np.sign(q_tree[cond]), vb[cond].RewardValue))\n",
    "print(sum(cond))\n",
    "#print(vb[cond].ActionType0, vb[cond].ActionOutcome0, vb[cond].RewardValue)"
   ]
  },
  {
   "cell_type": "code",
   "execution_count": null,
   "metadata": {},
   "outputs": [],
   "source": []
  }
 ],
 "metadata": {
  "kernelspec": {
   "display_name": "Python 3.6.7 64-bit",
   "language": "python",
   "name": "python36764bitd8cc2f1ea61f43498d4bb06eb07502d2"
  },
  "language_info": {
   "codemirror_mode": {
    "name": "ipython",
    "version": 3
   },
   "file_extension": ".py",
   "mimetype": "text/x-python",
   "name": "python",
   "nbconvert_exporter": "python",
   "pygments_lexer": "ipython3",
   "version": "3.6.7"
  }
 },
 "nbformat": 4,
 "nbformat_minor": 2
}
