{
 "cells": [
  {
   "cell_type": "code",
   "execution_count": 1,
   "metadata": {},
   "outputs": [],
   "source": [
    "import pandas as pd\n",
    "import numpy as np\n",
    "from sklearn.preprocessing import MinMaxScaler\n",
    "import pickle"
   ]
  },
  {
   "cell_type": "code",
   "execution_count": 2,
   "metadata": {},
   "outputs": [],
   "source": [
    "vb = pd.read_csv(\"../data/vb_data_3_numZone.csv\")"
   ]
  },
  {
   "cell_type": "code",
   "execution_count": 110,
   "metadata": {},
   "outputs": [],
   "source": [
    "q_values_raw = pickle.load(open('../output/q_values_new.pkl', 'rb'))\n",
    "q_values = np.asarray([q_values_raw[i,0] for i in range(len(q_values_raw))])\n",
    "y_prob_tree = pickle.load(open('../output/y_probabilities_tree.pkl', 'rb'))\n",
    "q_tree = y_prob_tree[:,1]*2 - 1\n",
    "\n",
    "q_values_adj = q_values.copy()\n",
    "q_values_adj[np.abs(q_values) > 1] = np.sign(q_values_adj[np.abs(q_values) > 1])"
   ]
  },
  {
   "cell_type": "markdown",
   "metadata": {},
   "source": [
    "### Box plot of Q values"
   ]
  },
  {
   "cell_type": "code",
   "execution_count": 149,
   "metadata": {},
   "outputs": [
    {
     "data": {
      "image/png": "[encoded data removed]",
      "text/plain": [
       "<Figure size 648x576 with 1 Axes>"
      ]
     },
     "metadata": {
      "needs_background": "light"
     },
     "output_type": "display_data"
    },
    {
     "name": "stdout",
     "output_type": "stream",
     "text": [
      "Ratio of NN Q values outside [-1.05, 1.05] interval: 0.0048\n"
     ]
    }
   ],
   "source": [
    "import matplotlib.pyplot as plt\n",
    "data = [q_values, q_tree]\n",
    "plt.figure(figsize=(9,8))\n",
    "plt.title('Q values box plot')\n",
    "plt.grid(True)\n",
    "plt.boxplot(data, labels=('NN','Tree'), whis=[1,99])\n",
    "plt.show()\n",
    "\n",
    "threshold = 1.05\n",
    "cond = (np.abs(q_values) > threshold)\n",
    "print('Ratio of NN Q values outside [-%.2f, %.2f] interval: %.4f' % (threshold, threshold, sum(cond)/len(q_values)))"
   ]
  },
  {
   "cell_type": "code",
   "execution_count": 94,
   "metadata": {
    "scrolled": false
   },
   "outputs": [
    {
     "name": "stdout",
     "output_type": "stream",
     "text": [
      "Total for   NN:   mean: 0.0241,   max: 1.2025,   min: -1.1552\n",
      "Total for Tree:   mean: 0.0348,   max: 1.0000,   min: -1.0000\n",
      "\n",
      "Total average for serve action from data: 0.0257\n",
      "Total average for serve action for NN: 0.0145\n",
      "Total average for serve action for Tree : 0.0257\n"
     ]
    }
   ],
   "source": [
    "print('Total for   NN:   mean: %.4f,   max: %.4f,   min: %.4f' % (np.mean(q_values), np.max(q_values), np.min(q_values)))\n",
    "print('Total for Tree:   mean: %.4f,   max: %.4f,   min: %.4f' % (np.mean(q_tree), np.max(q_tree), np.min(q_tree)))\n",
    "\n",
    "#print(np.mean(q_values) - np.mean(q_tree))\n",
    "#q_values_adj = q_values - np.mean(q_values) + np.mean(q_tree)\n",
    "\n",
    "print('\\nTotal average for serve action from data: %.4f' % (np.mean(vb.RewardValue[vb.ActionType0=='S'])))\n",
    "print('Total average for serve action for NN: %.4f' % (np.mean(q_values[vb.ActionType0=='S'])))\n",
    "print('Total average for serve action for Tree : %.4f' % (np.mean(q_tree[vb.ActionType0=='S'])))"
   ]
  },
  {
   "cell_type": "markdown",
   "metadata": {},
   "source": [
    "### Action outcome breakdown"
   ]
  },
  {
   "cell_type": "code",
   "execution_count": 100,
   "metadata": {},
   "outputs": [
    {
     "name": "stdout",
     "output_type": "stream",
     "text": [
      "\n",
      "Home S\n",
      "=: avg Q -1.000 for tree, -0.997 for neural net, -1.000 from data\n",
      "-: avg Q -0.293 for tree, -0.304 for neural net, -0.293 from data\n",
      "!: avg Q 0.103 for tree, -0.116 for neural net, -0.106 from data\n",
      "+: avg Q 0.103 for tree, 0.207 for neural net, 0.238 from data\n",
      "#: avg Q 1.000 for tree, 0.995 for neural net, 1.000 from data\n",
      "\n",
      "Home R\n",
      "=: avg Q -1.000 for tree, -0.998 for neural net, -1.000 from data\n",
      "-: avg Q -0.167 for tree, -0.178 for neural net, -0.166 from data\n",
      "!: avg Q 0.104 for tree, 0.091 for neural net, 0.118 from data\n",
      "+: avg Q 0.287 for tree, 0.301 for neural net, 0.321 from data\n",
      "#: avg Q 0.437 for tree, 0.414 for neural net, 0.447 from data\n",
      "\n",
      "Home E\n",
      "=: avg Q -0.941 for tree, -0.995 for neural net, -1.000 from data\n",
      "-: avg Q -0.080 for tree, -0.229 for neural net, -0.187 from data\n",
      "+: avg Q 0.364 for tree, 0.339 for neural net, 0.372 from data\n",
      "#: avg Q 0.317 for tree, 0.295 for neural net, 0.316 from data\n",
      "\n",
      "Home A\n",
      "=: avg Q -0.991 for tree, -0.995 for neural net, -1.000 from data\n",
      "/: avg Q -0.984 for tree, -1.003 for neural net, -1.000 from data\n",
      "-: avg Q 0.020 for tree, -0.090 for neural net, -0.071 from data\n",
      "!: avg Q 0.107 for tree, 0.099 for neural net, 0.127 from data\n",
      "+: avg Q 0.302 for tree, 0.353 for neural net, 0.362 from data\n",
      "#: avg Q 0.947 for tree, 0.996 for neural net, 1.000 from data\n",
      "\n",
      "Home B\n",
      "=: avg Q -0.870 for tree, -1.005 for neural net, -1.000 from data\n",
      "-: avg Q -1.000 for tree, -1.000 for neural net, -1.000 from data\n",
      "!: avg Q 0.103 for tree, 0.030 for neural net, 0.052 from data\n",
      "+: avg Q 0.218 for tree, 0.120 for neural net, 0.142 from data\n",
      "#: avg Q 0.999 for tree, 0.997 for neural net, 1.000 from data\n",
      "\n",
      "Home D\n",
      "=: avg Q -1.000 for tree, -0.987 for neural net, -1.000 from data\n",
      "-: avg Q -0.159 for tree, -0.851 for neural net, -1.000 from data\n",
      "!: avg Q -0.289 for tree, -0.302 for neural net, -0.282 from data\n",
      "+: avg Q 0.226 for tree, -0.081 for neural net, 0.000 from data\n",
      "#: avg Q 0.217 for tree, 0.127 for neural net, 0.147 from data\n"
     ]
    }
   ],
   "source": [
    "for action in ['S','R','E','A','B','D']:\n",
    "    print('\\nHome ' + action)\n",
    "    for outcome in ['=','/','-','!','+','#']:\n",
    "        cond = (vb['ActionType0']==action) & (vb['ActionHome0']==1) & (vb['ActionOutcome0']==outcome)\n",
    "        if (sum(cond) > 0):\n",
    "            print('%s: avg Q %.3f for tree, %.3f for neural net, %.3f from data' % \\\n",
    "              (outcome, np.mean(q_tree[cond], axis=0), np.mean(q_values[cond], axis=0), np.mean(vb.RewardValue[cond], axis=0)))"
   ]
  },
  {
   "cell_type": "markdown",
   "metadata": {},
   "source": [
    "### Accuracy as a classifier"
   ]
  },
  {
   "cell_type": "code",
   "execution_count": 111,
   "metadata": {},
   "outputs": [
    {
     "name": "stdout",
     "output_type": "stream",
     "text": [
      "Accuracy Tree: 0.7492571037315988\n",
      "Accuracy NN: 0.7533242040397125\n",
      "Accuracy difference: 0.004067100308113636\n"
     ]
    }
   ],
   "source": [
    "from sklearn import metrics\n",
    "tree_pred = np.sign(np.sign(q_tree)+0.01)\n",
    "nn_pred = np.sign(q_values)\n",
    "print(\"Accuracy Tree:\", metrics.accuracy_score(tree_pred, vb.RewardValue))\n",
    "print(\"Accuracy NN:\", metrics.accuracy_score(nn_pred, vb.RewardValue))\n",
    "print(\"Accuracy difference:\", metrics.accuracy_score(nn_pred, vb.RewardValue)-metrics.accuracy_score(tree_pred, vb.RewardValue))\n",
    "#print(\"Accuracy adjusted NN:\", metrics.accuracy_score(np.sign(q_values_adj), vb.RewardValue))"
   ]
  },
  {
   "cell_type": "code",
   "execution_count": 122,
   "metadata": {},
   "outputs": [
    {
     "name": "stdout",
     "output_type": "stream",
     "text": [
      "When NN as classifier is wrong:\n",
      "36027 cases\n",
      "NN mean abs error: 1.219121639399241\n",
      "NN max abs error: 1.84950852394104\n",
      "\n",
      "When Tree as classifier is wrong:\n",
      "36621 cases\n",
      "Tree mean abs error: 1.2224767168712547\n",
      "Tree max abs error: 1.968503937007874\n"
     ]
    }
   ],
   "source": [
    "print('When NN as classifier is wrong:')\n",
    "cond = (nn_pred != vb.RewardValue) #& (tree_pred == vb.RewardValue)\n",
    "print(sum(cond), 'cases')\n",
    "#print('Tree mean abs error:', np.mean(np.abs(q_tree[cond]-vb.RewardValue[cond])))\n",
    "print('NN mean abs error:', np.mean(np.abs(q_values[cond]-vb.RewardValue[cond])))\n",
    "print('NN max abs error:', np.max(np.abs(q_values[cond]-vb.RewardValue[cond])))\n",
    "print('\\nWhen Tree as classifier is wrong:')\n",
    "cond = (tree_pred != vb.RewardValue) #& (nn_pred == vb.RewardValue)\n",
    "print(sum(cond), 'cases')\n",
    "#print('NN mean abs error:', np.mean(np.abs(q_values[cond]-vb.RewardValue[cond])))\n",
    "print('Tree mean abs error:', np.mean(np.abs(q_tree[cond]-vb.RewardValue[cond])))\n",
    "print('Tree max abs error:', np.max(np.abs(q_tree[cond]-vb.RewardValue[cond])))"
   ]
  },
  {
   "cell_type": "code",
   "execution_count": 131,
   "metadata": {},
   "outputs": [
    {
     "name": "stdout",
     "output_type": "stream",
     "text": [
      "Tree:\n",
      "[[0.7076074  0.2923926 ]\n",
      " [0.21189424 0.78810576]]\n",
      "\n",
      "NN:\n",
      "[[0.73781284 0.26218716]\n",
      " [0.23220761 0.76779239]]\n"
     ]
    }
   ],
   "source": [
    "print('Tree:')\n",
    "print(metrics.confusion_matrix(vb.RewardValue, np.sign(np.sign(q_tree)+0.01), normalize='true'))\n",
    "print('\\nNN:')\n",
    "print(metrics.confusion_matrix(vb.RewardValue, np.sign(q_values), normalize='true'))\n",
    "#print('\\nAdjusted NN:')\n",
    "#print(metrics.confusion_matrix(vb.RewardValue, np.sign(q_values_adj)))"
   ]
  },
  {
   "cell_type": "markdown",
   "metadata": {},
   "source": [
    "### Distance from end of rally analysis"
   ]
  },
  {
   "cell_type": "code",
   "execution_count": 147,
   "metadata": {},
   "outputs": [
    {
     "data": {
      "image/png": "[encoded data removed]",
      "text/plain": [
       "<Figure size 864x576 with 1 Axes>"
      ]
     },
     "metadata": {
      "needs_background": "light"
     },
     "output_type": "display_data"
    }
   ],
   "source": [
    "accs_nn = []\n",
    "accs_tree = []\n",
    "for dist in range(0,10):\n",
    "    cond = (vb.RewardDistance == dist)\n",
    "    #print('\\nTree accuracy for distance %d: %.4f' % (dist, metrics.accuracy_score(tree_pred[cond], vb.RewardValue[cond])))\n",
    "    #print('NN accuracy for distance %d: %.4f' % (dist, metrics.accuracy_score(nn_pred[cond], vb.RewardValue[cond])))\n",
    "    accs_nn.append(metrics.accuracy_score(tree_pred[cond], vb.RewardValue[cond]))\n",
    "    accs_tree.append(metrics.accuracy_score(nn_pred[cond], vb.RewardValue[cond]))\n",
    "plt.figure(figsize=(12,8))\n",
    "plt.title('Accuracy vs distance from end of rally')\n",
    "plt.grid(True)\n",
    "plt.xticks(range(0,10))\n",
    "plt.xlabel('Distance from end of rally')\n",
    "plt.ylabel('Accuracy of away/home point classifier')\n",
    "plt.plot(range(0,10), accs_nn)\n",
    "plt.plot(range(0,10), accs_tree)\n",
    "plt.legend(['NN','Tree'])\n",
    "plt.show()"
   ]
  },
  {
   "cell_type": "code",
   "execution_count": null,
   "metadata": {},
   "outputs": [],
   "source": []
  }
 ],
 "metadata": {
  "kernelspec": {
   "display_name": "Python 3.6.7 64-bit",
   "language": "python",
   "name": "python36764bitd8cc2f1ea61f43498d4bb06eb07502d2"
  },
  "language_info": {
   "codemirror_mode": {
    "name": "ipython",
    "version": 3
   },
   "file_extension": ".py",
   "mimetype": "text/x-python",
   "name": "python",
   "nbconvert_exporter": "python",
   "pygments_lexer": "ipython3",
   "version": "3.6.7"
  }
 },
 "nbformat": 4,
 "nbformat_minor": 2
}
