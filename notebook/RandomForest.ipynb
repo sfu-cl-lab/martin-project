{
 "cells": [
  {
   "cell_type": "code",
   "execution_count": 1,
   "metadata": {},
   "outputs": [],
   "source": [
    "import pandas as pd\n",
    "import numpy as np\n",
    "from sklearn.ensemble import RandomForestClassifier\n",
    "from sklearn import metrics\n",
    "from sklearn.model_selection import cross_val_score"
   ]
  },
  {
   "cell_type": "code",
   "execution_count": 2,
   "metadata": {},
   "outputs": [
    {
     "name": "stdout",
     "output_type": "stream",
     "text": [
      "96795 lines loaded\n"
     ]
    }
   ],
   "source": [
    "vb = pd.read_csv(\"../data/vb_data_categZone.csv\")\n",
    "vbn = pd.read_csv(\"../data/vb_data_numZone.csv\")\n",
    "print(len(vb), 'lines loaded')"
   ]
  },
  {
   "cell_type": "code",
   "execution_count": 3,
   "metadata": {},
   "outputs": [
    {
     "name": "stdout",
     "output_type": "stream",
     "text": [
      "73 columns in categorical dataframe\n",
      "93 columns in numerical dataframe\n",
      "913 columns in categorical dataframe after dummies\n",
      "204 columns in numerical dataframe after dummies\n"
     ]
    }
   ],
   "source": [
    "X = vb.drop(['Season', 'GameID', 'PlayerTeam', 'PlayerName', 'RewardDistance', 'RewardValue'], axis=1)\n",
    "Xn = vbn.drop(['Season', 'GameID', 'PlayerTeam', 'PlayerName', 'RewardDistance', 'RewardValue'], axis=1)\n",
    "#zone_cols = [col for col in list(X.columns) if 'Start' in col or 'End' in col or 'Zone' in col]\n",
    "#outcome_cols = [col for col in list(X.columns) if 'Outcome' in col]\n",
    "\n",
    "#experiment without zones\n",
    "#X = X.drop(outcome_cols, axis=1)\n",
    "\n",
    "print(len(X.columns), 'columns in categorical dataframe')\n",
    "print(len(Xn.columns), 'columns in numerical dataframe')\n",
    "\n",
    "cols = [col for col in list(X.columns) if X[col].dtype == 'object']\n",
    "X = pd.get_dummies(data=X, columns = cols)\n",
    "y = vb.RewardValue\n",
    "\n",
    "cols = [col for col in list(Xn.columns) if Xn[col].dtype == 'object']\n",
    "Xn = pd.get_dummies(data=Xn, columns = cols)\n",
    "yn = vbn.RewardValue\n",
    "\n",
    "print(len(X.columns), 'columns in categorical dataframe after dummies')\n",
    "print(len(Xn.columns), 'columns in numerical dataframe after dummies')"
   ]
  },
  {
   "cell_type": "code",
   "execution_count": 5,
   "metadata": {
    "scrolled": true
   },
   "outputs": [
    {
     "name": "stdout",
     "output_type": "stream",
     "text": [
      "Checking max_features = 300\n",
      "Mean cross validation accuracy: 0.7476212614287927\n",
      "Checking max_features = 350\n",
      "Mean cross validation accuracy: 0.7473113280644661\n",
      "Checking max_features = 400\n",
      "Mean cross validation accuracy: 0.7475076191952065\n",
      "Checking max_features = 450\n",
      "Mean cross validation accuracy: 0.7474766258587737\n"
     ]
    }
   ],
   "source": [
    "depth = []\n",
    "for i in range(300,500,50):\n",
    "    print('Checking max_features =', i)\n",
    "    clf = RandomForestClassifier(n_estimators=100, max_features=i, max_depth=12)\n",
    "    # Perform 5-fold cross validation\n",
    "    scores = cross_val_score(estimator=clf, X=X, y=y, cv=5, n_jobs=2)\n",
    "    depth.append((i,scores.mean()))\n",
    "    print('Mean cross validation accuracy:', scores.mean())"
   ]
  },
  {
   "cell_type": "code",
   "execution_count": 4,
   "metadata": {},
   "outputs": [
    {
     "name": "stdout",
     "output_type": "stream",
     "text": [
      "Accuracy: 0.7808254558603234\n"
     ]
    }
   ],
   "source": [
    "# Create Random Forest classifer object\n",
    "clf = RandomForestClassifier(n_estimators=100, max_features=200, max_depth=13)\n",
    "# Train\n",
    "clf = clf.fit(X,y)\n",
    "y_pred = clf.predict(X)\n",
    "print(\"Accuracy:\", metrics.accuracy_score(y, y_pred))"
   ]
  },
  {
   "cell_type": "code",
   "execution_count": 8,
   "metadata": {},
   "outputs": [
    {
     "name": "stdout",
     "output_type": "stream",
     "text": [
      "Total mean probability: 0.4811775748740616\n",
      "\n",
      "Home # Receive by score:\n",
      "5: avg probability 70.6% (actual 69.7%), 100.0% classified as home point \n",
      "10: avg probability 70.8% (actual 71.5%), 100.0% classified as home point \n",
      "15: avg probability 70.8% (actual 69.9%), 100.0% classified as home point \n",
      "20: avg probability 71.5% (actual 73.5%), 100.0% classified as home point \n",
      "25: avg probability 71.3% (actual 71.3%), 100.0% classified as home point \n",
      "\n",
      "Home Set by zone:\n",
      "3A: avg probability 65.9% (actual 65.5% out of 1093), 99.8% classified as home point \n",
      "3B: avg probability 70.2% (actual 71.3% out of 1378), 99.9% classified as home point \n",
      "3C: avg probability 67.5% (actual 68.8% out of 494), 100.0% classified as home point \n",
      "3D: avg probability 65.0% (actual 61.3% out of 429), 99.8% classified as home point \n",
      "2A: avg probability 64.4% (actual 63.8% out of 152), 100.0% classified as home point \n",
      "2B: avg probability 62.9% (actual 57.6% out of 99), 98.0% classified as home point \n",
      "2C: avg probability 69.8% (actual 73.3% out of 389), 100.0% classified as home point \n",
      "2D: avg probability 65.6% (actual 64.4% out of 404), 100.0% classified as home point \n",
      "4A: avg probability 64.8% (actual 60.4% out of 106), 100.0% classified as home point \n",
      "4B: avg probability 65.6% (actual 67.0% out of 103), 99.0% classified as home point \n",
      "4C: avg probability 64.8% (actual 71.4% out of 7), 100.0% classified as home point \n",
      "4D: avg probability 55.9% (actual 25.0% out of 8), 87.5% classified as home point \n",
      "9B: avg probability 57.8% (actual 43.3% out of 30), 100.0% classified as home point \n",
      "9C: avg probability 61.4% (actual 57.3% out of 103), 100.0% classified as home point \n",
      "8B: avg probability 62.9% (actual 61.2% out of 188), 100.0% classified as home point \n",
      "8C: avg probability 61.8% (actual 65.0% out of 100), 97.0% classified as home point \n",
      "7B: avg probability 60.6% (actual 53.5% out of 43), 100.0% classified as home point \n",
      "7C: avg probability 62.6% (actual 66.7% out of 3), 100.0% classified as home point \n",
      "\n",
      "Players average point probability (as home only):\n",
      "Jordan Deshane: 49.5% (actual 49.0%)\n",
      "Ben Hooker: 56.0% (actual 57.0%)\n",
      "Matt Neaves: 55.1% (actual 57.8%)\n",
      "Danny Aspenlieder: 46.4% (actual 42.4%)\n",
      "Coltyn Liu: 53.1% (actual 53.9%)\n",
      "\n",
      "Away Attack:\n",
      "=: avg probability 10.7% (actual 0.0%), 0.0% classified as away point \n",
      "/: avg probability 10.5% (actual 0.0%), 0.0% classified as away point \n",
      "-: avg probability 43.1% (actual 42.0%), 13.5% classified as away point \n",
      "!: avg probability 46.8% (actual 47.3%), 29.3% classified as away point \n",
      "+: avg probability 57.4% (actual 63.0%), 83.6% classified as away point \n",
      "#: avg probability 94.0% (actual 100.0%), 100.0% classified as away point \n"
     ]
    }
   ],
   "source": [
    "# compute probabilities\n",
    "y_prob = clf.predict_proba(X)\n",
    "\n",
    "print('Total mean probability:', np.mean(y_prob[:,0]))\n",
    "\n",
    "print('\\nHome # Receive by score:')\n",
    "for score in range(5,26,5): #['Z3','Z4','Z2','Z9','Z8']:\n",
    "    cond = (vb['ActionType0']=='R') & (vb['ActionOutcome0']=='#') & (vb['ActionHome0']==1) & (vb['ScoreMax']<score) & (vb['ScoreMax']>=score-5)\n",
    "    y_pred = clf.predict(X[cond])\n",
    "    homepoints = len(y_pred[y_pred==1])\n",
    "    totalpoints = len(X[cond])\n",
    "    #print(score, np.mean(y_prob[cond,1], axis=0), 0.5+0.5*np.mean(vb.RewardValue[cond], axis=0))\n",
    "    print('%s: avg probability %.1f%% (actual %.1f%%), %.1f%% classified as home point ' % \\\n",
    "          (score, 100*np.mean(y_prob[cond,1], axis=0), 50+50*np.mean(vb.RewardValue[cond], axis=0),\\\n",
    "           100*homepoints/totalpoints))\n",
    "    \n",
    "    \n",
    "print('\\nHome Set by zone:')\n",
    "for zone in ['3A','3B','3C','3D','2A','2B','2C','2D','4A','4B','4C','4D','9B','9C','8B','8C','7B','7C']:\n",
    "    cond = (vb['ActionType0']=='E') & (vb['ActionHome0']==1) & (vb['ActionStartZone0']=='Z'+zone)\n",
    "    y_pred = clf.predict(X[cond])\n",
    "    homepoints = len(y_pred[y_pred==1])\n",
    "    totalpoints = len(X[cond])\n",
    "    #print(score, np.mean(y_prob[cond,1], axis=0), 0.5+0.5*np.mean(vb.RewardValue[cond], axis=0))\n",
    "    print('%s: avg probability %.1f%% (actual %.1f%% out of %d), %.1f%% classified as home point ' % \\\n",
    "          (zone, 100*np.mean(y_prob[cond,1], axis=0), 50+50*np.mean(vb.RewardValue[cond], axis=0),\\\n",
    "           len(y_pred), 100*homepoints/totalpoints))    \n",
    "\n",
    "print('\\nPlayers average point probability (as home only):')\n",
    "for name in ['Jordan Deshane','Ben Hooker','Matt Neaves','Danny Aspenlieder','Coltyn Liu']:\n",
    "    cond = (vb['PlayerName']==name) & (vb['ActionHome0']==1)\n",
    "    print('%s: %.1f%% (actual %.1f%%)' % (name, 100*np.mean(y_prob[cond,1], axis=0), 50+50*np.mean(vb.RewardValue[cond], axis=0)))\n",
    "    \n",
    "print('\\nAway Attack:')\n",
    "for outcome in ['=','/','-','!','+','#']:\n",
    "    cond = (vb['ActionType0']=='A') & (vb['ActionAway0']==1) & (vb['ActionOutcome0']==outcome)\n",
    "    y_pred = clf.predict(X[cond])\n",
    "    awaypoints = len(y_pred[y_pred==-1])\n",
    "    totalpoints = len(X[cond])\n",
    "    print('%s: avg probability %.1f%% (actual %.1f%%), %.1f%% classified as away point ' % \\\n",
    "          (outcome, 100*np.mean(y_prob[cond,0], axis=0), 50-50*np.mean(vb.RewardValue[cond], axis=0),\\\n",
    "           100*awaypoints/totalpoints))"
   ]
  },
  {
   "cell_type": "markdown",
   "metadata": {},
   "source": [
    "### Feature importance"
   ]
  },
  {
   "cell_type": "code",
   "execution_count": 29,
   "metadata": {},
   "outputs": [
    {
     "data": {
      "image/png": "[encoded data removed]",
      "text/plain": [
       "<Figure size 1080x576 with 1 Axes>"
      ]
     },
     "metadata": {
      "needs_background": "light"
     },
     "output_type": "display_data"
    },
    {
     "name": "stdout",
     "output_type": "stream",
     "text": [
      "1 ActionOutcome0_# 0.15\n",
      "2 ActionOutcome0_= 0.12\n",
      "3 ActionOutcome1_# 0.07\n",
      "4 ActionAway0 0.06\n",
      "5 ActionHome0 0.06\n",
      "6 ActionOutcome0_/ 0.04\n",
      "7 ActionOutcome1_/ 0.04\n",
      "8 ActionOutcome1_- 0.04\n",
      "9 ActionOutcome0_- 0.03\n",
      "10 ActionOutcome0_+ 0.03\n",
      "11 ActionAway1 0.02\n",
      "12 ActionType0_A 0.02\n",
      "13 ActionHome1 0.02\n",
      "14 ActionType1_A 0.01\n",
      "15 ActionOutcome0_! 0.01\n",
      "16 ScoreMax 0.01\n",
      "17 ActionOutcome1_+ 0.01\n",
      "18 ScoreDiff 0.01\n",
      "19 ActionEndZone0_Z= 0.01\n",
      "20 ActionType0_D 0.01\n",
      "21 ActionType0_E 0.01\n",
      "22 ActionSpeed0 0.01\n",
      "23 ActionType0_B 0.01\n",
      "24 ActionType1_E 0.01\n",
      "25 ActionOutcome1_! 0.01\n"
     ]
    }
   ],
   "source": [
    "import matplotlib.pyplot as plt\n",
    "plt.figure(figsize=(15,8))\n",
    "plt.bar(range(1,914),clf.feature_importances_)\n",
    "plt.show()\n",
    "\n",
    "indxs = clf.feature_importances_.argsort()[-25:][::-1]\n",
    "for i in range(1,len(indxs)+1):\n",
    "    idx = indxs[i-1]\n",
    "    print('%d %s %.2f' % (i, X.columns[idx], clf.feature_importances_[idx]))"
   ]
  },
  {
   "cell_type": "code",
   "execution_count": null,
   "metadata": {},
   "outputs": [],
   "source": []
  }
 ],
 "metadata": {
  "kernelspec": {
   "display_name": "Python 3.6.7 64-bit",
   "language": "python",
   "name": "python36764bitd8cc2f1ea61f43498d4bb06eb07502d2"
  },
  "language_info": {
   "codemirror_mode": {
    "name": "ipython",
    "version": 3
   },
   "file_extension": ".py",
   "mimetype": "text/x-python",
   "name": "python",
   "nbconvert_exporter": "python",
   "pygments_lexer": "ipython3",
   "version": "3.6.7"
  }
 },
 "nbformat": 4,
 "nbformat_minor": 2
}
