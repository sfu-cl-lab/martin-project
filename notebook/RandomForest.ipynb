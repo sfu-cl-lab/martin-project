{
 "cells": [
  {
   "cell_type": "code",
   "execution_count": 1,
   "metadata": {},
   "outputs": [],
   "source": [
    "import pandas as pd\n",
    "import numpy as np\n",
    "from sklearn.ensemble import RandomForestClassifier\n",
    "from sklearn import metrics\n",
    "from sklearn.model_selection import cross_val_score"
   ]
  },
  {
   "cell_type": "code",
   "execution_count": 2,
   "metadata": {},
   "outputs": [
    {
     "name": "stdout",
     "output_type": "stream",
     "text": [
      "146050 lines loaded\n"
     ]
    }
   ],
   "source": [
    "vb = pd.read_csv(\"../data/vb_data_3_categZone.csv\")\n",
    "vbn = pd.read_csv(\"../data/vb_data_3_numZone.csv\")\n",
    "print(len(vb), 'lines loaded')"
   ]
  },
  {
   "cell_type": "code",
   "execution_count": 3,
   "metadata": {},
   "outputs": [
    {
     "name": "stdout",
     "output_type": "stream",
     "text": [
      "73 columns in categorical dataframe\n",
      "93 columns in numerical dataframe\n",
      "926 columns in categorical dataframe after dummies\n",
      "204 columns in numerical dataframe after dummies\n"
     ]
    }
   ],
   "source": [
    "X = vb.drop(['Season', 'GameID', 'PlayerTeam', 'PlayerName', 'RewardDistance', 'RewardValue'], axis=1)\n",
    "Xn = vbn.drop(['Season', 'GameID', 'PlayerTeam', 'PlayerName', 'RewardDistance', 'RewardValue'], axis=1)\n",
    "#zone_cols = [col for col in list(X.columns) if 'Start' in col or 'End' in col or 'Zone' in col]\n",
    "#outcome_cols = [col for col in list(X.columns) if 'Outcome' in col]\n",
    "\n",
    "#experiment without zones\n",
    "#X = X.drop(outcome_cols, axis=1)\n",
    "\n",
    "print(len(X.columns), 'columns in categorical dataframe')\n",
    "print(len(Xn.columns), 'columns in numerical dataframe')\n",
    "\n",
    "cols = [col for col in list(X.columns) if X[col].dtype == 'object']\n",
    "X = pd.get_dummies(data=X, columns = cols)\n",
    "y = vb.RewardValue\n",
    "\n",
    "cols = [col for col in list(Xn.columns) if Xn[col].dtype == 'object']\n",
    "Xn = pd.get_dummies(data=Xn, columns = cols)\n",
    "yn = vbn.RewardValue\n",
    "\n",
    "print(len(X.columns), 'columns in categorical dataframe after dummies')\n",
    "print(len(Xn.columns), 'columns in numerical dataframe after dummies')"
   ]
  },
  {
   "cell_type": "code",
   "execution_count": 5,
   "metadata": {
    "scrolled": true
   },
   "outputs": [
    {
     "name": "stdout",
     "output_type": "stream",
     "text": [
      "Checking max_features = 300\n",
      "Mean cross validation accuracy: 0.7476212614287927\n",
      "Checking max_features = 350\n",
      "Mean cross validation accuracy: 0.7473113280644661\n",
      "Checking max_features = 400\n",
      "Mean cross validation accuracy: 0.7475076191952065\n",
      "Checking max_features = 450\n",
      "Mean cross validation accuracy: 0.7474766258587737\n"
     ]
    }
   ],
   "source": [
    "depth = []\n",
    "for i in range(300,500,50):\n",
    "    print('Checking max_features =', i)\n",
    "    clf = RandomForestClassifier(n_estimators=100, max_features=i, max_depth=12)\n",
    "    # Perform 5-fold cross validation\n",
    "    scores = cross_val_score(estimator=clf, X=X, y=y, cv=5, n_jobs=2)\n",
    "    depth.append((i,scores.mean()))\n",
    "    print('Mean cross validation accuracy:', scores.mean())"
   ]
  },
  {
   "cell_type": "code",
   "execution_count": 4,
   "metadata": {},
   "outputs": [
    {
     "name": "stdout",
     "output_type": "stream",
     "text": [
      "Accuracy: 0.7782540225950018\n"
     ]
    }
   ],
   "source": [
    "# Create Random Forest classifer object\n",
    "clf = RandomForestClassifier(n_estimators=100, max_features=200, max_depth=13)\n",
    "# Train\n",
    "clf = clf.fit(Xn,y)\n",
    "y_pred = clf.predict(Xn)\n",
    "print(\"Accuracy:\", metrics.accuracy_score(y, y_pred))"
   ]
  },
  {
   "cell_type": "code",
   "execution_count": 7,
   "metadata": {},
   "outputs": [
    {
     "name": "stdout",
     "output_type": "stream",
     "text": [
      "Cross entropy loss for Random Forest: 0.408\n",
      "Mean squared error for Random Forest: 0.142\n",
      "ROC-AUC score for Random Forest: 0.878\n"
     ]
    }
   ],
   "source": [
    "from sklearn import metrics\n",
    "true_prob = np.zeros([len(vb),2])\n",
    "true_prob[:,0] = .5-.5*vb.RewardValue\n",
    "true_prob[:,1] = 1 - true_prob[:,0]\n",
    "y_prob = clf.predict_proba(Xn)\n",
    "\n",
    "print('Cross entropy loss for Random Forest: %.3f' % (metrics.log_loss(true_prob,y_prob,eps=1e-4)))\n",
    "print('Mean squared error for Random Forest: %.3f' % (metrics.mean_squared_error(true_prob,y_prob)))\n",
    "print('ROC-AUC score for Random Forest: %.3f' % (metrics.roc_auc_score(true_prob,y_prob)))"
   ]
  },
  {
   "cell_type": "code",
   "execution_count": null,
   "metadata": {},
   "outputs": [],
   "source": [
    "# compute probabilities\n",
    "y_prob = clf.predict_proba(Xn)\n",
    "\n",
    "print('Total mean probability:', np.mean(y_prob[:,0]))\n",
    "\n",
    "print('\\nHome # Receive by score:')\n",
    "for score in range(5,26,5): #['Z3','Z4','Z2','Z9','Z8']:\n",
    "    cond = (vb['ActionType0']=='R') & (vb['ActionOutcome0']=='#') & (vb['ActionHome0']==1) & (vb['ScoreMax']<score) & (vb['ScoreMax']>=score-5)\n",
    "    y_pred = clf.predict(X[cond])\n",
    "    homepoints = len(y_pred[y_pred==1])\n",
    "    totalpoints = len(X[cond])\n",
    "    #print(score, np.mean(y_prob[cond,1], axis=0), 0.5+0.5*np.mean(vb.RewardValue[cond], axis=0))\n",
    "    print('%s: avg probability %.1f%% (actual %.1f%%), %.1f%% classified as home point ' % \\\n",
    "          (score, 100*np.mean(y_prob[cond,1], axis=0), 50+50*np.mean(vb.RewardValue[cond], axis=0),\\\n",
    "           100*homepoints/totalpoints))\n",
    "    \n",
    "    \n",
    "print('\\nHome Set by zone:')\n",
    "for zone in ['3A','3B','3C','3D','2A','2B','2C','2D','4A','4B','4C','4D','9B','9C','8B','8C','7B','7C']:\n",
    "    cond = (vb['ActionType0']=='E') & (vb['ActionHome0']==1) & (vb['ActionStartZone0']=='Z'+zone)\n",
    "    y_pred = clf.predict(X[cond])\n",
    "    homepoints = len(y_pred[y_pred==1])\n",
    "    totalpoints = len(X[cond])\n",
    "    #print(score, np.mean(y_prob[cond,1], axis=0), 0.5+0.5*np.mean(vb.RewardValue[cond], axis=0))\n",
    "    print('%s: avg probability %.1f%% (actual %.1f%% out of %d), %.1f%% classified as home point ' % \\\n",
    "          (zone, 100*np.mean(y_prob[cond,1], axis=0), 50+50*np.mean(vb.RewardValue[cond], axis=0),\\\n",
    "           len(y_pred), 100*homepoints/totalpoints))    \n",
    "\n",
    "print('\\nPlayers average point probability (as home only):')\n",
    "for name in ['Jordan Deshane','Ben Hooker','Matt Neaves','Danny Aspenlieder','Coltyn Liu']:\n",
    "    cond = (vb['PlayerName']==name) & (vb['ActionHome0']==1)\n",
    "    print('%s: %.1f%% (actual %.1f%%)' % (name, 100*np.mean(y_prob[cond,1], axis=0), 50+50*np.mean(vb.RewardValue[cond], axis=0)))\n",
    "    \n",
    "print('\\nHome Serve:')\n",
    "for outcome in ['=','-','!','+','#']:\n",
    "    cond = (vb['ActionType0']=='S') & (vb['ActionHome0']==1) & (vb['ActionOutcome0']==outcome)\n",
    "    y_pred = clf.predict(X[cond])\n",
    "    if sum(cond) > 0:\n",
    "        print('%s: avg probability %.1f%% (actual %.1f%%), %.1f%% classified as away point ' % \\\n",
    "          (outcome, 100*np.mean(y_prob[cond,0], axis=0), 50-50*np.mean(vb.RewardValue[cond], axis=0),\\\n",
    "           100*awaypoints/totalpoints))"
   ]
  },
  {
   "cell_type": "code",
   "execution_count": 13,
   "metadata": {},
   "outputs": [
    {
     "name": "stdout",
     "output_type": "stream",
     "text": [
      "\n",
      "Home Attack:\n",
      "=: avg probability 99.7% (actual 100.0%)\n",
      "/: avg probability 99.7% (actual 100.0%)\n",
      "-: avg probability 53.1% (actual 53.6%)\n",
      "!: avg probability 45.2% (actual 43.6%)\n",
      "+: avg probability 33.8% (actual 31.9%)\n",
      "#: avg probability 0.1% (actual 0.0%)\n"
     ]
    }
   ],
   "source": [
    "print('\\nHome Attack:')\n",
    "for outcome in ['=','/','-','!','+','#']:\n",
    "    cond = (vb['ActionType0']=='A') & (vb['ActionHome0']==1) & (vb['ActionOutcome0']==outcome)\n",
    "    y_pred = clf.predict(Xn[cond])\n",
    "    if sum(cond) > 0:\n",
    "        print('%s: avg probability %.1f%% (actual %.1f%%)' % \\\n",
    "          (outcome, 100*np.mean(y_prob[cond,0], axis=0), 50-50*np.mean(vb.RewardValue[cond], axis=0)))"
   ]
  },
  {
   "cell_type": "markdown",
   "metadata": {},
   "source": [
    "### Feature importance"
   ]
  },
  {
   "cell_type": "code",
   "execution_count": 12,
   "metadata": {},
   "outputs": [
    {
     "data": {
      "image/png": "[encoded data removed]",
      "text/plain": [
       "<Figure size 1080x576 with 1 Axes>"
      ]
     },
     "metadata": {
      "needs_background": "light"
     },
     "output_type": "display_data"
    },
    {
     "name": "stdout",
     "output_type": "stream",
     "text": [
      "1 ActionOutcome0_# 0.154\n",
      "2 ActionOutcome0_= 0.120\n",
      "3 ActionAway0 0.074\n",
      "4 ActionOutcome1_# 0.073\n",
      "5 ActionHome0 0.065\n",
      "6 ActionOutcome0_/ 0.043\n",
      "7 ActionOutcome1_/ 0.040\n",
      "8 ActionOutcome1_- 0.037\n",
      "9 ActionOutcome0_+ 0.031\n",
      "10 ActionOutcome0_- 0.030\n",
      "11 ActionHome1 0.020\n",
      "12 ActionType0_A 0.017\n",
      "13 ActionOutcome1_+ 0.015\n",
      "14 ActionOutcome0_! 0.014\n",
      "15 ActionAway1 0.014\n",
      "16 ActionEndZone0_Z= 0.011\n",
      "17 ActionType1_A 0.010\n",
      "18 ScoreMax 0.010\n",
      "19 ScoreDiff 0.010\n",
      "20 ActionType0_D 0.009\n",
      "21 ActionOutcome2_- 0.008\n",
      "22 ActionType0_B 0.008\n",
      "23 ActionType0_E 0.008\n",
      "24 ActionSpeed0 0.007\n",
      "25 ActionOutcome1_! 0.007\n"
     ]
    }
   ],
   "source": [
    "import matplotlib.pyplot as plt\n",
    "plt.figure(figsize=(15,8))\n",
    "plt.bar(range(1,927),clf.feature_importances_)\n",
    "plt.show()\n",
    "\n",
    "indxs = clf.feature_importances_.argsort()[-25:][::-1]\n",
    "for i in range(1,len(indxs)+1):\n",
    "    idx = indxs[i-1]\n",
    "    print('%d %s %.3f' % (i, X.columns[idx], clf.feature_importances_[idx]))"
   ]
  },
  {
   "cell_type": "code",
   "execution_count": 14,
   "metadata": {},
   "outputs": [],
   "source": [
    "import pickle\n",
    "y_prob = clf.predict_proba(Xn)\n",
    "pickle.dump(y_prob, open('../output/y_probabilities_forest.pkl', 'wb'))"
   ]
  },
  {
   "cell_type": "code",
   "execution_count": 47,
   "metadata": {},
   "outputs": [
    {
     "name": "stdout",
     "output_type": "stream",
     "text": [
      "Accuracy Forest: 0.7782540225950018\n",
      "Accuracy NN: 0.753974666210202\n",
      "Accuracy difference: -0.024279356384799722\n"
     ]
    }
   ],
   "source": [
    "from sklearn import metrics\n",
    "q_values_raw = pickle.load(open('../output/q_values_new.pkl', 'rb'))\n",
    "q_values = np.asarray([q_values_raw[i,0] for i in range(len(q_values_raw))])\n",
    "# clipping\n",
    "q_values = q_values + 0.05\n",
    "q_values[q_values>0.9] = 1\n",
    "q_values[q_values<-0.9] = -1\n",
    "nn_pred = np.sign(q_values)\n",
    "\n",
    "forest_pred = clf.predict(Xn)\n",
    "y_prob_forest = clf.predict_proba(Xn)\n",
    "q_forest = y_prob_forest[:,1]*2 - 1\n",
    "\n",
    "print(\"Accuracy Forest:\", metrics.accuracy_score(forest_pred, vb.RewardValue))\n",
    "print(\"Accuracy NN:\", metrics.accuracy_score(nn_pred, vb.RewardValue))\n",
    "print(\"Accuracy difference:\", metrics.accuracy_score(nn_pred, vb.RewardValue)-metrics.accuracy_score(forest_pred, vb.RewardValue))"
   ]
  },
  {
   "cell_type": "code",
   "execution_count": 48,
   "metadata": {},
   "outputs": [
    {
     "name": "stdout",
     "output_type": "stream",
     "text": [
      "4694\n",
      "-0.17213463996591394\n",
      "0.17213464\n",
      "1148\n",
      "-0.18466898954703834\n",
      "0.18466899\n",
      "212.0\n",
      "\n",
      "R ! 141 -0.008213272 -0.019275867968554815\n",
      "A - 1383 0.05091197 -0.027756611128499323\n",
      "A ! 604 0.072569035 -0.0673593709522946\n",
      "A + 356 0.047530822 0.03703640236854779\n",
      "B ! 195 -0.013098458 0.052957691723919384\n",
      "B + 208 0.022104446 -0.033573195349919996\n",
      "D ! 153 0.020672569 -0.03330463314591725\n",
      "D # 549 0.03426113 -0.04553087148942353\n",
      "E - 156 0.029210854 0.017590666174945497\n",
      "E + 114 -0.0059759915 0.003586102816757345\n",
      "E # 662 0.034388095 0.036519248830131815\n"
     ]
    }
   ],
   "source": [
    "cond = (forest_pred == vb.RewardValue) & (nn_pred != vb.RewardValue)\n",
    "print(sum(cond))\n",
    "print(np.mean(forest_pred[cond]))\n",
    "print(np.mean(nn_pred[cond]))\n",
    "cond = (forest_pred != vb.RewardValue) & (nn_pred == vb.RewardValue)\n",
    "print(sum(cond))\n",
    "print(np.mean(forest_pred[cond]))\n",
    "print(np.mean(nn_pred[cond]))\n",
    "print(sum(nn_pred[cond]))\n",
    "print()\n",
    "for action in ['S','R','A','B','D','E','F']:\n",
    "    for outcome in ['=','/','-','!','+','#']:\n",
    "        cond = (forest_pred == vb.RewardValue) & (nn_pred != vb.RewardValue) & (vb.ActionType0 == action) & (vb.ActionOutcome0 == outcome)\n",
    "        if sum(cond)>100:\n",
    "            print(action, outcome, sum(cond), np.mean(q_values[cond]), np.mean(q_forest[cond]))"
   ]
  },
  {
   "cell_type": "code",
   "execution_count": null,
   "metadata": {},
   "outputs": [],
   "source": []
  }
 ],
 "metadata": {
  "kernelspec": {
   "display_name": "Python 3.6.7 64-bit",
   "language": "python",
   "name": "python36764bitd8cc2f1ea61f43498d4bb06eb07502d2"
  },
  "language_info": {
   "codemirror_mode": {
    "name": "ipython",
    "version": 3
   },
   "file_extension": ".py",
   "mimetype": "text/x-python",
   "name": "python",
   "nbconvert_exporter": "python",
   "pygments_lexer": "ipython3",
   "version": "3.6.7"
  }
 },
 "nbformat": 4,
 "nbformat_minor": 2
}
