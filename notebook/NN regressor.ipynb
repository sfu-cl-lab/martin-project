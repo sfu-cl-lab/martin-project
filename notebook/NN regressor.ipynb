{
 "cells": [
  {
   "cell_type": "code",
   "execution_count": 22,
   "metadata": {},
   "outputs": [],
   "source": [
    "import pandas as pd\n",
    "import numpy as np\n",
    "import time\n",
    "from keras.models import Sequential\n",
    "from keras.layers import Dense\n",
    "from keras.wrappers.scikit_learn import KerasRegressor\n",
    "from sklearn.model_selection import cross_val_score\n",
    "from sklearn.model_selection import KFold\n",
    "from sklearn import metrics"
   ]
  },
  {
   "cell_type": "code",
   "execution_count": 23,
   "metadata": {},
   "outputs": [
    {
     "name": "stdout",
     "output_type": "stream",
     "text": [
      "146050 lines loaded\n"
     ]
    }
   ],
   "source": [
    "vbc = pd.read_csv(\"../data/vb_data_3_categZone.csv\")\n",
    "vb = pd.read_csv(\"../data/vb_data_3_numZone.csv\")\n",
    "print(len(vb), 'lines loaded')"
   ]
  },
  {
   "cell_type": "code",
   "execution_count": 24,
   "metadata": {},
   "outputs": [
    {
     "name": "stdout",
     "output_type": "stream",
     "text": [
      "204 columns in dataframe\n"
     ]
    }
   ],
   "source": [
    "X = vb.drop(['Season', 'GameID', 'PlayerTeam', 'PlayerName', 'RewardDistance', 'RewardValue'], axis=1)\n",
    "cols = [col for col in list(X.columns) if X[col].dtype == 'object']\n",
    "X_orig = pd.get_dummies(data=X, columns = cols)\n",
    "Y = vb.RewardValue\n",
    "print(len(X_orig.columns), 'columns in dataframe')"
   ]
  },
  {
   "cell_type": "code",
   "execution_count": 25,
   "metadata": {},
   "outputs": [],
   "source": [
    "from sklearn.preprocessing import MinMaxScaler\n",
    "scaler = MinMaxScaler()\n",
    "scaler.fit(X_orig)\n",
    "X = scaler.transform(X_orig)"
   ]
  },
  {
   "cell_type": "code",
   "execution_count": 26,
   "metadata": {},
   "outputs": [],
   "source": [
    "# define base model\n",
    "def baseline_model():\n",
    "    # create model\n",
    "    model = Sequential()\n",
    "    model.add(Dense(200, input_dim=204, kernel_initializer='normal', activation='relu'))\n",
    "    model.add(Dense(20, kernel_initializer='normal', activation='relu'))\n",
    "    model.add(Dense(1, kernel_initializer='normal', activation='tanh'))\n",
    "    # Compile model\n",
    "    model.compile(loss='mean_squared_error', optimizer='adam')\n",
    "    return model"
   ]
  },
  {
   "cell_type": "code",
   "execution_count": 27,
   "metadata": {},
   "outputs": [
    {
     "name": "stdout",
     "output_type": "stream",
     "text": [
      "CV Result for 1 epochs: -0.62570 (0.01) MSE\n",
      "Result for 1 epochs: 0.61457 MSE\n",
      "Time elapsed: 9.164573192596436\n",
      "\n",
      "CV Result for 2 epochs: -0.61484 (0.01) MSE\n",
      "Result for 2 epochs: 0.60962 MSE\n",
      "Time elapsed: 23.737534523010254\n",
      "\n",
      "CV Result for 3 epochs: -0.61441 (0.01) MSE\n",
      "Result for 3 epochs: 0.61112 MSE\n",
      "Time elapsed: 44.599096059799194\n",
      "\n",
      "CV Result for 4 epochs: -0.61618 (0.01) MSE\n",
      "Result for 4 epochs: 0.61110 MSE\n",
      "Time elapsed: 70.98557090759277\n",
      "\n",
      "CV Result for 5 epochs: -0.61448 (0.01) MSE\n",
      "Result for 5 epochs: 0.60656 MSE\n",
      "Time elapsed: 102.74872922897339\n",
      "\n",
      "CV Result for 6 epochs: -0.61391 (0.01) MSE\n",
      "Result for 6 epochs: 0.60665 MSE\n",
      "Time elapsed: 138.54797291755676\n",
      "\n",
      "CV Result for 7 epochs: -0.61156 (0.01) MSE\n",
      "Result for 7 epochs: 0.60674 MSE\n",
      "Time elapsed: 180.14660835266113\n",
      "\n",
      "CV Result for 8 epochs: -0.61469 (0.01) MSE\n",
      "Result for 8 epochs: 0.60508 MSE\n",
      "Time elapsed: 227.0126690864563\n",
      "\n",
      "CV Result for 9 epochs: -0.61424 (0.01) MSE\n",
      "Result for 9 epochs: 0.60467 MSE\n",
      "Time elapsed: 279.1561858654022\n",
      "\n",
      "CV Result for 10 epochs: -0.61542 (0.01) MSE\n",
      "Result for 10 epochs: 0.60385 MSE\n",
      "Time elapsed: 337.1728456020355\n",
      "\n",
      "CV Result for 11 epochs: -0.61412 (0.01) MSE\n",
      "Result for 11 epochs: 0.60311 MSE\n",
      "Time elapsed: 399.1032409667969\n",
      "\n",
      "CV Result for 12 epochs: -0.61650 (0.01) MSE\n",
      "Result for 12 epochs: 0.60285 MSE\n",
      "Time elapsed: 466.1914846897125\n",
      "\n",
      "CV Result for 13 epochs: -0.61729 (0.01) MSE\n",
      "Result for 13 epochs: 0.60170 MSE\n",
      "Time elapsed: 538.4667394161224\n",
      "\n",
      "CV Result for 14 epochs: -0.61887 (0.01) MSE\n",
      "Result for 14 epochs: 0.60033 MSE\n",
      "Time elapsed: 615.9346556663513\n",
      "\n",
      "CV Result for 15 epochs: -0.61943 (0.01) MSE\n",
      "Result for 15 epochs: 0.59682 MSE\n",
      "Time elapsed: 698.6875874996185\n",
      "\n"
     ]
    }
   ],
   "source": [
    "t = time.time()\n",
    "kfold = KFold(n_splits=5)\n",
    "\n",
    "for k in range(1,16):\n",
    "    estimator = KerasRegressor(build_fn=baseline_model, epochs=k, batch_size=64, verbose=0)\n",
    "    results = cross_val_score(estimator, X, Y, cv=kfold)\n",
    "    print(\"CV Result for %d epochs: %.5f (%.2f) MSE\" % (k, results.mean(), results.std()))\n",
    "    \n",
    "    estimator = KerasRegressor(build_fn=baseline_model, epochs=k, batch_size=64, verbose=0)\n",
    "    estimator.fit(X,Y)\n",
    "    yp = estimator.predict(X)\n",
    "    print(\"Result for %d epochs: %.5f MSE\" % (k, metrics.mean_squared_error(Y,yp)))\n",
    "    print(\"Time elapsed:\", time.time()-t)\n",
    "    print()"
   ]
  },
  {
   "cell_type": "code",
   "execution_count": 28,
   "metadata": {},
   "outputs": [
    {
     "name": "stdout",
     "output_type": "stream",
     "text": [
      "Epoch 1/7\n",
      "2283/2283 [==============================] - 1s 600us/step - loss: 0.6656\n",
      "Epoch 2/7\n",
      "2283/2283 [==============================] - 1s 606us/step - loss: 0.6191\n",
      "Epoch 3/7\n",
      "2283/2283 [==============================] - 1s 599us/step - loss: 0.6149\n",
      "Epoch 4/7\n",
      "2283/2283 [==============================] - 1s 587us/step - loss: 0.6130\n",
      "Epoch 5/7\n",
      "2283/2283 [==============================] - 1s 577us/step - loss: 0.6116\n",
      "Epoch 6/7\n",
      "2283/2283 [==============================] - 1s 593us/step - loss: 0.6100\n",
      "Epoch 7/7\n",
      "2283/2283 [==============================] - 1s 603us/step - loss: 0.6091\n",
      "2283/2283 [==============================] - 1s 352us/step\n",
      "0.6059091693598161\n"
     ]
    }
   ],
   "source": [
    "estimator = KerasRegressor(build_fn=baseline_model, epochs=7, batch_size=64, verbose=1)\n",
    "estimator.fit(X,Y)\n",
    "yp = estimator.predict(X)\n",
    "print(metrics.mean_squared_error(Y,yp))"
   ]
  },
  {
   "cell_type": "code",
   "execution_count": 29,
   "metadata": {},
   "outputs": [],
   "source": [
    "import pickle\n",
    "pickle.dump(yp, open('nn_regr.pkl', 'wb'))"
   ]
  },
  {
   "cell_type": "code",
   "execution_count": null,
   "metadata": {},
   "outputs": [],
   "source": []
  }
 ],
 "metadata": {
  "kernelspec": {
   "display_name": "Python 3",
   "language": "python",
   "name": "python3"
  },
  "language_info": {
   "codemirror_mode": {
    "name": "ipython",
    "version": 3
   },
   "file_extension": ".py",
   "mimetype": "text/x-python",
   "name": "python",
   "nbconvert_exporter": "python",
   "pygments_lexer": "ipython3",
   "version": "3.6.9"
  }
 },
 "nbformat": 4,
 "nbformat_minor": 2
}
