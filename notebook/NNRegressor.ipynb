{
 "cells": [
  {
   "cell_type": "code",
   "execution_count": 9,
   "metadata": {},
   "outputs": [],
   "source": [
    "import pandas as pd\n",
    "import numpy as np\n",
    "from keras.models import Sequential\n",
    "from keras.layers import Dense\n",
    "from keras.wrappers.scikit_learn import KerasRegressor\n",
    "from sklearn.model_selection import cross_val_score\n",
    "from sklearn.model_selection import KFold"
   ]
  },
  {
   "cell_type": "code",
   "execution_count": 2,
   "metadata": {},
   "outputs": [
    {
     "name": "stdout",
     "output_type": "stream",
     "text": [
      "146050 lines loaded\n"
     ]
    }
   ],
   "source": [
    "vbc = pd.read_csv(\"../data/vb_data_3_categZone.csv\")\n",
    "vb = pd.read_csv(\"../data/vb_data_3_numZone.csv\")\n",
    "print(len(vb), 'lines loaded')"
   ]
  },
  {
   "cell_type": "code",
   "execution_count": 3,
   "metadata": {},
   "outputs": [
    {
     "name": "stdout",
     "output_type": "stream",
     "text": [
      "204 columns in dataframe\n"
     ]
    }
   ],
   "source": [
    "X = vb.drop(['Season', 'GameID', 'PlayerTeam', 'PlayerName', 'RewardDistance', 'RewardValue'], axis=1)\n",
    "cols = [col for col in list(X.columns) if X[col].dtype == 'object']\n",
    "X = pd.get_dummies(data=X, columns = cols)\n",
    "Y = vb.RewardValue\n",
    "print(len(X.columns), 'columns in dataframe')"
   ]
  },
  {
   "cell_type": "code",
   "execution_count": 4,
   "metadata": {},
   "outputs": [],
   "source": [
    "from sklearn.preprocessing import MinMaxScaler\n",
    "scaler = MinMaxScaler()\n",
    "scaler.fit(X)\n",
    "X_n = scaler.transform(X)"
   ]
  },
  {
   "cell_type": "code",
   "execution_count": 10,
   "metadata": {},
   "outputs": [],
   "source": [
    "# define base model\n",
    "def baseline_model():\n",
    "    # create model\n",
    "    model = Sequential()\n",
    "    model.add(Dense(360, input_dim=204, kernel_initializer='normal', activation='relu'))\n",
    "    model.add(Dense(120, input_dim=160, kernel_initializer='normal', activation='relu'))\n",
    "    model.add(Dense(1, kernel_initializer='normal', activation='tanh'))\n",
    "    # Compile model\n",
    "    model.compile(loss='mean_squared_error', optimizer='adam')\n",
    "    return model\n",
    "\n",
    "from keras.callbacks import EarlyStopping\n",
    "es = EarlyStopping(monitor='val_loss', mode='min', verbose=1, patience=5)\n",
    "\n",
    "# evaluate model\n",
    "estimator = KerasRegressor(build_fn=baseline_model, epochs=15, batch_size=64, verbose=0)\n",
    "kfold = KFold(n_splits=5)"
   ]
  },
  {
   "cell_type": "code",
   "execution_count": 10,
   "metadata": {
    "scrolled": false
   },
   "outputs": [
    {
     "name": "stdout",
     "output_type": "stream",
     "text": [
      "Result for 3 epochs: -0.6233 (0.01) MSE\n",
      "Time elapsed: 68.32886552810669\n",
      "Result for 4 epochs: -0.6174 (0.01) MSE\n",
      "Time elapsed: 171.3441665172577\n",
      "Result for 5 epochs: -0.6166 (0.01) MSE\n",
      "Time elapsed: 302.524534702301\n",
      "Result for 6 epochs: -0.6157 (0.01) MSE\n",
      "Time elapsed: 474.5486605167389\n",
      "Result for 7 epochs: -0.6153 (0.01) MSE\n",
      "Time elapsed: 688.9392251968384\n",
      "Result for 8 epochs: -0.6180 (0.01) MSE\n",
      "Time elapsed: 946.8766977787018\n",
      "Result for 9 epochs: -0.6179 (0.01) MSE\n",
      "Time elapsed: 1235.9549872875214\n",
      "Result for 10 epochs: -0.6170 (0.01) MSE\n",
      "Time elapsed: 1578.1987149715424\n",
      "Result for 11 epochs: -0.6180 (0.01) MSE\n",
      "Time elapsed: 1981.4478669166565\n",
      "Result for 12 epochs: -0.6179 (0.01) MSE\n",
      "Time elapsed: 2457.8616428375244\n",
      "Result for 13 epochs: -0.6184 (0.01) MSE\n",
      "Time elapsed: 3016.3553421497345\n",
      "Result for 14 epochs: -0.6204 (0.01) MSE\n",
      "Time elapsed: 3657.088270187378\n",
      "Result for 15 epochs: -0.6190 (0.01) MSE\n",
      "Time elapsed: 4401.62668132782\n",
      "Result for 16 epochs: -0.6200 (0.01) MSE\n",
      "Time elapsed: 5239.880408287048\n",
      "Result for 17 epochs: -0.6193 (0.01) MSE\n",
      "Time elapsed: 6160.673115968704\n",
      "Result for 18 epochs: -0.6197 (0.01) MSE\n",
      "Time elapsed: 7093.383673429489\n",
      "Result for 19 epochs: -0.6237 (0.00) MSE\n",
      "Time elapsed: 8066.276509523392\n"
     ]
    }
   ],
   "source": [
    "import time\n",
    "t = time.time()\n",
    "for k in range(3,20):\n",
    "    estimator = KerasRegressor(build_fn=baseline_model, epochs=k, batch_size=64, verbose=0)\n",
    "    results = cross_val_score(estimator, X_n, Y, cv=kfold)\n",
    "    print(\"Result for %d epochs: %.4f (%.2f) MSE\" % (k, results.mean(), results.std()))\n",
    "    #print(results)\n",
    "    print(\"Time elapsed:\", time.time()-t)"
   ]
  },
  {
   "cell_type": "code",
   "execution_count": 12,
   "metadata": {},
   "outputs": [
    {
     "name": "stdout",
     "output_type": "stream",
     "text": [
      "3 0.614845633050413\n",
      "4 0.6090885249445158\n",
      "5 0.6098673522528847\n",
      "6 0.6087576471036178\n",
      "7 0.6078304307774619\n",
      "8 0.606563356283146\n",
      "9 0.6039002186094222\n",
      "10 0.6017533567241319\n",
      "11 0.6016242715165601\n",
      "12 0.6069657611780048\n",
      "13 0.604716299466489\n",
      "14 0.5994722546370327\n",
      "15 0.6001953628257938\n",
      "16 0.5993999326150183\n",
      "17 0.5983801387013684\n",
      "18 0.5979715852133953\n",
      "19 0.5957619439576445\n"
     ]
    }
   ],
   "source": [
    "from sklearn import metrics\n",
    "for k in range(3,20):\n",
    "    model = baseline_model()\n",
    "    model.fit(X_n,Y,epochs=k, shuffle=True, batch_size=64, verbose=0)\n",
    "    yp = model.predict(X_n)\n",
    "    print(k, metrics.mean_squared_error(Y,yp))"
   ]
  },
  {
   "cell_type": "code",
   "execution_count": 15,
   "metadata": {},
   "outputs": [
    {
     "name": "stdout",
     "output_type": "stream",
     "text": [
      "Train on 131445 samples, validate on 14605 samples\n",
      "Epoch 1/20\n",
      "131445/131445 [==============================] - 6s 43us/step - loss: 0.6469 - val_loss: 0.6230\n",
      "Epoch 2/20\n",
      "131445/131445 [==============================] - 5s 39us/step - loss: 0.6130 - val_loss: 0.6187\n",
      "Epoch 3/20\n",
      "131445/131445 [==============================] - 5s 39us/step - loss: 0.6119 - val_loss: 0.6212\n",
      "Epoch 4/20\n",
      "131445/131445 [==============================] - 5s 39us/step - loss: 0.6103 - val_loss: 0.6239\n",
      "Epoch 5/20\n",
      "131445/131445 [==============================] - 5s 39us/step - loss: 0.6098 - val_loss: 0.6196\n",
      "Epoch 6/20\n",
      "131445/131445 [==============================] - 5s 39us/step - loss: 0.6088 - val_loss: 0.6208\n",
      "Epoch 7/20\n",
      "131445/131445 [==============================] - 5s 41us/step - loss: 0.6082 - val_loss: 0.6241\n",
      "Epoch 8/20\n",
      "131445/131445 [==============================] - 5s 38us/step - loss: 0.6070 - val_loss: 0.6223\n",
      "Epoch 9/20\n",
      "131445/131445 [==============================] - 5s 39us/step - loss: 0.6063 - val_loss: 0.6211\n",
      "Epoch 10/20\n",
      "131445/131445 [==============================] - 5s 39us/step - loss: 0.6053 - val_loss: 0.6251\n",
      "Epoch 11/20\n",
      "131445/131445 [==============================] - 5s 38us/step - loss: 0.6042 - val_loss: 0.6224\n",
      "Epoch 12/20\n",
      "131445/131445 [==============================] - 5s 39us/step - loss: 0.6032 - val_loss: 0.6276\n",
      "Epoch 13/20\n",
      "131445/131445 [==============================] - 5s 39us/step - loss: 0.6021 - val_loss: 0.6252\n",
      "Epoch 14/20\n",
      "131445/131445 [==============================] - 5s 39us/step - loss: 0.6004 - val_loss: 0.6264\n",
      "Epoch 15/20\n",
      "131445/131445 [==============================] - 5s 38us/step - loss: 0.5994 - val_loss: 0.6296\n",
      "Epoch 16/20\n",
      "131445/131445 [==============================] - 5s 38us/step - loss: 0.5980 - val_loss: 0.6277\n",
      "Epoch 17/20\n",
      "131445/131445 [==============================] - 5s 39us/step - loss: 0.5968 - val_loss: 0.6308\n",
      "Epoch 18/20\n",
      "131445/131445 [==============================] - 5s 39us/step - loss: 0.5950 - val_loss: 0.6304\n",
      "Epoch 19/20\n",
      "131445/131445 [==============================] - 5s 39us/step - loss: 0.5938 - val_loss: 0.6336\n",
      "Epoch 20/20\n",
      "131445/131445 [==============================] - 5s 39us/step - loss: 0.5922 - val_loss: 0.6357\n"
     ]
    },
    {
     "data": {
      "text/plain": [
       "<keras.callbacks.History at 0x28fa0f75278>"
      ]
     },
     "execution_count": 15,
     "metadata": {},
     "output_type": "execute_result"
    }
   ],
   "source": [
    "estimator.fit(X_n,Y,epochs=20,verbose=1,shuffle=True, validation_split=0.1)"
   ]
  },
  {
   "cell_type": "code",
   "execution_count": 12,
   "metadata": {},
   "outputs": [
    {
     "name": "stdout",
     "output_type": "stream",
     "text": [
      "0.5914095700594837\n"
     ]
    }
   ],
   "source": [
    "from sklearn import metrics\n",
    "yp = estimator.predict(X_n)\n",
    "print(metrics.mean_squared_error(Y,yp))"
   ]
  },
  {
   "cell_type": "code",
   "execution_count": 13,
   "metadata": {},
   "outputs": [],
   "source": [
    "import pickle\n",
    "pickle.dump(yp, open('../output/nn_regr_test.pkl', 'wb'))"
   ]
  },
  {
   "cell_type": "code",
   "execution_count": null,
   "metadata": {},
   "outputs": [],
   "source": []
  }
 ],
 "metadata": {
  "kernelspec": {
   "display_name": "Python 3",
   "language": "python",
   "name": "python3"
  },
  "language_info": {
   "codemirror_mode": {
    "name": "ipython",
    "version": 3
   },
   "file_extension": ".py",
   "mimetype": "text/x-python",
   "name": "python",
   "nbconvert_exporter": "python",
   "pygments_lexer": "ipython3",
   "version": "3.6.7"
  }
 },
 "nbformat": 4,
 "nbformat_minor": 2
}
