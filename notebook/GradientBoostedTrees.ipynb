{
 "cells": [
  {
   "cell_type": "code",
   "execution_count": 2,
   "metadata": {},
   "outputs": [],
   "source": [
    "import pandas as pd\n",
    "import numpy as np\n",
    "from sklearn.ensemble import GradientBoostingClassifier\n",
    "from sklearn import metrics\n",
    "from sklearn.model_selection import cross_val_score"
   ]
  },
  {
   "cell_type": "code",
   "execution_count": 3,
   "metadata": {},
   "outputs": [
    {
     "name": "stdout",
     "output_type": "stream",
     "text": [
      "96795 lines loaded\n"
     ]
    }
   ],
   "source": [
    "vb = pd.read_csv(\"../data/vb_data_categZone.csv\")\n",
    "vbn = pd.read_csv(\"../data/vb_data_numZone.csv\")\n",
    "print(len(vb), 'lines loaded')"
   ]
  },
  {
   "cell_type": "code",
   "execution_count": 4,
   "metadata": {},
   "outputs": [
    {
     "name": "stdout",
     "output_type": "stream",
     "text": [
      "73 columns in categorical dataframe\n",
      "93 columns in numerical dataframe\n",
      "913 columns in categorical dataframe after dummies\n",
      "204 columns in numerical dataframe after dummies\n"
     ]
    }
   ],
   "source": [
    "X = vb.drop(['Season', 'GameID', 'PlayerTeam', 'PlayerName', 'RewardDistance', 'RewardValue'], axis=1)\n",
    "Xn = vbn.drop(['Season', 'GameID', 'PlayerTeam', 'PlayerName', 'RewardDistance', 'RewardValue'], axis=1)\n",
    "#zone_cols = [col for col in list(X.columns) if 'Start' in col or 'End' in col or 'Zone' in col]\n",
    "#outcome_cols = [col for col in list(X.columns) if 'Outcome' in col]\n",
    "\n",
    "#experiment without zones\n",
    "#X = X.drop(outcome_cols, axis=1)\n",
    "\n",
    "print(len(X.columns), 'columns in categorical dataframe')\n",
    "print(len(Xn.columns), 'columns in numerical dataframe')\n",
    "\n",
    "cols = [col for col in list(X.columns) if X[col].dtype == 'object']\n",
    "X = pd.get_dummies(data=X, columns = cols)\n",
    "y = vb.RewardValue\n",
    "\n",
    "cols = [col for col in list(Xn.columns) if Xn[col].dtype == 'object']\n",
    "Xn = pd.get_dummies(data=Xn, columns = cols)\n",
    "yn = vbn.RewardValue\n",
    "\n",
    "print(len(X.columns), 'columns in categorical dataframe after dummies')\n",
    "print(len(Xn.columns), 'columns in numerical dataframe after dummies')"
   ]
  },
  {
   "cell_type": "code",
   "execution_count": null,
   "metadata": {},
   "outputs": [],
   "source": [
    "import time\n",
    "\n",
    "for i in [12,14,16,18]:\n",
    "    t = time.time()\n",
    "    print('Checking max_features =', i)\n",
    "    clf = GradientBoostingClassifier(n_estimators=200, max_depth=i)\n",
    "    # Perform 5-fold cross validation\n",
    "    scores = cross_val_score(estimator=clf, X=X, y=y, cv=5, n_jobs=3)\n",
    "    print('Mean cross validation accuracy:', scores.mean())\n",
    "    print('Elapsed: %.2f seconds' % (time.time() - t))"
   ]
  },
  {
   "cell_type": "code",
   "execution_count": 15,
   "metadata": {},
   "outputs": [
    {
     "name": "stdout",
     "output_type": "stream",
     "text": [
      "Checking max_features = 10\n",
      "Mean cross validation accuracy: 0.7428379565060178\n",
      "Elapsed: 94.54 seconds\n"
     ]
    }
   ],
   "source": [
    "from sklearn.experimental import enable_hist_gradient_boosting\n",
    "from sklearn.ensemble import HistGradientBoostingClassifier\n",
    "\n",
    "for i in [10]:\n",
    "    t = time.time()\n",
    "    print('Checking max_features =', i)\n",
    "    clf = HistGradientBoostingClassifier(max_iter=50, max_depth=18)\n",
    "    # Perform 5-fold cross validation\n",
    "    scores = cross_val_score(estimator=clf, X=X, y=y, cv=5, n_jobs=3)\n",
    "    print('Mean cross validation accuracy:', scores.mean())\n",
    "    print('Elapsed: %.2f seconds' % (time.time() - t))"
   ]
  },
  {
   "cell_type": "code",
   "execution_count": null,
   "metadata": {},
   "outputs": [],
   "source": []
  }
 ],
 "metadata": {
  "kernelspec": {
   "display_name": "Python 3.6.7 64-bit",
   "language": "python",
   "name": "python36764bitd8cc2f1ea61f43498d4bb06eb07502d2"
  },
  "language_info": {
   "codemirror_mode": {
    "name": "ipython",
    "version": 3
   },
   "file_extension": ".py",
   "mimetype": "text/x-python",
   "name": "python",
   "nbconvert_exporter": "python",
   "pygments_lexer": "ipython3",
   "version": "3.6.7"
  }
 },
 "nbformat": 4,
 "nbformat_minor": 2
}
